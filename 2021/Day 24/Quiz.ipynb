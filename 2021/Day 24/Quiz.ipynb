{
 "cells": [
  {
   "cell_type": "markdown",
   "id": "40d558d3",
   "metadata": {},
   "source": [
    "# --- Day 24: Arithmetic Logic Unit ---"
   ]
  },
  {
   "cell_type": "code",
   "execution_count": 1,
   "id": "bc4bd7ff",
   "metadata": {},
   "outputs": [],
   "source": [
    "from Quiz import *\n",
    "import string\n",
    "from copy import deepcopy"
   ]
  },
  {
   "cell_type": "markdown",
   "id": "23a24488",
   "metadata": {},
   "source": [
    "### --- Part One ---"
   ]
  },
  {
   "cell_type": "markdown",
   "id": "63bacb20",
   "metadata": {},
   "source": [
    "Magic smoke https://en.wikipedia.org/wiki/Magic_smoke starts leaking from the submarine's arithmetic logic unit https://en.wikipedia.org/wiki/Arithmetic_logic_unit (ALU). Without the ability to perform basic arithmetic and logic functions, the submarine can't produce cool patterns with its Christmas lights!\n",
    "\n",
    "It also can't navigate. Or run the oxygen system.\n",
    "\n",
    "Don't worry, though - you __probably__ have enough oxygen left to give you enough time to build a new ALU.\n",
    "\n",
    "The ALU is a four-dimensional processing unit: it has integer variables `w`, `x`, `y`, and `z`. These variables all start with the value `0`. The ALU also supports __six instructions__:\n",
    "\n",
    "- `inp a` - Read an input value and write it to variable a.\n",
    "- `add a b` - Add the value of a to the value of b, then store the result in variable `a`.\n",
    "- `mul a b` - Multiply the value of `a` by the value of `b`, then store the result in variable `a`.\n",
    "- `div a b` - Divide the value of `a` by the value of `b`, truncate the result to an integer, then store the result in variable `a`. (Here, \"truncate\" means to round the value toward zero.)\n",
    "- `mod a b` - Divide the value of `a` by the value of `b`, then store the __remainder__ in variable `a`. (This is also called the modulo https://en.wikipedia.org/wiki/Modulo_operation operation.)\n",
    "- `eql a b` - If the value of `a` and `b` are equal, then store the value `1` in variable `a`. Otherwise, store the value `0` in variable `a`.\n",
    "\n",
    "In all of these instructions, `a` and `b` are placeholders; `a` will always be the variable where the result of the operation is stored (one of `w`, `x`, `y`, or `z`), while `b` can be either a variable or a number. Numbers can be positive or negative, but will always be integers.\n",
    "\n",
    "The ALU has no __jump__ instructions; in an ALU program, every instruction is run exactly once in order from top to bottom. The program halts after the last instruction has finished executing.\n",
    "\n",
    "(Program authors should be especially cautious; attempting to execute `div` with `b=0` or attempting to execute `mod` with `a<0` or `b<=0` will cause the program to crash and might even <ins>damage the ALU</ins>. These operations are never intended in any serious ALU program.)\n",
    "\n",
    "For example, here is an ALU program which takes an input number, negates it, and stores it in `x`:\n",
    "\n",
    "`inp x\n",
    "mul x -1`\n",
    "\n",
    "Here is an ALU program which takes two input numbers, then sets `z` to `1` if the second input number is three times larger than the first input number, or sets `z` to `0` otherwise:\n",
    "\n",
    "`inp z\n",
    "inp x\n",
    "mul z 3\n",
    "eql z x`\n",
    "\n",
    "Here is an ALU program which takes a non-negative integer as input, converts it into binary, and stores the lowest (1's) bit in `z`, the second-lowest (2's) bit in `y`, the third-lowest (4's) bit in `x`, and the fourth-lowest (8's) bit in `w`:\n",
    "\n",
    "`inp w\n",
    "add z w\n",
    "mod z 2\n",
    "div w 2\n",
    "add y w\n",
    "mod y 2\n",
    "div w 2\n",
    "add x w\n",
    "mod x 2\n",
    "div w 2\n",
    "mod w 2`\n",
    "\n",
    "Once you have built a replacement ALU, you can install it in the submarine, which will immediately resume what it was doing when the ALU failed: validating the submarine's __model number__. To do this, the ALU will run the MOdel Number Automatic Detector program (MONAD, your puzzle input).\n",
    "\n",
    "Submarine model numbers are always __fourteen-digit numbers__ consisting only of digits `1` through `9`. The digit `0` __cannot__ appear in a model number.\n",
    "\n",
    "When MONAD checks a hypothetical fourteen-digit model number, it uses fourteen separate `inp` instructions, each expecting a __single digit__ of the model number in order of most to least significant. (So, to check the model number `13579246899999`, you would give `1` to the first `inp` instruction, `3` to the second `inp` instruction, `5` to the third `inp` instruction, and so on.) This means that when operating MONAD, each input instruction should only ever be given an integer value of at least `1` and at most `9`.\n",
    "\n",
    "Then, after MONAD has finished running all of its instructions, it will indicate that the model number was __valid__ by leaving a `0` in variable `z`. However, if the model number was __invalid__, it will leave some other non-zero value in `z`.\n",
    "\n",
    "MONAD imposes additional, mysterious restrictions on model numbers, and legend says the last copy of the MONAD documentation was eaten by a tanuki https://en.wikipedia.org/wiki/Japanese_raccoon_dog. You'll need to __figure out what MONAD does__ some other way.\n",
    "\n",
    "To enable as many submarine features as possible, find the largest valid fourteen-digit model number that contains no `0` digits. \n",
    "\n",
    "__What is the largest model number accepted by MONAD?__"
   ]
  },
  {
   "cell_type": "code",
   "execution_count": 2,
   "id": "d3810417",
   "metadata": {},
   "outputs": [],
   "source": [
    "#instructions loop\n",
    "def operations(w , div , n1 , n2 , z):\n",
    "    \n",
    "    if (((z % 26) + n1) != w):\n",
    "\n",
    "        x = 1\n",
    "\n",
    "    else:\n",
    "\n",
    "        x = 0\n",
    "\n",
    "    y1 = (25 * x) + 1\n",
    "    y2 = (w + n2) * x\n",
    "    res = ((z // div) * y1) + y2\n",
    "    \n",
    "    return res"
   ]
  },
  {
   "cell_type": "markdown",
   "id": "d7d9f247",
   "metadata": {},
   "source": [
    "#### Test"
   ]
  },
  {
   "cell_type": "code",
   "execution_count": null,
   "id": "4079e2f8",
   "metadata": {},
   "outputs": [],
   "source": []
  },
  {
   "cell_type": "markdown",
   "id": "49d3e855",
   "metadata": {},
   "source": [
    "#### Answer"
   ]
  },
  {
   "cell_type": "code",
   "execution_count": 3,
   "id": "002ced50",
   "metadata": {},
   "outputs": [
    {
     "name": "stdout",
     "output_type": "stream",
     "text": [
      "Largest model number accepted: 98998519596997\n"
     ]
    }
   ],
   "source": [
    "lines = deepcopy(instructions_1)\n",
    "changes = []\n",
    "    \n",
    "for i in range(14):\n",
    "\n",
    "    nums = []\n",
    "    \n",
    "    for l in lines[:18]:\n",
    "        \n",
    "        num = l.split(\" \")[-1]\n",
    "        \n",
    "        #if negative number\n",
    "        if (num[0] == '-'):\n",
    "            \n",
    "            if (num[1:].isdigit()):\n",
    "                \n",
    "                nums.append(num)\n",
    "            \n",
    "        else:\n",
    "            \n",
    "            if (num.isdigit()):\n",
    "                \n",
    "                nums.append(num)\n",
    "                \n",
    "    nums = nums[2:]\n",
    "    \n",
    "    #save loop diferences\n",
    "    change = {'div': int(nums[0]) , 'n1': int(nums[1]) , 'n2': int(nums[-1])}\n",
    "    changes.append(change)\n",
    "    lines = lines[18:]\n",
    "\n",
    "#largest so start from back\n",
    "for model in range(9999999, -1, -1):\n",
    "\n",
    "    z = 0\n",
    "    model_num = \"\"\n",
    "    dig = 0\n",
    "\n",
    "    for i in range(14):\n",
    "\n",
    "        change = changes[i]\n",
    "\n",
    "        if (change['div'] == 1):\n",
    "            \n",
    "            #fill with 0 in front so we get the right dig position\n",
    "            digit = str(model).zfill(7)[dig]\n",
    "            \n",
    "            #do loop operations\n",
    "            z = operations(int(digit) , change['div'] , change['n1'] , change['n2'] , z)\n",
    "            model_num = model_num + digit\n",
    "            dig = dig + 1\n",
    "        \n",
    "        #else fix input\n",
    "        else:\n",
    "            \n",
    "            fixed = (z % 26) + change['n1']\n",
    "\n",
    "            if ((fixed > 9) or (fixed < 0)):\n",
    "\n",
    "                z = -1\n",
    "                break\n",
    "            \n",
    "            #do loop operations\n",
    "            z = operations(fixed , change['div'] , change['n1'] , change['n2'] , z)\n",
    "            model_num = model_num + str(fixed)\n",
    "\n",
    "    if ((z == 0) and (\"0\" not in model_num)):\n",
    "\n",
    "        break\n",
    "        \n",
    "print(\"Largest model number accepted:\" , model_num)"
   ]
  },
  {
   "cell_type": "markdown",
   "id": "f9610680",
   "metadata": {},
   "source": [
    "-------------------------------------"
   ]
  },
  {
   "cell_type": "markdown",
   "id": "91f6b606",
   "metadata": {},
   "source": [
    "### --- Part Two ---"
   ]
  },
  {
   "cell_type": "markdown",
   "id": "5e3c6a5c",
   "metadata": {},
   "source": [
    "As the submarine starts booting up things like the Retro Encabulator https://www.youtube.com/watch?v=RXJKdh1KZ0w , you realize that maybe you don't need all these submarine features after all.\n",
    "\n",
    "__What is the smallest model number accepted by MONAD?__"
   ]
  },
  {
   "cell_type": "markdown",
   "id": "5495806d",
   "metadata": {},
   "source": [
    "#### Test"
   ]
  },
  {
   "cell_type": "code",
   "execution_count": null,
   "id": "a7372920",
   "metadata": {},
   "outputs": [],
   "source": []
  },
  {
   "cell_type": "markdown",
   "id": "d6cfa730",
   "metadata": {},
   "source": [
    "#### Answer"
   ]
  },
  {
   "cell_type": "code",
   "execution_count": 4,
   "id": "b1aad429",
   "metadata": {},
   "outputs": [
    {
     "name": "stdout",
     "output_type": "stream",
     "text": [
      "Smallest model number accepted: 31521119151421\n"
     ]
    }
   ],
   "source": [
    "lines = deepcopy(instructions_1)\n",
    "changes = []\n",
    "    \n",
    "for i in range(14):\n",
    "\n",
    "    nums = []\n",
    "    \n",
    "    for l in lines[:18]:\n",
    "        \n",
    "        num = l.split(\" \")[-1]\n",
    "        \n",
    "        #if negative number\n",
    "        if (num[0] == '-'):\n",
    "            \n",
    "            if (num[1:].isdigit()):\n",
    "                \n",
    "                nums.append(num)\n",
    "            \n",
    "        else:\n",
    "            \n",
    "            if (num.isdigit()):\n",
    "                \n",
    "                nums.append(num)\n",
    "                \n",
    "    nums = nums[2:]\n",
    "    \n",
    "    #save loop diferences\n",
    "    change = {'div': int(nums[0]) , 'n1': int(nums[1]) , 'n2': int(nums[-1])}\n",
    "    changes.append(change)\n",
    "    lines = lines[18:]\n",
    "\n",
    "#smallest so start from zero\n",
    "for model in range(9999999):\n",
    "\n",
    "    z = 0\n",
    "    model_num = \"\"\n",
    "    dig = 0\n",
    "\n",
    "    for i in range(14):\n",
    "\n",
    "        change = changes[i]\n",
    "\n",
    "        if (change['div'] == 1):\n",
    "            \n",
    "            #fill with 0 in front so we get the right dig position\n",
    "            digit = str(model).zfill(7)[dig]\n",
    "            \n",
    "            #do loop operations\n",
    "            z = operations(int(digit) , change['div'] , change['n1'] , change['n2'] , z)\n",
    "            model_num = model_num + digit\n",
    "            dig = dig + 1\n",
    "        \n",
    "        #else fix input\n",
    "        else:\n",
    "            \n",
    "            fixed = (z % 26) + change['n1']\n",
    "\n",
    "            if ((fixed > 9) or (fixed < 0)):\n",
    "\n",
    "                z = -1\n",
    "                break\n",
    "                \n",
    "            #do loop operations\n",
    "            z = operations(fixed , change['div'] , change['n1'] , change['n2'] , z)\n",
    "            model_num = model_num + str(fixed)\n",
    "\n",
    "    if ((z == 0) and (\"0\" not in model_num)):\n",
    "\n",
    "        break\n",
    "        \n",
    "print(\"Smallest model number accepted:\" , model_num)"
   ]
  }
 ],
 "metadata": {
  "kernelspec": {
   "display_name": "Python 3",
   "language": "python",
   "name": "python3"
  },
  "language_info": {
   "codemirror_mode": {
    "name": "ipython",
    "version": 3
   },
   "file_extension": ".py",
   "mimetype": "text/x-python",
   "name": "python",
   "nbconvert_exporter": "python",
   "pygments_lexer": "ipython3",
   "version": "3.8.8"
  }
 },
 "nbformat": 4,
 "nbformat_minor": 5
}
