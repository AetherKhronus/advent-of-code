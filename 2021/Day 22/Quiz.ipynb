{
 "cells": [
  {
   "cell_type": "markdown",
   "id": "40d558d3",
   "metadata": {},
   "source": [
    "# --- Day 22: Reactor Reboot ---"
   ]
  },
  {
   "cell_type": "code",
   "execution_count": 1,
   "id": "bc4bd7ff",
   "metadata": {},
   "outputs": [],
   "source": [
    "from Quiz import *\n",
    "from itertools import product"
   ]
  },
  {
   "cell_type": "markdown",
   "id": "23a24488",
   "metadata": {},
   "source": [
    "### --- Part One ---"
   ]
  },
  {
   "cell_type": "markdown",
   "id": "63bacb20",
   "metadata": {},
   "source": [
    "Operating at these extreme ocean depths has overloaded the submarine's reactor; it needs to be rebooted.\n",
    "\n",
    "The reactor core is made up of a large 3-dimensional grid made up entirely of cubes, one cube per integer 3-dimensional coordinate (`x,y,z`). Each cube can be either __on__ or __off__; at the start of the reboot process, they are all __off__. (Could it be an old model of a reactor you've seen before https://adventofcode.com/2020/day/17 ?)\n",
    "\n",
    "To reboot the reactor, you just need to set all of the cubes to either __on__ or __off__ by following a list of __reboot steps__ (your puzzle input). Each step specifies a cuboid https://en.wikipedia.org/wiki/Cuboid (the set of all cubes that have coordinates which fall within ranges for `x`, `y`, and `z`) and whether to turn all of the cubes in that cuboid __on__ or __off__.\n",
    "\n",
    "For example, given these reboot steps:\n",
    "\n",
    "`on x=10..12,y=10..12,z=10..12\n",
    "on x=11..13,y=11..13,z=11..13\n",
    "off x=9..11,y=9..11,z=9..11\n",
    "on x=10..10,y=10..10,z=10..10`\n",
    "\n",
    "The first step (`on x=10..12,y=10..12,z=10..12`) turns __on__ a 3x3x3 cuboid consisting of 27 cubes:\n",
    "\n",
    "- `10,10,10`\n",
    "- `10,10,11`\n",
    "- `10,10,12`\n",
    "- `10,11,10`\n",
    "- `10,11,11`\n",
    "- `10,11,12`\n",
    "- `10,12,10`\n",
    "- `10,12,11`\n",
    "- `10,12,12`\n",
    "- `11,10,10`\n",
    "- `11,10,11`\n",
    "- `11,10,12`\n",
    "- `11,11,10`\n",
    "- `11,11,11`\n",
    "- `11,11,12`\n",
    "- `11,12,10`\n",
    "- `11,12,11`\n",
    "- `11,12,12`\n",
    "- `12,10,10`\n",
    "- `12,10,11`\n",
    "- `12,10,12`\n",
    "- `12,11,10`\n",
    "- `12,11,11`\n",
    "- `12,11,12`\n",
    "- `12,12,10`\n",
    "- `12,12,11`\n",
    "- `12,12,12`\n",
    "\n",
    "The second step (`on x=11..13,y=11..13,z=11..13`) turns __on__ a 3x3x3 cuboid that overlaps with the first. As a result, only 19 additional cubes turn on; the rest are already on from the previous step:\n",
    "\n",
    "- `11,11,13`\n",
    "- `11,12,13`\n",
    "- `11,13,11`\n",
    "- `11,13,12`\n",
    "- `11,13,13`\n",
    "- `12,11,13`\n",
    "- `12,12,13`\n",
    "- `12,13,11`\n",
    "- `12,13,12`\n",
    "- `12,13,13`\n",
    "- `13,11,11`\n",
    "- `13,11,12`\n",
    "- `13,11,13`\n",
    "- `13,12,11`\n",
    "- `13,12,12`\n",
    "- `13,12,13`\n",
    "- `13,13,11`\n",
    "- `13,13,12`\n",
    "- `13,13,13`\n",
    "\n",
    "The third step (`off x=9..11,y=9..11,z=9..11`) turns __off__ a 3x3x3 cuboid that overlaps partially with some cubes that are on, ultimately turning off 8 cubes:\n",
    "\n",
    "- `10,10,10`\n",
    "- `10,10,11`\n",
    "- `10,11,10`\n",
    "- `10,11,11`\n",
    "- `11,10,10`\n",
    "- `11,10,11`\n",
    "- `11,11,10`\n",
    "- `11,11,11`\n",
    "\n",
    "The final step (`on x=10..10,y=10..10,z=10..10`) turns __on__ a single cube, `10,10,10`. After this last step, __`39`__ cubes are __on__.\n",
    "\n",
    "The initialization procedure only uses cubes that have `x`, `y`, and `z` positions of at least `-50` and at most `50`. For now, ignore cubes outside this region.\n",
    "\n",
    "Here is a larger example:\n",
    "\n",
    "`on x=-20..26,y=-36..17,z=-47..7\n",
    "on x=-20..33,y=-21..23,z=-26..28\n",
    "on x=-22..28,y=-29..23,z=-38..16\n",
    "on x=-46..7,y=-6..46,z=-50..-1\n",
    "on x=-49..1,y=-3..46,z=-24..28\n",
    "on x=2..47,y=-22..22,z=-23..27\n",
    "on x=-27..23,y=-28..26,z=-21..29\n",
    "on x=-39..5,y=-6..47,z=-3..44\n",
    "on x=-30..21,y=-8..43,z=-13..34\n",
    "on x=-22..26,y=-27..20,z=-29..19\n",
    "off x=-48..-32,y=26..41,z=-47..-37\n",
    "on x=-12..35,y=6..50,z=-50..-2\n",
    "off x=-48..-32,y=-32..-16,z=-15..-5\n",
    "on x=-18..26,y=-33..15,z=-7..46\n",
    "off x=-40..-22,y=-38..-28,z=23..41\n",
    "on x=-16..35,y=-41..10,z=-47..6\n",
    "off x=-32..-23,y=11..30,z=-14..3\n",
    "on x=-49..-5,y=-3..45,z=-29..18\n",
    "off x=18..30,y=-20..-8,z=-3..13\n",
    "on x=-41..9,y=-7..43,z=-33..15\n",
    "on x=-54112..-39298,y=-85059..-49293,z=-27449..7877\n",
    "on x=967..23432,y=45373..81175,z=27513..53682`\n",
    "\n",
    "The last two steps are fully outside the initialization procedure area; all other steps are fully within it. After executing these steps in the initialization procedure region, __`590784`__ cubes are __on__.\n",
    "\n",
    "Execute the reboot steps. Afterward, considering only cubes in the region `x=-50..50,y=-50..50,z=-50..50`, __how many cubes are on?__"
   ]
  },
  {
   "cell_type": "code",
   "execution_count": 2,
   "id": "aee5ad12",
   "metadata": {},
   "outputs": [],
   "source": [
    "def get_rules(steps , size):\n",
    "    \n",
    "    rules = []\n",
    "\n",
    "    for s in steps:\n",
    "\n",
    "        words = s.split(\" \")\n",
    "        op = words[0]\n",
    "        coords = words[1].split(\",\")\n",
    "        x = coords[0][2:]\n",
    "        y = coords[1][2:]\n",
    "        z = coords[2][2:]\n",
    "    \n",
    "        x_1 = max(int(x.split(\"..\")[0]) , -size)\n",
    "        x_2 = min(int(x.split(\"..\")[1]) , size)\n",
    "\n",
    "        y_1 = max(int(y.split(\"..\")[0]) , -size)\n",
    "        y_2 = min(int(y.split(\"..\")[1]) , size)\n",
    "\n",
    "        z_1 = max(int(z.split(\"..\")[0]) , -size)\n",
    "        z_2 = min(int(z.split(\"..\")[1]) , size)\n",
    "\n",
    "        r = (op , range(x_1 , x_2 + 1) , range(y_1 , y_2 + 1) , range(z_1 , z_2 + 1))\n",
    "\n",
    "        rules.append(r)\n",
    "    \n",
    "    return rules"
   ]
  },
  {
   "cell_type": "markdown",
   "id": "d7d9f247",
   "metadata": {},
   "source": [
    "#### Test"
   ]
  },
  {
   "cell_type": "code",
   "execution_count": 3,
   "id": "4079e2f8",
   "metadata": {},
   "outputs": [
    {
     "name": "stdout",
     "output_type": "stream",
     "text": [
      "39 cubes are on.\n"
     ]
    }
   ],
   "source": [
    "rules = get_rules(test_steps_1 , 50)\n",
    "\n",
    "core = {}\n",
    "\n",
    "for r in rules:\n",
    "    \n",
    "    l = list(product(*[r[1] , r[2] , r[3]]))\n",
    "           \n",
    "    for x , y , z in l:\n",
    "        \n",
    "        if (r[0] == \"on\"):\n",
    "                    \n",
    "            core[(x , y , z)] = 1\n",
    "                    \n",
    "        else:\n",
    "                    \n",
    "            core[(x , y , z)] = 0\n",
    "                \n",
    "print(sum(core.values()) , \"cubes are on.\")"
   ]
  },
  {
   "cell_type": "code",
   "execution_count": 4,
   "id": "e90a417b",
   "metadata": {},
   "outputs": [
    {
     "name": "stdout",
     "output_type": "stream",
     "text": [
      "590784 cubes are on.\n"
     ]
    }
   ],
   "source": [
    "rules = get_rules(test_steps_2 , 50)\n",
    "\n",
    "core = {}\n",
    "\n",
    "for r in rules:\n",
    "    \n",
    "    l = list(product(*[r[1] , r[2] , r[3]]))\n",
    "           \n",
    "    for x , y , z in l:\n",
    "        \n",
    "        if (r[0] == \"on\"):\n",
    "                    \n",
    "            core[(x , y , z)] = 1\n",
    "                    \n",
    "        else:\n",
    "                    \n",
    "            core[(x , y , z)] = 0\n",
    "                \n",
    "print(sum(core.values()) , \"cubes are on.\")  "
   ]
  },
  {
   "cell_type": "markdown",
   "id": "49d3e855",
   "metadata": {},
   "source": [
    "#### Answer"
   ]
  },
  {
   "cell_type": "code",
   "execution_count": 5,
   "id": "002ced50",
   "metadata": {},
   "outputs": [
    {
     "name": "stdout",
     "output_type": "stream",
     "text": [
      "606484 cubes are on.\n"
     ]
    }
   ],
   "source": [
    "rules = get_rules(steps_1 , 50)\n",
    "\n",
    "core = {}\n",
    "\n",
    "for r in rules:\n",
    "    \n",
    "    l = list(product(*[r[1] , r[2] , r[3]]))\n",
    "           \n",
    "    for x , y , z in l:\n",
    "        \n",
    "        if (r[0] == \"on\"):\n",
    "                    \n",
    "            core[(x , y , z)] = 1\n",
    "                    \n",
    "        else:\n",
    "                    \n",
    "            core[(x , y , z)] = 0\n",
    "                \n",
    "print(sum(core.values()) , \"cubes are on.\")"
   ]
  },
  {
   "cell_type": "markdown",
   "id": "f9610680",
   "metadata": {},
   "source": [
    "-------------------------------------"
   ]
  },
  {
   "cell_type": "markdown",
   "id": "91f6b606",
   "metadata": {},
   "source": [
    "### --- Part Two ---"
   ]
  },
  {
   "cell_type": "markdown",
   "id": "5e3c6a5c",
   "metadata": {},
   "source": [
    "Now that the initialization procedure is complete, you can reboot the reactor.\n",
    "\n",
    "Starting with all cubes __off__, run all of the __reboot steps__ for all cubes in the reactor.\n",
    "\n",
    "Consider the following reboot steps:\n",
    "\n",
    "`on x=-5..47,y=-31..22,z=-19..33\n",
    "on x=-44..5,y=-27..21,z=-14..35\n",
    "on x=-49..-1,y=-11..42,z=-10..38\n",
    "on x=-20..34,y=-40..6,z=-44..1\n",
    "off x=26..39,y=40..50,z=-2..11\n",
    "on x=-41..5,y=-41..6,z=-36..8\n",
    "off x=-43..-33,y=-45..-28,z=7..25\n",
    "on x=-33..15,y=-32..19,z=-34..11\n",
    "off x=35..47,y=-46..-34,z=-11..5\n",
    "on x=-14..36,y=-6..44,z=-16..29\n",
    "on x=-57795..-6158,y=29564..72030,z=20435..90618\n",
    "on x=36731..105352,y=-21140..28532,z=16094..90401\n",
    "on x=30999..107136,y=-53464..15513,z=8553..71215\n",
    "on x=13528..83982,y=-99403..-27377,z=-24141..23996\n",
    "on x=-72682..-12347,y=18159..111354,z=7391..80950\n",
    "on x=-1060..80757,y=-65301..-20884,z=-103788..-16709\n",
    "on x=-83015..-9461,y=-72160..-8347,z=-81239..-26856\n",
    "on x=-52752..22273,y=-49450..9096,z=54442..119054\n",
    "on x=-29982..40483,y=-108474..-28371,z=-24328..38471\n",
    "on x=-4958..62750,y=40422..118853,z=-7672..65583\n",
    "on x=55694..108686,y=-43367..46958,z=-26781..48729\n",
    "on x=-98497..-18186,y=-63569..3412,z=1232..88485\n",
    "on x=-726..56291,y=-62629..13224,z=18033..85226\n",
    "on x=-110886..-34664,y=-81338..-8658,z=8914..63723\n",
    "on x=-55829..24974,y=-16897..54165,z=-121762..-28058\n",
    "on x=-65152..-11147,y=22489..91432,z=-58782..1780\n",
    "on x=-120100..-32970,y=-46592..27473,z=-11695..61039\n",
    "on x=-18631..37533,y=-124565..-50804,z=-35667..28308\n",
    "on x=-57817..18248,y=49321..117703,z=5745..55881\n",
    "on x=14781..98692,y=-1341..70827,z=15753..70151\n",
    "on x=-34419..55919,y=-19626..40991,z=39015..114138\n",
    "on x=-60785..11593,y=-56135..2999,z=-95368..-26915\n",
    "on x=-32178..58085,y=17647..101866,z=-91405..-8878\n",
    "on x=-53655..12091,y=50097..105568,z=-75335..-4862\n",
    "on x=-111166..-40997,y=-71714..2688,z=5609..50954\n",
    "on x=-16602..70118,y=-98693..-44401,z=5197..76897\n",
    "on x=16383..101554,y=4615..83635,z=-44907..18747\n",
    "off x=-95822..-15171,y=-19987..48940,z=10804..104439\n",
    "on x=-89813..-14614,y=16069..88491,z=-3297..45228\n",
    "on x=41075..99376,y=-20427..49978,z=-52012..13762\n",
    "on x=-21330..50085,y=-17944..62733,z=-112280..-30197\n",
    "on x=-16478..35915,y=36008..118594,z=-7885..47086\n",
    "off x=-98156..-27851,y=-49952..43171,z=-99005..-8456\n",
    "off x=2032..69770,y=-71013..4824,z=7471..94418\n",
    "on x=43670..120875,y=-42068..12382,z=-24787..38892\n",
    "off x=37514..111226,y=-45862..25743,z=-16714..54663\n",
    "off x=25699..97951,y=-30668..59918,z=-15349..69697\n",
    "off x=-44271..17935,y=-9516..60759,z=49131..112598\n",
    "on x=-61695..-5813,y=40978..94975,z=8655..80240\n",
    "off x=-101086..-9439,y=-7088..67543,z=33935..83858\n",
    "off x=18020..114017,y=-48931..32606,z=21474..89843\n",
    "off x=-77139..10506,y=-89994..-18797,z=-80..59318\n",
    "off x=8476..79288,y=-75520..11602,z=-96624..-24783\n",
    "on x=-47488..-1262,y=24338..100707,z=16292..72967\n",
    "off x=-84341..13987,y=2429..92914,z=-90671..-1318\n",
    "off x=-37810..49457,y=-71013..-7894,z=-105357..-13188\n",
    "off x=-27365..46395,y=31009..98017,z=15428..76570\n",
    "off x=-70369..-16548,y=22648..78696,z=-1892..86821\n",
    "on x=-53470..21291,y=-120233..-33476,z=-44150..38147\n",
    "off x=-93533..-4276,y=-16170..68771,z=-104985..-24507`\n",
    "\n",
    "After running the above reboot steps, __`2758514936282235`__ cubes are __on__. (Just for <ins>fun</ins>, `474140` of those are also in the initialization procedure region.)\n",
    "\n",
    "Starting again with all cubes __off__, execute all reboot steps. Afterward, considering all cubes, __how many cubes are on?__"
   ]
  },
  {
   "cell_type": "code",
   "execution_count": 6,
   "id": "3f750764",
   "metadata": {},
   "outputs": [],
   "source": [
    "def get_rules(steps , size):\n",
    "    \n",
    "    rules = []\n",
    "\n",
    "    for s in steps:\n",
    "        \n",
    "        words = s.split(\" \")\n",
    "        op = words[0]\n",
    "        coords = words[1].split(\",\")\n",
    "        x = coords[0][2:]\n",
    "        y = coords[1][2:]\n",
    "        z = coords[2][2:]\n",
    "        \n",
    "        if (size != 0):\n",
    "            \n",
    "            x_1 = max(int(x.split(\"..\")[0]) , -size)\n",
    "            x_2 = min(int(x.split(\"..\")[1]) , size)\n",
    "\n",
    "            y_1 = max(int(y.split(\"..\")[0]) , -size)\n",
    "            y_2 = min(int(y.split(\"..\")[1]) , size)\n",
    "\n",
    "            z_1 = max(int(z.split(\"..\")[0]) , -size)\n",
    "            z_2 = min(int(z.split(\"..\")[1]) , size)\n",
    "            \n",
    "        else:\n",
    "            \n",
    "            x_1 = int(x.split(\"..\")[0])\n",
    "            x_2 = int(x.split(\"..\")[1])\n",
    "\n",
    "            y_1 = int(y.split(\"..\")[0])\n",
    "            y_2 = int(y.split(\"..\")[1])\n",
    "\n",
    "            z_1 = int(z.split(\"..\")[0])\n",
    "            z_2 = int(z.split(\"..\")[1])\n",
    "\n",
    "        r = (op , range(x_1 , x_2 + 1) , range(y_1 , y_2 + 1) , range(z_1 , z_2 + 1))\n",
    "\n",
    "        rules.append(r)\n",
    "    \n",
    "    return rules"
   ]
  },
  {
   "cell_type": "code",
   "execution_count": 7,
   "id": "ae4f3566",
   "metadata": {},
   "outputs": [],
   "source": [
    "def get_subrange(rang , low , high):\n",
    "\n",
    "    first = rang[0]\n",
    "    last = rang[-1]\n",
    "\n",
    "    if ((last < low) or (first > high)):\n",
    "\n",
    "        return []\n",
    "\n",
    "    first = max(first , low)\n",
    "    last = max(last , low)\n",
    "    first = min(first , high)\n",
    "    last = min(last , high)\n",
    "\n",
    "    return range(first, last + 1)"
   ]
  },
  {
   "cell_type": "code",
   "execution_count": 8,
   "id": "b7474508",
   "metadata": {},
   "outputs": [],
   "source": [
    "def count_no_changes(rule , rest):\n",
    "\n",
    "    range_x = rule[1]\n",
    "    range_y = rule[2]\n",
    "    range_z = rule[3]\n",
    "    total = len(range_x) * len(range_y) * len(range_z)\n",
    "\n",
    "    changes = []\n",
    "\n",
    "    for r in rest:\n",
    "\n",
    "        op = r[0]\n",
    "        range_x_rule = r[1]\n",
    "        range_y_rule = r[2]\n",
    "        range_z_rule = r[3]\n",
    "\n",
    "        new_range_x = get_subrange(range_x_rule , range_x[0] , range_x[-1])\n",
    "        new_range_y = get_subrange(range_y_rule , range_y[0] , range_y[-1])\n",
    "        new_range_z = get_subrange(range_z_rule , range_z[0] , range_z[-1])\n",
    "\n",
    "        if ((len(new_range_x) == 0) or (len(new_range_y) == 0) or (len(new_range_z) == 0)):\n",
    "\n",
    "            continue\n",
    "        \n",
    "        change = (op , new_range_x , new_range_y , new_range_z)\n",
    "        changes.append(change)\n",
    "\n",
    "    i = -1\n",
    "    for rule in changes:\n",
    "\n",
    "        i = i + 1\n",
    "        total = total - count_no_changes(rule , changes[i + 1:])\n",
    "\n",
    "    return total"
   ]
  },
  {
   "cell_type": "markdown",
   "id": "5495806d",
   "metadata": {},
   "source": [
    "#### Test"
   ]
  },
  {
   "cell_type": "code",
   "execution_count": 9,
   "id": "222c6626",
   "metadata": {},
   "outputs": [
    {
     "name": "stdout",
     "output_type": "stream",
     "text": [
      "2758514936282235 cubes are on.\n"
     ]
    }
   ],
   "source": [
    "rules = get_rules(test_steps_3 , 0)\n",
    "count = 0\n",
    "i = -1\n",
    "\n",
    "for r in rules:\n",
    "    \n",
    "    i = i + 1\n",
    "    op = r[0]\n",
    "    \n",
    "    if (op == 'off'):\n",
    "        \n",
    "        continue\n",
    "        \n",
    "    count = count + count_no_changes(r , rules[i + 1:])\n",
    "\n",
    "print(count , \"cubes are on.\")"
   ]
  },
  {
   "cell_type": "markdown",
   "id": "d6cfa730",
   "metadata": {},
   "source": [
    "#### Answer"
   ]
  },
  {
   "cell_type": "code",
   "execution_count": 10,
   "id": "676e6333",
   "metadata": {},
   "outputs": [
    {
     "name": "stdout",
     "output_type": "stream",
     "text": [
      "1162571910364852 cubes are on.\n"
     ]
    }
   ],
   "source": [
    "rules = get_rules(steps_1 , 0)\n",
    "count = 0\n",
    "i = -1\n",
    "\n",
    "for r in rules:\n",
    "    \n",
    "    i = i + 1\n",
    "    op = r[0]\n",
    "    \n",
    "    if (op == 'off'):\n",
    "        \n",
    "        continue\n",
    "        \n",
    "    count = count + count_no_changes(r , rules[i + 1:])\n",
    "\n",
    "print(count , \"cubes are on.\")"
   ]
  }
 ],
 "metadata": {
  "kernelspec": {
   "display_name": "Python 3",
   "language": "python",
   "name": "python3"
  },
  "language_info": {
   "codemirror_mode": {
    "name": "ipython",
    "version": 3
   },
   "file_extension": ".py",
   "mimetype": "text/x-python",
   "name": "python",
   "nbconvert_exporter": "python",
   "pygments_lexer": "ipython3",
   "version": "3.8.8"
  }
 },
 "nbformat": 4,
 "nbformat_minor": 5
}
