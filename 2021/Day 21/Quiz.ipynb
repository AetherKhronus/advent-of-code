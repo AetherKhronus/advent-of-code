{
 "cells": [
  {
   "cell_type": "markdown",
   "id": "40d558d3",
   "metadata": {},
   "source": [
    "# --- Day 21: Dirac Dice ---"
   ]
  },
  {
   "cell_type": "code",
   "execution_count": 1,
   "id": "bc4bd7ff",
   "metadata": {},
   "outputs": [],
   "source": [
    "from Quiz import *"
   ]
  },
  {
   "cell_type": "markdown",
   "id": "23a24488",
   "metadata": {},
   "source": [
    "### --- Part One ---"
   ]
  },
  {
   "cell_type": "markdown",
   "id": "63bacb20",
   "metadata": {},
   "source": [
    "There's not much to do as you slowly descend to the bottom of the ocean. The submarine computer <ins>challenges you to a nice game</ins> of __Dirac Dice__.\n",
    "\n",
    "This game consists of a single die https://en.wikipedia.org/wiki/Dice , two pawns https://en.wikipedia.org/wiki/Glossary_of_board_games#piece , and a game board with a circular track containing ten spaces marked `1` through `10` clockwise. Each player's __starting space__ is chosen randomly (your puzzle input). Player 1 goes first.\n",
    "\n",
    "Players take turns moving. On each player's turn, the player rolls the die __three times__ and adds up the results. Then, the player moves their pawn that many times __forward__ around the track (that is, moving clockwise on spaces in order of increasing value, wrapping back around to `1` after `10`). So, if a player is on space `7` and they roll `2`, `2`, and `1`, they would move forward 5 times, to spaces `8`, `9`, `10`, `1`, and finally stopping on `2`.\n",
    "\n",
    "After each player moves, they increase their __score__ by the value of the space their pawn stopped on. Players' scores start at `0`. So, if the first player starts on space `7` and rolls a total of `5`, they would stop on space `2` and add `2` to their score (for a total score of 2). The game immediately ends as a win for any player whose score reaches __at least `1000`__.\n",
    "\n",
    "Since the first game is a practice game, the submarine opens a compartment labeled __deterministic dice__ and a 100-sided die falls out. This die always rolls `1` first, then `2`, then `3`, and so on up to `100`, after which it starts over at `1` again. Play using this die.\n",
    "\n",
    "For example, given these starting positions:\n",
    "\n",
    "`Player 1 starting position: 4\n",
    "Player 2 starting position: 8`\n",
    "\n",
    "This is how the game would go:\n",
    "\n",
    "- Player 1 rolls `1`+`2`+`3` and moves to space `10` for a total score of `10`.\n",
    "- Player 2 rolls `4`+`5`+`6` and moves to space `3` for a total score of `3`.\n",
    "- Player 1 rolls `7`+`8`+`9` and moves to space `4` for a total score of `14`.\n",
    "- Player 2 rolls `10`+`11`+`12` and moves to space `6` for a total score of `9`.\n",
    "- Player 1 rolls `13`+`14`+`15` and moves to space `6` for a total score of `20`.\n",
    "- Player 2 rolls `16`+`17`+`18` and moves to space `7` for a total score of `16`.\n",
    "- Player 1 rolls `19`+`20`+`21` and moves to space `6` for a total score of `26`.\n",
    "- Player 2 rolls `22`+`23`+`24` and moves to space `6` for a total score of `22`.\n",
    "\n",
    "...after many turns...\n",
    "\n",
    "- Player 2 rolls `82`+`83`+`84` and moves to space `6` for a total score of `742`.\n",
    "- Player 1 rolls `85`+`86`+`87` and moves to space `4` for a total score of `990`.\n",
    "- Player 2 rolls `88`+`89`+`90` and moves to space `3` for a total score of `745`.\n",
    "- Player 1 rolls `91`+`92`+`93` and moves to space `10` for a final score, `1000`.\n",
    "\n",
    "Since player 1 has at least `1000` points, player 1 wins and the game ends. At this point, the losing player had `745` points and the die had been rolled a total of `993` times; `745 * 993 = `__`739785`__.\n",
    "\n",
    "Play a practice game using the deterministic 100-sided die. The moment either player wins, __what do you get if you multiply the score of the losing player by the number of times the die was rolled during the game?__"
   ]
  },
  {
   "cell_type": "code",
   "execution_count": 2,
   "id": "5cb4332a",
   "metadata": {},
   "outputs": [],
   "source": [
    "def roll():\n",
    "\n",
    "    global die\n",
    "    \n",
    "    die = die + 1\n",
    "    \n",
    "    return die"
   ]
  },
  {
   "cell_type": "code",
   "execution_count": 3,
   "id": "df2a9df3",
   "metadata": {},
   "outputs": [],
   "source": [
    "def play(pos_1 , pos_2):\n",
    "    \n",
    "    score_1 = 0\n",
    "    score_2 = 0\n",
    "    \n",
    "    while True:\n",
    "            \n",
    "        roll_1 = roll() + roll() + roll()\n",
    "        pos_1 = (pos_1 + roll_1) % 10\n",
    "        score_1 = score_1 + pos_1 + 1\n",
    "        \n",
    "        if (score_1 >= 1000):\n",
    "                \n",
    "            return (die , score_2)\n",
    "        \n",
    "        roll_2 = roll() + roll() + roll()\n",
    "        pos_2 = (pos_2 + roll_2) % 10\n",
    "        score_2 = score_2 + pos_2 + 1\n",
    "        \n",
    "        if (score_2 >= 1000):\n",
    "                \n",
    "            return (die , score_1)"
   ]
  },
  {
   "cell_type": "markdown",
   "id": "d7d9f247",
   "metadata": {},
   "source": [
    "#### Test"
   ]
  },
  {
   "cell_type": "code",
   "execution_count": 4,
   "id": "4079e2f8",
   "metadata": {},
   "outputs": [
    {
     "name": "stdout",
     "output_type": "stream",
     "text": [
      "Multiplication of losing score (745) and dice rolls (993) = 739785\n"
     ]
    }
   ],
   "source": [
    "pos_1 = int(test_positions_1[0].split(\" \")[-1]) - 1\n",
    "pos_2 = int(test_positions_1[1].split(\" \")[-1]) - 1\n",
    "\n",
    "die = 0\n",
    "\n",
    "result = play(pos_1 , pos_2)\n",
    "rolls = result[0]\n",
    "lost = result[1]\n",
    "\n",
    "print(\"Multiplication of losing score (\" + str(lost) +\") and dice rolls (\" + str(rolls) + \") =\" , (lost * rolls))"
   ]
  },
  {
   "cell_type": "markdown",
   "id": "49d3e855",
   "metadata": {},
   "source": [
    "#### Answer"
   ]
  },
  {
   "cell_type": "code",
   "execution_count": 5,
   "id": "002ced50",
   "metadata": {},
   "outputs": [
    {
     "name": "stdout",
     "output_type": "stream",
     "text": [
      "Multiplication of losing score (775) and dice rolls (930) = 720750\n"
     ]
    }
   ],
   "source": [
    "pos_1 = int(positions_1[0].split(\" \")[-1]) - 1\n",
    "pos_2 = int(positions_1[1].split(\" \")[-1]) - 1\n",
    "\n",
    "die = 0\n",
    "\n",
    "result = play(pos_1 , pos_2)\n",
    "rolls = result[0]\n",
    "lost = result[1]\n",
    "\n",
    "print(\"Multiplication of losing score (\" + str(lost) +\") and dice rolls (\" + str(rolls) + \") =\" , (lost * rolls))"
   ]
  },
  {
   "cell_type": "markdown",
   "id": "f9610680",
   "metadata": {},
   "source": [
    "-------------------------------------"
   ]
  },
  {
   "cell_type": "markdown",
   "id": "91f6b606",
   "metadata": {},
   "source": [
    "### --- Part Two ---"
   ]
  },
  {
   "cell_type": "markdown",
   "id": "5e3c6a5c",
   "metadata": {},
   "source": [
    "Now that you're warmed up, it's time to play the real game.\n",
    "\n",
    "A second compartment opens, this time labeled __Dirac dice__. Out of it falls a single three-sided die.\n",
    "\n",
    "As you experiment with the die, you feel a little strange. An informational brochure in the compartment explains that this is a __quantum die__: when you roll it, the universe __splits into multiple copies__, one copy for each possible outcome of the die. In this case, rolling the die always splits the universe into __three copies__: one where the outcome of the roll was `1`, one where it was `2`, and one where it was `3`.\n",
    "\n",
    "The game is played the same as before, although to prevent things from getting too far out of hand, the game now ends when either player's score reaches at least __`21`__.\n",
    "\n",
    "Using the same starting positions as in the example above, player 1 wins in __`444356092776315`__ universes, while player 2 merely wins in `341960390180808` universes.\n",
    "\n",
    "Using your given starting positions, determine every possible outcome. \n",
    "\n",
    "__Find the player that wins in more universes; in how many universes does that player win?__"
   ]
  },
  {
   "cell_type": "markdown",
   "id": "5495806d",
   "metadata": {},
   "source": [
    "#### Test"
   ]
  },
  {
   "cell_type": "code",
   "execution_count": 6,
   "id": "a7372920",
   "metadata": {},
   "outputs": [
    {
     "name": "stdout",
     "output_type": "stream",
     "text": [
      "Player wins in 444356092776315 universes.\n"
     ]
    }
   ],
   "source": [
    "pos_1 = int(test_positions_1[0].split(\" \")[-1]) - 1\n",
    "pos_2 = int(test_positions_1[1].split(\" \")[-1]) - 1\n",
    "pos_scores = {}\n",
    "\n",
    "def count_win(pos_1 , pos_2 , score_1 , score_2):\n",
    "\n",
    "    if (score_1 >= 21):\n",
    "\n",
    "        return (1 , 0)\n",
    "\n",
    "    if (score_2 >= 21):\n",
    "\n",
    "        return (0 , 1)\n",
    "\n",
    "    if (pos_1 , pos_2 , score_1 , score_2) in pos_scores:\n",
    "\n",
    "        return pos_scores[(pos_1 , pos_2 , score_1 , score_2)]\n",
    "\n",
    "    result = (0 , 0)\n",
    "\n",
    "    for dim_1 in range(1 , 4):\n",
    "\n",
    "        for dim_2 in range(1 , 4):\n",
    "\n",
    "            for dim_3 in range(1 , 4):\n",
    "\n",
    "                new_pos_1 = (pos_1 + dim_1 + dim_2 + dim_3) % 10\n",
    "                new_score_1 = score_1 + new_pos_1 + 1\n",
    "\n",
    "                win = count_win(pos_2 , new_pos_1 , score_2 , new_score_1)\n",
    "                p_1 = win[0]\n",
    "                p_2 = win[1]\n",
    "\n",
    "                result = (result[0] + p_2, result[1] + p_1)\n",
    "\n",
    "    pos_scores[(pos_1 , pos_2 , score_1 , score_2)] = result\n",
    "\n",
    "    return result\n",
    "\n",
    "wins = count_win(pos_1 , pos_2 , 0 , 0)\n",
    "\n",
    "print(\"Player wins in\" , max(wins) , \"universes.\")"
   ]
  },
  {
   "cell_type": "markdown",
   "id": "d6cfa730",
   "metadata": {},
   "source": [
    "#### Answer"
   ]
  },
  {
   "cell_type": "code",
   "execution_count": 7,
   "id": "fcd78ded",
   "metadata": {},
   "outputs": [
    {
     "name": "stdout",
     "output_type": "stream",
     "text": [
      "Player wins in 275067741811212 universes.\n"
     ]
    }
   ],
   "source": [
    "pos_1 = int(positions_1[0].split(\" \")[-1]) - 1\n",
    "pos_2 = int(positions_1[1].split(\" \")[-1]) - 1\n",
    "pos_scores = {}\n",
    "\n",
    "def count_win(pos_1 , pos_2 , score_1 , score_2):\n",
    "\n",
    "    if (score_1 >= 21):\n",
    "\n",
    "        return (1 , 0)\n",
    "\n",
    "    if (score_2 >= 21):\n",
    "\n",
    "        return (0 , 1)\n",
    "\n",
    "    if (pos_1 , pos_2 , score_1 , score_2) in pos_scores:\n",
    "\n",
    "        return pos_scores[(pos_1 , pos_2 , score_1 , score_2)]\n",
    "\n",
    "    result = (0 , 0)\n",
    "\n",
    "    for dim_1 in range(1 , 4):\n",
    "\n",
    "        for dim_2 in range(1 , 4):\n",
    "\n",
    "            for dim_3 in range(1 , 4):\n",
    "\n",
    "                new_pos_1 = (pos_1 + dim_1 + dim_2 + dim_3) % 10\n",
    "                new_score_1 = score_1 + new_pos_1 + 1\n",
    "\n",
    "                win = count_win(pos_2 , new_pos_1 , score_2 , new_score_1)\n",
    "                p_1 = win[0]\n",
    "                p_2 = win[1]\n",
    "\n",
    "                result = (result[0] + p_2, result[1] + p_1)\n",
    "\n",
    "    pos_scores[(pos_1 , pos_2 , score_1 , score_2)] = result\n",
    "\n",
    "    return result\n",
    "\n",
    "wins = count_win(pos_1 , pos_2 , 0 , 0)\n",
    "\n",
    "print(\"Player wins in\" , max(wins) , \"universes.\")"
   ]
  }
 ],
 "metadata": {
  "kernelspec": {
   "display_name": "Python 3",
   "language": "python",
   "name": "python3"
  },
  "language_info": {
   "codemirror_mode": {
    "name": "ipython",
    "version": 3
   },
   "file_extension": ".py",
   "mimetype": "text/x-python",
   "name": "python",
   "nbconvert_exporter": "python",
   "pygments_lexer": "ipython3",
   "version": "3.8.8"
  }
 },
 "nbformat": 4,
 "nbformat_minor": 5
}
