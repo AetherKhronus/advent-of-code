{
 "cells": [
  {
   "cell_type": "markdown",
   "id": "40d558d3",
   "metadata": {},
   "source": [
    "# --- Day 7: The Treachery of Whales ---"
   ]
  },
  {
   "cell_type": "code",
   "execution_count": 1,
   "id": "bc4bd7ff",
   "metadata": {},
   "outputs": [],
   "source": [
    "from Quiz import *\n",
    "import math"
   ]
  },
  {
   "cell_type": "markdown",
   "id": "23a24488",
   "metadata": {},
   "source": [
    "### --- Part One ---"
   ]
  },
  {
   "cell_type": "markdown",
   "id": "63bacb20",
   "metadata": {},
   "source": [
    "A giant whale https://en.wikipedia.org/wiki/Sperm_whale has decided your submarine is its next meal, and it's much faster than you are. There's nowhere to run!\n",
    "\n",
    "Suddenly, a swarm of crabs (each in its own tiny submarine - it's too deep for them otherwise) zooms in to rescue you! They seem to be preparing to blast a hole in the ocean floor; sensors indicate a __massive underground cave system__ just beyond where they're aiming!\n",
    "\n",
    "The crab submarines all need to be aligned before they'll have enough power to blast a large enough hole for your submarine to get through. However, it doesn't look like they'll be aligned before the whale catches you! Maybe you can help?\n",
    "\n",
    "There's one major catch - crab submarines can only move horizontally.\n",
    "\n",
    "You quickly make a list of __the horizontal position of each crab__ (your puzzle input). Crab submarines have limited fuel, so you need to find a way to make all of their horizontal positions match while requiring them to spend as little fuel as possible.\n",
    "\n",
    "For example, consider the following horizontal positions:\n",
    "\n",
    "`16,1,2,0,4,2,7,1,2,14`\n",
    "\n",
    "This means there's a crab with horizontal position `16`, a crab with horizontal position `1`, and so on.\n",
    "\n",
    "Each change of 1 step in horizontal position of a single crab costs 1 fuel. You could choose any horizontal position to align them all on, but the one that costs the least fuel is horizontal position `2`:\n",
    "\n",
    "- Move from `16` to `2`: `14` fuel\n",
    "- Move from `1` to `2`: `1` fuel\n",
    "- Move from `2` to `2`: `0` fuel\n",
    "- Move from `0` to `2`: `2` fuel\n",
    "- Move from `4` to `2`: `2` fuel\n",
    "- Move from `2` to `2`: `0` fuel\n",
    "- Move from `7` to `2`: `5` fuel\n",
    "- Move from `1` to `2`: `1` fuel\n",
    "- Move from `2` to `2`: `0` fuel\n",
    "- Move from `14` to `2`: `12` fuel\n",
    "\n",
    "This costs a total of __`37`__ fuel. This is the cheapest possible outcome; more expensive outcomes include aligning at position `1` (`41` fuel), position `3` (`39` fuel), or position `10` (`71` fuel).\n",
    "\n",
    "Determine the horizontal position that the crabs can align to using the least fuel possible. \n",
    "\n",
    "__How much fuel must they spend to align to that position__?"
   ]
  },
  {
   "cell_type": "markdown",
   "id": "d7d9f247",
   "metadata": {},
   "source": [
    "#### Test"
   ]
  },
  {
   "cell_type": "code",
   "execution_count": 2,
   "id": "4079e2f8",
   "metadata": {},
   "outputs": [
    {
     "name": "stdout",
     "output_type": "stream",
     "text": [
      "Best position is 2 with cost of 37\n"
     ]
    }
   ],
   "source": [
    "best = (0 , math.inf)\n",
    "\n",
    "for i in range(max(test_positions_1) + 1):\n",
    "    \n",
    "    fuel = 0\n",
    "    \n",
    "    for pos in test_positions_1:\n",
    "        \n",
    "        diference = abs(pos - i)\n",
    "        fuel = fuel + diference\n",
    "    \n",
    "    if (fuel < best[1]):\n",
    "        \n",
    "        best = (i , fuel)\n",
    "\n",
    "print(\"Best position is\" , best[0] , \"with cost of\" , best[1])"
   ]
  },
  {
   "cell_type": "markdown",
   "id": "49d3e855",
   "metadata": {},
   "source": [
    "#### Answer"
   ]
  },
  {
   "cell_type": "code",
   "execution_count": 3,
   "id": "98ce7559",
   "metadata": {},
   "outputs": [
    {
     "name": "stdout",
     "output_type": "stream",
     "text": [
      "Best position is 361 with cost of 364898\n"
     ]
    }
   ],
   "source": [
    "best = (0 , math.inf)\n",
    "\n",
    "for i in range(max(positions) + 1):\n",
    "    \n",
    "    fuel = 0\n",
    "    \n",
    "    for pos in positions:\n",
    "        \n",
    "        diference = abs(pos - i)\n",
    "        fuel = fuel + diference\n",
    "    \n",
    "    if (fuel < best[1]):\n",
    "        \n",
    "        best = (i , fuel)\n",
    "\n",
    "print(\"Best position is\" , best[0] , \"with cost of\" , best[1])"
   ]
  },
  {
   "cell_type": "markdown",
   "id": "f9610680",
   "metadata": {},
   "source": [
    "-------------------------------------"
   ]
  },
  {
   "cell_type": "markdown",
   "id": "91f6b606",
   "metadata": {},
   "source": [
    "### --- Part Two ---"
   ]
  },
  {
   "cell_type": "markdown",
   "id": "5e3c6a5c",
   "metadata": {},
   "source": [
    "The crabs don't seem interested in your proposed solution. Perhaps you misunderstand crab engineering?\n",
    "\n",
    "As it turns out, crab submarine engines <ins>don't burn fuel at a constant rate</ins>. Instead, each change of 1 step in horizontal position costs 1 more unit of fuel than the last: the first step costs `1`, the second step costs `2`, the third step costs `3`, and so on.\n",
    "\n",
    "As each crab moves, moving further becomes more expensive. This changes the best horizontal position to align them all on; in the example above, this becomes `5`:\n",
    "\n",
    "- Move from `16` to `5`: `66` fuel\n",
    "- Move from `1` to `5`: `10` fuel\n",
    "- Move from `2` to `5`: `6` fuel\n",
    "- Move from `0` to `5`: `15` fuel\n",
    "- Move from `4` to `5`: `1` fuel\n",
    "- Move from `2` to `5`: `6` fuel\n",
    "- Move from `7` to `5`: `3` fuel\n",
    "- Move from `1` to `5`: `10` fuel\n",
    "- Move from `2` to `5`: `6` fuel\n",
    "- Move from `14` to `5`: `45` fuel\n",
    "\n",
    "This costs a total of __`168`__ fuel. This is the new cheapest possible outcome; the old alignment position (`2`) now costs `206` fuel instead.\n",
    "\n",
    "Determine the horizontal position that the crabs can align to using the least fuel possible so they can make you an escape route! \n",
    "\n",
    "__How much fuel must they spend to align to that position?__"
   ]
  },
  {
   "cell_type": "markdown",
   "id": "5495806d",
   "metadata": {},
   "source": [
    "#### Test"
   ]
  },
  {
   "cell_type": "code",
   "execution_count": 4,
   "id": "a7372920",
   "metadata": {},
   "outputs": [
    {
     "name": "stdout",
     "output_type": "stream",
     "text": [
      "Best position is 5 with cost of 168\n"
     ]
    }
   ],
   "source": [
    "best = (0 , math.inf)\n",
    "\n",
    "for i in range(max(test_positions_1) + 1):\n",
    "    \n",
    "    fuel = 0\n",
    "    \n",
    "    for pos in test_positions_1:\n",
    "        \n",
    "        diference = (abs(pos - i) * (abs(pos - i) + 1)) // 2\n",
    "        fuel = fuel + diference\n",
    "    \n",
    "    if (fuel < best[1]):\n",
    "        \n",
    "        best = (i , fuel)\n",
    "\n",
    "print(\"Best position is\" , best[0] , \"with cost of\" , best[1])"
   ]
  },
  {
   "cell_type": "markdown",
   "id": "d6cfa730",
   "metadata": {},
   "source": [
    "#### Answer"
   ]
  },
  {
   "cell_type": "code",
   "execution_count": 5,
   "id": "fcd78ded",
   "metadata": {},
   "outputs": [
    {
     "name": "stdout",
     "output_type": "stream",
     "text": [
      "Best position is 500 with cost of 104149091\n"
     ]
    }
   ],
   "source": [
    "best = (0 , math.inf)\n",
    "\n",
    "for i in range(max(positions) + 1):\n",
    "    \n",
    "    fuel = 0\n",
    "    \n",
    "    for pos in positions:\n",
    "        \n",
    "        diference = (abs(pos - i) * (abs(pos - i) + 1)) // 2\n",
    "        fuel = fuel + diference\n",
    "    \n",
    "    if (fuel < best[1]):\n",
    "        \n",
    "        best = (i , fuel)\n",
    "\n",
    "print(\"Best position is\" , best[0] , \"with cost of\" , best[1])"
   ]
  }
 ],
 "metadata": {
  "kernelspec": {
   "display_name": "Python 3",
   "language": "python",
   "name": "python3"
  },
  "language_info": {
   "codemirror_mode": {
    "name": "ipython",
    "version": 3
   },
   "file_extension": ".py",
   "mimetype": "text/x-python",
   "name": "python",
   "nbconvert_exporter": "python",
   "pygments_lexer": "ipython3",
   "version": "3.8.8"
  }
 },
 "nbformat": 4,
 "nbformat_minor": 5
}
