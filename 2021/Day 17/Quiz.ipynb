{
 "cells": [
  {
   "cell_type": "markdown",
   "id": "40d558d3",
   "metadata": {},
   "source": [
    "# --- Day 17: Trick Shot ---"
   ]
  },
  {
   "cell_type": "code",
   "execution_count": 1,
   "id": "bc4bd7ff",
   "metadata": {},
   "outputs": [],
   "source": [
    "from Quiz import *\n",
    "from copy import deepcopy"
   ]
  },
  {
   "cell_type": "markdown",
   "id": "23a24488",
   "metadata": {},
   "source": [
    "### --- Part One ---"
   ]
  },
  {
   "cell_type": "markdown",
   "id": "63bacb20",
   "metadata": {},
   "source": [
    "You finally decode the Elves' message. <ins>`HI`</ins>, the message says. You continue searching for the sleigh keys.\n",
    "\n",
    "Ahead of you is what appears to be a large ocean trench https://en.wikipedia.org/wiki/Oceanic_trench . Could the keys have fallen into it? You'd better send a probe to investigate.\n",
    "\n",
    "The probe launcher on your submarine can fire the probe with any integer https://en.wikipedia.org/wiki/Integer velocity in the `x` (forward) and `y` (upward, or downward if negative) directions. For example, an initial `x,y` velocity like `0,10` would fire the probe straight up, while an initial velocity like `10,-1` would fire the probe forward at a slight downward angle.\n",
    "\n",
    "The probe's `x,y` position starts at `0,0`. Then, it will follow some trajectory by moving in `steps`. On each step, these changes occur in the following order:\n",
    "\n",
    "- The probe's `x` position increases by its `x` velocity.\n",
    "- The probe's `y` position increases by its `y` velocity.\n",
    "- Due to drag, the probe's `x` velocity changes by `1` toward the value `0`; that is, it decreases by `1` if it is greater than `0`, increases by `1` if it is less than `0`, or does not change if it is already `0`.\n",
    "- Due to gravity, the probe's `y` velocity decreases by `1`.\n",
    "\n",
    "For the probe to successfully make it into the trench, the probe must be on some trajectory that causes it to be within a __target area__ after any step. The submarine computer has already calculated this target area (your puzzle input). For example:\n",
    "\n",
    "`target area: x=20..30, y=-10..-5`\n",
    "\n",
    "This target area means that you need to find initial `x,y` velocity values such that after any step, the probe's `x` position is at least `20` and at most `30`, __and__ the probe's `y` position is at least `-10` and at most `-5`.\n",
    "\n",
    "Given this target area, one initial velocity that causes the probe to be within the target area after any step is `7,2`:\n",
    "\n",
    "`.............#....#............\n",
    ".......#..............#........\n",
    "...............................\n",
    "S........................#.....\n",
    "...............................\n",
    "...............................\n",
    "...........................#...\n",
    "...............................\n",
    "....................TTTTTTTTTTT\n",
    "....................TTTTTTTTTTT\n",
    "....................TTTTTTTT#TT\n",
    "....................TTTTTTTTTTT\n",
    "....................TTTTTTTTTTT\n",
    "....................TTTTTTTTTTT`\n",
    "\n",
    "In this diagram, `S` is the probe's initial position, `0,0`. The `x` coordinate increases to the right, and the `y` coordinate increases upward. In the bottom right, positions that are within the target area are shown as `T`. After each step (until the target area is reached), the position of the probe is marked with `#`. (The bottom-right `#` is both a position the probe reaches and a position in the target area.)\n",
    "\n",
    "Another initial velocity that causes the probe to be within the target area after any step is `6,3`:\n",
    "\n",
    "`...............#..#............\n",
    "...........#........#..........\n",
    "...............................\n",
    "......#..............#.........\n",
    "...............................\n",
    "...............................\n",
    "S....................#.........\n",
    "...............................\n",
    "...............................\n",
    "...............................\n",
    ".....................#.........\n",
    "....................TTTTTTTTTTT\n",
    "....................TTTTTTTTTTT\n",
    "....................TTTTTTTTTTT\n",
    "....................TTTTTTTTTTT\n",
    "....................T#TTTTTTTTT\n",
    "....................TTTTTTTTTTT`\n",
    "\n",
    "Another one is `9,0`:\n",
    "\n",
    "`S........#.....................\n",
    ".................#.............\n",
    "...............................\n",
    "........................#......\n",
    "...............................\n",
    "....................TTTTTTTTTTT\n",
    "....................TTTTTTTTTT#\n",
    "....................TTTTTTTTTTT\n",
    "....................TTTTTTTTTTT\n",
    "....................TTTTTTTTTTT\n",
    "....................TTTTTTTTTTT`\n",
    "\n",
    "One initial velocity that __doesn't__ cause the probe to be within the target area after any step is `17,-4`:\n",
    "\n",
    "`S..............................................................\n",
    "...............................................................\n",
    "...............................................................\n",
    "...............................................................\n",
    ".................#.............................................\n",
    "....................TTTTTTTTTTT................................\n",
    "....................TTTTTTTTTTT................................\n",
    "....................TTTTTTTTTTT................................\n",
    "....................TTTTTTTTTTT................................\n",
    "....................TTTTTTTTTTT..#.............................\n",
    "....................TTTTTTTTTTT................................\n",
    "...............................................................\n",
    "...............................................................\n",
    "...............................................................\n",
    "...............................................................\n",
    "................................................#..............\n",
    "...............................................................\n",
    "...............................................................\n",
    "...............................................................\n",
    "...............................................................\n",
    "...............................................................\n",
    "...............................................................\n",
    "..............................................................#`\n",
    "\n",
    "The probe appears to pass through the target area, but is never within it after any step. Instead, it continues down and to the right - only the first few steps are shown.\n",
    "\n",
    "If you're going to fire a highly scientific probe out of a super cool probe launcher, you might as well do it with __style__. How high can you make the probe go while still reaching the target area?\n",
    "\n",
    "In the above example, using an initial velocity of `6,9` is the best you can do, causing the probe to reach a maximum `y` position of __`45`__. (Any higher initial `y` velocity causes the probe to overshoot the target area entirely.)\n",
    "\n",
    "Find the initial velocity that causes the probe to reach the highest `y` position and still eventually be within the target area after any step. \n",
    "\n",
    "__What is the highest `y` position it reaches on this trajectory__?"
   ]
  },
  {
   "cell_type": "code",
   "execution_count": 2,
   "id": "3200cc01",
   "metadata": {},
   "outputs": [],
   "source": [
    "def step(xv , yv , x , y):\n",
    "\n",
    "    x = x + xv\n",
    "    y = y + yv\n",
    "\n",
    "    if (xv > 0):\n",
    "\n",
    "        xv = xv - 1\n",
    "\n",
    "    elif xv < 0:\n",
    "\n",
    "        xv = xv + 1\n",
    "\n",
    "    yv = yv - 1\n",
    "\n",
    "    return (xv , yv , x , y)"
   ]
  },
  {
   "cell_type": "markdown",
   "id": "d7d9f247",
   "metadata": {},
   "source": [
    "#### Test"
   ]
  },
  {
   "cell_type": "code",
   "execution_count": 3,
   "id": "4079e2f8",
   "metadata": {},
   "outputs": [
    {
     "name": "stdout",
     "output_type": "stream",
     "text": [
      "Best hight: 45\n"
     ]
    }
   ],
   "source": [
    "x_1 = int(test_target_1[2][2:].split(\"..\")[0])\n",
    "x_2 = int(test_target_1[2][2:].split(\"..\")[1][:-1])\n",
    "y_1 = int(test_target_1[3][2:].split(\"..\")[0])\n",
    "y_2 = int(test_target_1[3][2:].split(\"..\")[1])\n",
    "best_y = 0\n",
    "\n",
    "for sx in range(250):\n",
    "\n",
    "    for sy in range(250):\n",
    "\n",
    "        x = 0\n",
    "        y = 0\n",
    "        xv = sx\n",
    "        yv = sy\n",
    "        max_y = 0\n",
    "\n",
    "        while ((x <= x_2) and (y >= y_1)):\n",
    "\n",
    "            s = step(xv , yv , x , y)\n",
    "            xv = s[0]\n",
    "            yv = s[1]\n",
    "            x = s[2]\n",
    "            y  = s[3]\n",
    "            max_y = max(max_y , y)\n",
    "            \n",
    "            if ((xv == 0) and (x < x_1)):\n",
    "\n",
    "                break\n",
    "                \n",
    "            if ((x_1 <= x <= x_2) and (y_1 <= y <=y_2)):\n",
    "                \n",
    "                best_y = max(best_y , max_y)\n",
    "                \n",
    "                break\n",
    "        \n",
    "print(\"Best hight:\" , best_y)"
   ]
  },
  {
   "cell_type": "markdown",
   "id": "49d3e855",
   "metadata": {},
   "source": [
    "#### Answer"
   ]
  },
  {
   "cell_type": "code",
   "execution_count": 4,
   "id": "002ced50",
   "metadata": {},
   "outputs": [
    {
     "name": "stdout",
     "output_type": "stream",
     "text": [
      "Best hight: 7626\n"
     ]
    }
   ],
   "source": [
    "x_1 = int(target_1[2][2:].split(\"..\")[0])\n",
    "x_2 = int(target_1[2][2:].split(\"..\")[1][:-1])\n",
    "y_1 = int(target_1[3][2:].split(\"..\")[0])\n",
    "y_2 = int(target_1[3][2:].split(\"..\")[1])\n",
    "best_y = 0\n",
    "\n",
    "for sx in range(250):\n",
    "\n",
    "    for sy in range(250):\n",
    "\n",
    "        x = 0\n",
    "        y = 0\n",
    "        xv = sx\n",
    "        yv = sy\n",
    "        max_y = 0\n",
    "\n",
    "        while ((x <= x_2) and (y >= y_1)):\n",
    "\n",
    "            s = step(xv , yv , x , y)\n",
    "            xv = s[0]\n",
    "            yv = s[1]\n",
    "            x = s[2]\n",
    "            y  = s[3]\n",
    "            max_y = max(max_y , y)\n",
    "            \n",
    "            if ((xv == 0) and (x < x_1)):\n",
    "\n",
    "                break\n",
    "                \n",
    "            if ((x_1 <= x <= x_2) and (y_1 <= y <=y_2)):\n",
    "                \n",
    "                best_y = max(best_y , max_y)\n",
    "\n",
    "                break\n",
    "                \n",
    "print(\"Best hight:\" , best_y)"
   ]
  },
  {
   "cell_type": "markdown",
   "id": "f9610680",
   "metadata": {},
   "source": [
    "-------------------------------------"
   ]
  },
  {
   "cell_type": "markdown",
   "id": "91f6b606",
   "metadata": {},
   "source": [
    "### --- Part Two ---"
   ]
  },
  {
   "cell_type": "markdown",
   "id": "5e3c6a5c",
   "metadata": {},
   "source": [
    "Maybe a fancy trick shot isn't the best idea; after all, you only have one probe, so you had better not miss.\n",
    "\n",
    "To get the best idea of what your options are for launching the probe, you need to find __every initial velocity__ that causes the probe to eventually be within the target area after any step.\n",
    "\n",
    "In the above example, there are __`112`__ different initial velocity values that meet these criteria:\n",
    "\n",
    "`23,-10  25,-9   27,-5   29,-6   22,-6   21,-7   9,0     27,-7   24,-5\n",
    "25,-7   26,-6   25,-5   6,8     11,-2   20,-5   29,-10  6,3     28,-7\n",
    "8,0     30,-6   29,-8   20,-10  6,7     6,4     6,1     14,-4   21,-6\n",
    "26,-10  7,-1    7,7     8,-1    21,-9   6,2     20,-7   30,-10  14,-3\n",
    "20,-8   13,-2   7,3     28,-8   29,-9   15,-3   22,-5   26,-8   25,-8\n",
    "25,-6   15,-4   9,-2    15,-2   12,-2   28,-9   12,-3   24,-6   23,-7\n",
    "25,-10  7,8     11,-3   26,-7   7,1     23,-9   6,0     22,-10  27,-6\n",
    "8,1     22,-8   13,-4   7,6     28,-6   11,-4   12,-4   26,-9   7,4\n",
    "24,-10  23,-8   30,-8   7,0     9,-1    10,-1   26,-5   22,-9   6,5\n",
    "7,5     23,-6   28,-10  10,-2   11,-1   20,-9   14,-2   29,-7   13,-3\n",
    "23,-5   24,-8   27,-9   30,-7   28,-5   21,-10  7,9     6,6     21,-5\n",
    "27,-10  7,2     30,-9   21,-8   22,-7   24,-9   20,-6   6,9     29,-5\n",
    "8,-2    27,-8   30,-5   24,-7`\n",
    "\n",
    "__How many distinct initial velocity values cause the probe to be within the target area after any step__?"
   ]
  },
  {
   "cell_type": "code",
   "execution_count": 5,
   "id": "000e778c",
   "metadata": {},
   "outputs": [],
   "source": [
    "def simulate(sx, sy, x_1, x_2, y_1, y_2):\n",
    "    \n",
    "    x = 0\n",
    "    y = 0\n",
    "    xv = sx\n",
    "    yv = sy\n",
    "    max_y = 0\n",
    "\n",
    "    while ((x <= x_2) and (y >= y_1)):\n",
    "\n",
    "        s = step(xv , yv , x , y)\n",
    "        xv = s[0]\n",
    "        yv = s[1]\n",
    "        x = s[2]\n",
    "        y  = s[3]\n",
    "        max_y = max(max_y , y)\n",
    "            \n",
    "        if ((xv == 0) and (x < x_1)):\n",
    "\n",
    "            return False\n",
    "                \n",
    "        if ((x_1 <= x <= x_2) and (y_1 <= y <=y_2)):\n",
    "\n",
    "            return True"
   ]
  },
  {
   "cell_type": "markdown",
   "id": "5495806d",
   "metadata": {},
   "source": [
    "#### Test"
   ]
  },
  {
   "cell_type": "code",
   "execution_count": 6,
   "id": "7f835f6b",
   "metadata": {},
   "outputs": [
    {
     "name": "stdout",
     "output_type": "stream",
     "text": [
      "112\n"
     ]
    }
   ],
   "source": [
    "target_x_min = int(test_target_1[2][2:].split(\"..\")[0])\n",
    "target_x_max = int(test_target_1[2][2:].split(\"..\")[1][:-1])\n",
    "target_y_min = int(test_target_1[3][2:].split(\"..\")[0])\n",
    "target_y_max = int(test_target_1[3][2:].split(\"..\")[1])\n",
    "\n",
    "count = 0\n",
    "\n",
    "for x_vel in range(250):\n",
    "    \n",
    "    for y_vel in range(target_y_min, 250):\n",
    "        \n",
    "        if simulate(x_vel , y_vel , target_x_min , target_x_max , target_y_min , target_y_max ):\n",
    "            \n",
    "            count = count + 1\n",
    "            \n",
    "print(count)"
   ]
  },
  {
   "cell_type": "markdown",
   "id": "d6cfa730",
   "metadata": {},
   "source": [
    "#### Answer"
   ]
  },
  {
   "cell_type": "code",
   "execution_count": 7,
   "id": "76a6975d",
   "metadata": {},
   "outputs": [
    {
     "name": "stdout",
     "output_type": "stream",
     "text": [
      "2032\n"
     ]
    }
   ],
   "source": [
    "target_x_min = int(target_1[2][2:].split(\"..\")[0])\n",
    "target_x_max = int(target_1[2][2:].split(\"..\")[1][:-1])\n",
    "target_y_min = int(target_1[3][2:].split(\"..\")[0])\n",
    "target_y_max = int(target_1[3][2:].split(\"..\")[1])\n",
    "\n",
    "count = 0\n",
    "\n",
    "for x_vel in range(250):\n",
    "    \n",
    "    for y_vel in range(target_y_min, 250):\n",
    "        \n",
    "        if simulate(x_vel , y_vel , target_x_min , target_x_max , target_y_min , target_y_max ):\n",
    "            \n",
    "            count = count + 1\n",
    "            \n",
    "print(count)"
   ]
  }
 ],
 "metadata": {
  "kernelspec": {
   "display_name": "Python 3",
   "language": "python",
   "name": "python3"
  },
  "language_info": {
   "codemirror_mode": {
    "name": "ipython",
    "version": 3
   },
   "file_extension": ".py",
   "mimetype": "text/x-python",
   "name": "python",
   "nbconvert_exporter": "python",
   "pygments_lexer": "ipython3",
   "version": "3.8.8"
  }
 },
 "nbformat": 4,
 "nbformat_minor": 5
}
