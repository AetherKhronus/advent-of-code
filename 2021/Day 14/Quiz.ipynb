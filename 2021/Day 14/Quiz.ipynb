{
 "cells": [
  {
   "cell_type": "markdown",
   "id": "40d558d3",
   "metadata": {},
   "source": [
    "# --- Day 14: Extended Polymerization ---"
   ]
  },
  {
   "cell_type": "code",
   "execution_count": 1,
   "id": "bc4bd7ff",
   "metadata": {},
   "outputs": [],
   "source": [
    "from Quiz import *\n",
    "from collections import Counter"
   ]
  },
  {
   "cell_type": "markdown",
   "id": "23a24488",
   "metadata": {},
   "source": [
    "### --- Part One ---"
   ]
  },
  {
   "cell_type": "markdown",
   "id": "63bacb20",
   "metadata": {},
   "source": [
    "The incredible pressures at this depth are starting to put a strain on your submarine. The submarine has polymerization https://en.wikipedia.org/wiki/Polymerization equipment that would produce suitable materials to reinforce the submarine, and the nearby volcanically-active caves should even have the necessary input elements in sufficient quantities.\n",
    "\n",
    "The submarine manual contains <ins>instructions</ins> for finding the optimal polymer formula; specifically, it offers a __polymer template__ and a list of __pair insertion__ rules (your puzzle input). You just need to work out what polymer would result after repeating the pair insertion process a few times.\n",
    "\n",
    "For example:\n",
    "\n",
    "`NNCB\n",
    "\n",
    "CH -> B\n",
    "HH -> N\n",
    "CB -> H\n",
    "NH -> C\n",
    "HB -> C\n",
    "HC -> B\n",
    "HN -> C\n",
    "NN -> C\n",
    "BH -> H\n",
    "NC -> B\n",
    "NB -> B\n",
    "BN -> B\n",
    "BB -> N\n",
    "BC -> B\n",
    "CC -> N\n",
    "CN -> C`\n",
    "\n",
    "The first line is the __polymer template__ - this is the starting point of the process.\n",
    "\n",
    "The following section defines the __pair insertion__ rules. A rule like `AB -> C` means that when elements `A` and `B` are immediately adjacent, element `C` should be inserted between them. These insertions all happen simultaneously.\n",
    "\n",
    "So, starting with the polymer template `NNCB`, the first step simultaneously considers all three pairs:\n",
    "\n",
    "- The first pair (`NN`) matches the rule `NN -> C`, so element __`C`__ is inserted between the first `N` and the second `N`.\n",
    "- The second pair (`NC`) matches the rule `NC -> B`, so element __`B`__ is inserted between the `N` and the `C`.\n",
    "- The third pair (`CB`) matches the rule `CB -> H`, so element __`H`__ is inserted between the `C` and the `B`.\n",
    "\n",
    "Note that these pairs overlap: the second element of one pair is the first element of the next pair. Also, because all pairs are considered simultaneously, inserted elements are not considered to be part of a pair until the next step.\n",
    "\n",
    "After the first step of this process, the polymer becomes `N`__`C`__`N`__`B`__`C`__`H`__`B`.\n",
    "\n",
    "Here are the results of a few steps using the above rules:\n",
    "\n",
    "`Template:     NNCB\n",
    "After step 1: NCNBCHB\n",
    "After step 2: NBCCNBBBCBHCB\n",
    "After step 3: NBBBCNCCNBBNBNBBCHBHHBCHB\n",
    "After step 4: NBBNBNBBCCNBCNCCNBBNBBNBBBNBBNBBCBHCBHHNHCBBCBHCB`\n",
    "\n",
    "This polymer grows quickly. After step 5, it has length 97; After step 10, it has length 3073. After step 10, `B` occurs 1749 times, `C` occurs 298 times, `H` occurs 191 times, and `N` occurs 865 times; taking the quantity of the most common element (`B`, 1749) and subtracting the quantity of the least common element (`H`, 161) produces `1749 - 161 = `__`1588`__.\n",
    "\n",
    "Apply 10 steps of pair insertion to the polymer template and find the most and least common elements in the result. \n",
    "\n",
    "__What do you get if you take the quantity of the most common element and subtract the quantity of the least common element__?"
   ]
  },
  {
   "cell_type": "markdown",
   "id": "d7d9f247",
   "metadata": {},
   "source": [
    "#### Test"
   ]
  },
  {
   "cell_type": "code",
   "execution_count": 2,
   "id": "ef5f46eb",
   "metadata": {},
   "outputs": [
    {
     "name": "stdout",
     "output_type": "stream",
     "text": [
      "Quantity after 10 steps: 1588\n"
     ]
    }
   ],
   "source": [
    "test_temp = str(test_template_1)\n",
    "test_pairs = list(test_pairs_1)\n",
    "test_rules = {}\n",
    "test_count_pairs = Counter()\n",
    "test_count_chars = None\n",
    "\n",
    "for p in test_pairs:\n",
    "    \n",
    "    pair = p.split(' -> ')[0]\n",
    "    add = p.split(' -> ')[1]\n",
    "    test_rules[pair] = add\n",
    "\n",
    "for i in range(len(test_temp) - 1):\n",
    "    \n",
    "    pair = test_temp[i] + test_temp[i + 1]\n",
    "    test_count_pairs[pair] = test_count_pairs[pair] + 1\n",
    "\n",
    "for t in range(11):\n",
    "\n",
    "    test_count_chars = Counter()\n",
    "    \n",
    "    for p in test_count_pairs:\n",
    "        \n",
    "        test_count_chars[p[0]] = test_count_chars[p[0]] + test_count_pairs[p]\n",
    "        \n",
    "    test_count_chars[test_temp[-1]] = test_count_chars[test_temp[-1]] + 1\n",
    "    \n",
    "\n",
    "    # AB->R = AR RB\n",
    "    test_new_count_pairs = Counter()\n",
    "    \n",
    "    for p in test_count_pairs:\n",
    "        \n",
    "        test_new_count_pairs[p[0] + test_rules[p]] = test_new_count_pairs[p[0] + test_rules[p]] + test_count_pairs[p]\n",
    "        test_new_count_pairs[test_rules[p] + p[1]] = test_new_count_pairs[test_rules[p] + p[1]] + test_count_pairs[p]\n",
    "        \n",
    "    test_count_pairs = test_new_count_pairs\n",
    "    \n",
    "quant = max(test_count_chars.values()) - min(test_count_chars.values())\n",
    "print(\"Quantity after 10 steps:\" , quant)"
   ]
  },
  {
   "cell_type": "markdown",
   "id": "49d3e855",
   "metadata": {},
   "source": [
    "#### Answer"
   ]
  },
  {
   "cell_type": "code",
   "execution_count": 3,
   "id": "fcd78ded",
   "metadata": {
    "scrolled": true
   },
   "outputs": [
    {
     "name": "stdout",
     "output_type": "stream",
     "text": [
      "Quantity after 10 steps: 2360\n"
     ]
    }
   ],
   "source": [
    "temp = str(template)\n",
    "pairs = list(pairs)\n",
    "rules = {}\n",
    "count_pairs = Counter()\n",
    "count_chars = None\n",
    "\n",
    "for p in pairs:\n",
    "    \n",
    "    pair = p.split(' -> ')[0]\n",
    "    add = p.split(' -> ')[1]\n",
    "    rules[pair] = add\n",
    "\n",
    "for i in range(len(temp) - 1):\n",
    "    \n",
    "    pair = temp[i] + temp[i + 1]\n",
    "    count_pairs[pair] = count_pairs[pair] + 1\n",
    "\n",
    "for t in range(11):\n",
    "\n",
    "    count_chars = Counter()\n",
    "    \n",
    "    for p in count_pairs:\n",
    "        \n",
    "        count_chars[p[0]] = count_chars[p[0]] + count_pairs[p]\n",
    "        \n",
    "    count_chars[temp[-1]] = count_chars[temp[-1]] + 1\n",
    "    \n",
    "\n",
    "    # AB->R = AR RB\n",
    "    new_count_pairs = Counter()\n",
    "    \n",
    "    for p in count_pairs:\n",
    "        \n",
    "        new_count_pairs[p[0] + rules[p]] = new_count_pairs[p[0] + rules[p]] + count_pairs[p]\n",
    "        new_count_pairs[rules[p] + p[1]] = new_count_pairs[rules[p] + p[1]] + count_pairs[p]\n",
    "        \n",
    "    count_pairs = new_count_pairs\n",
    "    \n",
    "quant = max(count_chars.values()) - min(count_chars.values())\n",
    "print(\"Quantity after 10 steps:\" , quant)"
   ]
  },
  {
   "cell_type": "markdown",
   "id": "f9610680",
   "metadata": {},
   "source": [
    "-------------------------------------"
   ]
  },
  {
   "cell_type": "markdown",
   "id": "91f6b606",
   "metadata": {},
   "source": [
    "### --- Part Two ---"
   ]
  },
  {
   "cell_type": "markdown",
   "id": "5e3c6a5c",
   "metadata": {},
   "source": [
    "The resulting polymer isn't nearly strong enough to reinforce the submarine. You'll need to run more steps of the pair insertion process; a total of __40 steps__ should do it.\n",
    "\n",
    "In the above example, the most common element is `B` (occurring `2192039569602` times) and the least common element is `H` (occurring `3849876073` times); subtracting these produces __`2188189693529`__.\n",
    "\n",
    "Apply __`40`__ steps of pair insertion to the polymer template and find the most and least common elements in the result. \n",
    "\n",
    "__What do you get if you take the quantity of the most common element and subtract the quantity of the least common element__?"
   ]
  },
  {
   "cell_type": "markdown",
   "id": "5495806d",
   "metadata": {},
   "source": [
    "#### Test"
   ]
  },
  {
   "cell_type": "code",
   "execution_count": 4,
   "id": "08c89127",
   "metadata": {},
   "outputs": [
    {
     "name": "stdout",
     "output_type": "stream",
     "text": [
      "Quantity after 40 steps: 2188189693529\n"
     ]
    }
   ],
   "source": [
    "test_temp = str(test_template_1)\n",
    "test_pairs = list(test_pairs_1)\n",
    "test_rules = {}\n",
    "test_count_pairs = Counter()\n",
    "test_count_chars = None\n",
    "\n",
    "for p in test_pairs:\n",
    "    \n",
    "    pair = p.split(' -> ')[0]\n",
    "    add = p.split(' -> ')[1]\n",
    "    test_rules[pair] = add\n",
    "\n",
    "for i in range(len(test_temp) - 1):\n",
    "    \n",
    "    pair = test_temp[i] + test_temp[i + 1]\n",
    "    test_count_pairs[pair] = test_count_pairs[pair] + 1\n",
    "\n",
    "for t in range(41):\n",
    "\n",
    "    test_count_chars = Counter()\n",
    "    \n",
    "    for p in test_count_pairs:\n",
    "        \n",
    "        test_count_chars[p[0]] = test_count_chars[p[0]] + test_count_pairs[p]\n",
    "        \n",
    "    test_count_chars[test_temp[-1]] = test_count_chars[test_temp[-1]] + 1\n",
    "    \n",
    "\n",
    "    # AB->R = AR RB\n",
    "    test_new_count_pairs = Counter()\n",
    "    \n",
    "    for p in test_count_pairs:\n",
    "        \n",
    "        test_new_count_pairs[p[0] + test_rules[p]] = test_new_count_pairs[p[0] + test_rules[p]] + test_count_pairs[p]\n",
    "        test_new_count_pairs[test_rules[p] + p[1]] = test_new_count_pairs[test_rules[p] + p[1]] + test_count_pairs[p]\n",
    "        \n",
    "    test_count_pairs = test_new_count_pairs\n",
    "    \n",
    "quant = max(test_count_chars.values()) - min(test_count_chars.values())\n",
    "print(\"Quantity after 40 steps:\" , quant)"
   ]
  },
  {
   "cell_type": "markdown",
   "id": "d6cfa730",
   "metadata": {},
   "source": [
    "#### Answer"
   ]
  },
  {
   "cell_type": "code",
   "execution_count": 5,
   "id": "fcfb6b8d",
   "metadata": {},
   "outputs": [
    {
     "name": "stdout",
     "output_type": "stream",
     "text": [
      "Quantity after 40 steps: 2967977072188\n"
     ]
    }
   ],
   "source": [
    "temp = str(template)\n",
    "pairs = list(pairs)\n",
    "rules = {}\n",
    "count_pairs = Counter()\n",
    "count_chars = None\n",
    "\n",
    "for p in pairs:\n",
    "    \n",
    "    pair = p.split(' -> ')[0]\n",
    "    add = p.split(' -> ')[1]\n",
    "    rules[pair] = add\n",
    "\n",
    "for i in range(len(temp) - 1):\n",
    "    \n",
    "    pair = temp[i] + temp[i + 1]\n",
    "    count_pairs[pair] = count_pairs[pair] + 1\n",
    "\n",
    "for t in range(41):\n",
    "\n",
    "    count_chars = Counter()\n",
    "    \n",
    "    for p in count_pairs:\n",
    "        \n",
    "        count_chars[p[0]] = count_chars[p[0]] + count_pairs[p]\n",
    "        \n",
    "    count_chars[temp[-1]] = count_chars[temp[-1]] + 1\n",
    "    \n",
    "\n",
    "    # AB->R = AR RB\n",
    "    new_count_pairs = Counter()\n",
    "    \n",
    "    for p in count_pairs:\n",
    "        \n",
    "        new_count_pairs[p[0] + rules[p]] = new_count_pairs[p[0] + rules[p]] + count_pairs[p]\n",
    "        new_count_pairs[rules[p] + p[1]] = new_count_pairs[rules[p] + p[1]] + count_pairs[p]\n",
    "        \n",
    "    count_pairs = new_count_pairs\n",
    "    \n",
    "quant = max(count_chars.values()) - min(count_chars.values())\n",
    "print(\"Quantity after 40 steps:\" , quant)"
   ]
  }
 ],
 "metadata": {
  "kernelspec": {
   "display_name": "Python 3",
   "language": "python",
   "name": "python3"
  },
  "language_info": {
   "codemirror_mode": {
    "name": "ipython",
    "version": 3
   },
   "file_extension": ".py",
   "mimetype": "text/x-python",
   "name": "python",
   "nbconvert_exporter": "python",
   "pygments_lexer": "ipython3",
   "version": "3.8.8"
  }
 },
 "nbformat": 4,
 "nbformat_minor": 5
}
