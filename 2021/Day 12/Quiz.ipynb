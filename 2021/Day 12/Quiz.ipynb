{
 "cells": [
  {
   "cell_type": "markdown",
   "id": "40d558d3",
   "metadata": {},
   "source": [
    "# --- Day 12: Passage Pathing ---"
   ]
  },
  {
   "cell_type": "code",
   "execution_count": 1,
   "id": "bc4bd7ff",
   "metadata": {},
   "outputs": [],
   "source": [
    "from Quiz import *\n",
    "from collections import deque"
   ]
  },
  {
   "cell_type": "markdown",
   "id": "23a24488",
   "metadata": {},
   "source": [
    "### --- Part One ---"
   ]
  },
  {
   "cell_type": "markdown",
   "id": "63bacb20",
   "metadata": {},
   "source": [
    "With your <ins>submarine's subterranean subsystems subsisting suboptimally</ins>, the only way you're getting out of this cave anytime soon is by finding a path yourself. Not just __a__ path - the only way to know if you've found the __best__ path is to find __all__ of them.\n",
    "\n",
    "Fortunately, the sensors are still mostly working, and so you build a rough map of the remaining caves (your puzzle input). For example:\n",
    "\n",
    "`start-A\n",
    "start-b\n",
    "A-c\n",
    "A-b\n",
    "b-d\n",
    "A-end\n",
    "b-end`\n",
    "\n",
    "This is a list of how all of the caves are connected. You start in the cave named `start`, and your destination is the cave named `end`. An entry like `b-d` means that cave `b` is connected to cave `d` - that is, you can move between them.\n",
    "\n",
    "So, the above cave system looks roughly like this:\n",
    "\n",
    "`    start\n",
    "    /   \\\n",
    "c--A-----b--d\n",
    "    \\   /\n",
    "     end`\n",
    "     \n",
    "Your goal is to find the number of distinct __paths__ that start at `start`, end at `end`, and don't visit small caves more than once. There are two types of caves: __big__ caves (written in uppercase, like `A`) and __small__ caves (written in lowercase, like `b`). It would be a waste of time to visit any small cave more than once, but big caves are large enough that it might be worth visiting them multiple times. So, all paths you find should __visit small caves at most once__, and can __visit big caves any number of times__.\n",
    "\n",
    "Given these rules, there are __`10`__ paths through this example cave system:\n",
    "\n",
    "`start,A,b,A,c,A,end\n",
    "start,A,b,A,end\n",
    "start,A,b,end\n",
    "start,A,c,A,b,A,end\n",
    "start,A,c,A,b,end\n",
    "start,A,c,A,end\n",
    "start,A,end\n",
    "start,b,A,c,A,end\n",
    "start,b,A,end\n",
    "start,b,end`\n",
    "\n",
    "(Each line in the above list corresponds to a single path; the caves visited by that path are listed in the order they are visited and separated by commas.)\n",
    "\n",
    "Note that in this cave system, cave `d` is never visited by any path: to do so, cave `b` would need to be visited twice (once on the way to cave `d` and a second time when returning from cave `d`), and since cave `b` is small, this is not allowed.\n",
    "\n",
    "Here is a slightly larger example:\n",
    "\n",
    "`dc-end\n",
    "HN-start\n",
    "start-kj\n",
    "dc-start\n",
    "dc-HN\n",
    "LN-dc\n",
    "HN-end\n",
    "kj-sa\n",
    "kj-HN\n",
    "kj-dc`\n",
    "\n",
    "The `19` paths through it are as follows:\n",
    "\n",
    "`start,HN,dc,HN,end\n",
    "start,HN,dc,HN,kj,HN,end\n",
    "start,HN,dc,end\n",
    "start,HN,dc,kj,HN,end\n",
    "start,HN,end\n",
    "start,HN,kj,HN,dc,HN,end\n",
    "start,HN,kj,HN,dc,end\n",
    "start,HN,kj,HN,end\n",
    "start,HN,kj,dc,HN,end\n",
    "start,HN,kj,dc,end\n",
    "start,dc,HN,end\n",
    "start,dc,HN,kj,HN,end\n",
    "start,dc,end\n",
    "start,dc,kj,HN,end\n",
    "start,kj,HN,dc,HN,end\n",
    "start,kj,HN,dc,end\n",
    "start,kj,HN,end\n",
    "start,kj,dc,HN,end\n",
    "start,kj,dc,end`\n",
    "\n",
    "Finally, this even larger example has `226` paths through it:\n",
    "\n",
    "`fs-end\n",
    "he-DX\n",
    "fs-he\n",
    "start-DX\n",
    "pj-DX\n",
    "end-zg\n",
    "zg-sl\n",
    "zg-pj\n",
    "pj-he\n",
    "RW-he\n",
    "fs-DX\n",
    "pj-RW\n",
    "zg-RW\n",
    "start-pj\n",
    "he-WI\n",
    "zg-he\n",
    "pj-fs\n",
    "start-RW`\n",
    "\n",
    "__How many paths through this cave system are there that visit small caves at most once__?"
   ]
  },
  {
   "cell_type": "markdown",
   "id": "d7d9f247",
   "metadata": {},
   "source": [
    "#### Test"
   ]
  },
  {
   "cell_type": "code",
   "execution_count": 2,
   "id": "4079e2f8",
   "metadata": {},
   "outputs": [
    {
     "name": "stdout",
     "output_type": "stream",
     "text": [
      "Number of paths: 10\n"
     ]
    }
   ],
   "source": [
    "con_1 = dict(connec_1)\n",
    "start = ('start', set(['start']))\n",
    "count_1 = 0\n",
    "path = deque([start])\n",
    "\n",
    "while (len(path) > 0):\n",
    "\n",
    "    pos , small = path.popleft()\n",
    "    \n",
    "    if (pos == 'end'):\n",
    "        \n",
    "        count_1 = count_1 + 1\n",
    "        \n",
    "        continue\n",
    "        \n",
    "    for y in con_1[pos]:\n",
    "        \n",
    "        if (y not in small):\n",
    "            \n",
    "            new_small = set(small)\n",
    "            \n",
    "            if (y.islower()):\n",
    "                \n",
    "                new_small.add(y)\n",
    "                \n",
    "            path.append((y, new_small))\n",
    "            \n",
    "print(\"Number of paths:\" , count_1) "
   ]
  },
  {
   "cell_type": "code",
   "execution_count": 3,
   "id": "e65ebdd8",
   "metadata": {},
   "outputs": [
    {
     "name": "stdout",
     "output_type": "stream",
     "text": [
      "Number of paths: 19\n"
     ]
    }
   ],
   "source": [
    "con_2 = dict(connec_2)\n",
    "start = ('start', set(['start']))\n",
    "count_2 = 0\n",
    "path = deque([start])\n",
    "\n",
    "while (len(path) > 0):\n",
    "\n",
    "    pos , small = path.popleft()\n",
    "    \n",
    "    if (pos == 'end'):\n",
    "        \n",
    "        count_2 = count_2 + 1\n",
    "        \n",
    "        continue\n",
    "        \n",
    "    for y in con_2[pos]:\n",
    "        \n",
    "        if (y not in small):\n",
    "            \n",
    "            new_small = set(small)\n",
    "            \n",
    "            if (y.islower()):\n",
    "                \n",
    "                new_small.add(y)\n",
    "                \n",
    "            path.append((y, new_small))\n",
    "            \n",
    "print(\"Number of paths:\" , count_2)"
   ]
  },
  {
   "cell_type": "code",
   "execution_count": 4,
   "id": "5fe4f3a5",
   "metadata": {},
   "outputs": [
    {
     "name": "stdout",
     "output_type": "stream",
     "text": [
      "Number of paths: 226\n"
     ]
    }
   ],
   "source": [
    "con_3 = dict(connec_3)\n",
    "start = ('start', set(['start']))\n",
    "count_3 = 0\n",
    "path = deque([start])\n",
    "\n",
    "while (len(path) > 0):\n",
    "\n",
    "    pos , small = path.popleft()\n",
    "    \n",
    "    if (pos == 'end'):\n",
    "        \n",
    "        count_3 = count_3 + 1\n",
    "        \n",
    "        continue\n",
    "        \n",
    "    for y in con_3[pos]:\n",
    "        \n",
    "        if (y not in small):\n",
    "            \n",
    "            new_small = set(small)\n",
    "            \n",
    "            if (y.islower()):\n",
    "                \n",
    "                new_small.add(y)\n",
    "                \n",
    "            path.append((y, new_small))\n",
    "            \n",
    "print(\"Number of paths:\" , count_3)"
   ]
  },
  {
   "cell_type": "markdown",
   "id": "49d3e855",
   "metadata": {},
   "source": [
    "#### Answer"
   ]
  },
  {
   "cell_type": "code",
   "execution_count": 5,
   "id": "002ced50",
   "metadata": {},
   "outputs": [
    {
     "name": "stdout",
     "output_type": "stream",
     "text": [
      "Number of paths: 5228\n"
     ]
    }
   ],
   "source": [
    "con = dict(connec)\n",
    "start = ('start', set(['start']))\n",
    "count = 0\n",
    "path = deque([start])\n",
    "\n",
    "while (len(path) > 0):\n",
    "\n",
    "    pos , small = path.popleft()\n",
    "    \n",
    "    if (pos == 'end'):\n",
    "        \n",
    "        count = count + 1\n",
    "        \n",
    "        continue\n",
    "        \n",
    "    for y in con[pos]:\n",
    "        \n",
    "        if (y not in small):\n",
    "            \n",
    "            new_small = set(small)\n",
    "            \n",
    "            if (y.islower()):\n",
    "                \n",
    "                new_small.add(y)\n",
    "                \n",
    "            path.append((y, new_small))\n",
    "            \n",
    "print(\"Number of paths:\" , count)"
   ]
  },
  {
   "cell_type": "markdown",
   "id": "f9610680",
   "metadata": {},
   "source": [
    "-------------------------------------"
   ]
  },
  {
   "cell_type": "markdown",
   "id": "91f6b606",
   "metadata": {},
   "source": [
    "### --- Part Two ---"
   ]
  },
  {
   "cell_type": "markdown",
   "id": "5e3c6a5c",
   "metadata": {},
   "source": [
    "After reviewing the available paths, you realize you might have time to visit a single small cave __twice__. Specifically, big caves can be visited any number of times, a single small cave can be visited at most twice, and the remaining small caves can be visited at most once. However, the caves named `start` and `end` can only be visited __exactly once each__: once you leave the `start` cave, you may not return to it, and once you reach the `end` cave, the path must end immediately.\n",
    "\n",
    "Now, the `36` possible paths through the first example above are:\n",
    "\n",
    "`start,A,b,A,b,A,c,A,end\n",
    "start,A,b,A,b,A,end\n",
    "start,A,b,A,b,end\n",
    "start,A,b,A,c,A,b,A,end\n",
    "start,A,b,A,c,A,b,end\n",
    "start,A,b,A,c,A,c,A,end\n",
    "start,A,b,A,c,A,end\n",
    "start,A,b,A,end\n",
    "start,A,b,d,b,A,c,A,end\n",
    "start,A,b,d,b,A,end\n",
    "start,A,b,d,b,end\n",
    "start,A,b,end\n",
    "start,A,c,A,b,A,b,A,end\n",
    "start,A,c,A,b,A,b,end\n",
    "start,A,c,A,b,A,c,A,end\n",
    "start,A,c,A,b,A,end\n",
    "start,A,c,A,b,d,b,A,end\n",
    "start,A,c,A,b,d,b,end\n",
    "start,A,c,A,b,end\n",
    "start,A,c,A,c,A,b,A,end\n",
    "start,A,c,A,c,A,b,end\n",
    "start,A,c,A,c,A,end\n",
    "start,A,c,A,end\n",
    "start,A,end\n",
    "start,b,A,b,A,c,A,end\n",
    "start,b,A,b,A,end\n",
    "start,b,A,b,end\n",
    "start,b,A,c,A,b,A,end\n",
    "start,b,A,c,A,b,end\n",
    "start,b,A,c,A,c,A,end\n",
    "start,b,A,c,A,end\n",
    "start,b,A,end\n",
    "start,b,d,b,A,c,A,end\n",
    "start,b,d,b,A,end\n",
    "start,b,d,b,end\n",
    "start,b,end`\n",
    "\n",
    "The slightly larger example above now has `103` paths through it, and the even larger example now has `3509` paths through it.\n",
    "\n",
    "Given these new rules, __how many paths through this cave system are there__?"
   ]
  },
  {
   "cell_type": "markdown",
   "id": "5495806d",
   "metadata": {},
   "source": [
    "#### Test"
   ]
  },
  {
   "cell_type": "code",
   "execution_count": 6,
   "id": "a7372920",
   "metadata": {},
   "outputs": [
    {
     "name": "stdout",
     "output_type": "stream",
     "text": [
      "Number of paths: 36\n"
     ]
    }
   ],
   "source": [
    "con_1 = dict(connec_1)\n",
    "start = ('start', set(['start']) , None)\n",
    "count_1 = 0\n",
    "path = deque([start])\n",
    "\n",
    "while (len(path) > 0):\n",
    "\n",
    "    pos , small , two = path.popleft()\n",
    "    \n",
    "    if (pos == 'end'):\n",
    "        \n",
    "        count_1 = count_1 + 1\n",
    "        \n",
    "        continue\n",
    "        \n",
    "    for y in con_1[pos]:\n",
    "        \n",
    "        if (y not in small):\n",
    "            \n",
    "            new_small = set(small)\n",
    "            \n",
    "            if (y.islower()):\n",
    "                \n",
    "                new_small.add(y)\n",
    "                \n",
    "            path.append((y, new_small, two))\n",
    "\n",
    "        elif ((y in small) and (two == None) and (y not in [\"start\" , \"end\"])):\n",
    "\n",
    "                path.append((y, small, y))\n",
    "            \n",
    "print(\"Number of paths:\" , count_1)"
   ]
  },
  {
   "cell_type": "code",
   "execution_count": 7,
   "id": "c2fbf5fe",
   "metadata": {},
   "outputs": [
    {
     "name": "stdout",
     "output_type": "stream",
     "text": [
      "Number of paths: 103\n"
     ]
    }
   ],
   "source": [
    "con_2 = dict(connec_2)\n",
    "start = ('start', set(['start']) , None)\n",
    "count_2 = 0\n",
    "path = deque([start])\n",
    "\n",
    "while (len(path) > 0):\n",
    "\n",
    "    pos , small , two = path.popleft()\n",
    "    \n",
    "    if (pos == 'end'):\n",
    "        \n",
    "        count_2 = count_2 + 1\n",
    "        \n",
    "        continue\n",
    "        \n",
    "    for y in con_2[pos]:\n",
    "        \n",
    "        if (y not in small):\n",
    "            \n",
    "            new_small = set(small)\n",
    "            \n",
    "            if (y.islower()):\n",
    "                \n",
    "                new_small.add(y)\n",
    "                \n",
    "            path.append((y, new_small, two))\n",
    "\n",
    "        elif ((y in small) and (two == None) and (y not in [\"start\" , \"end\"])):\n",
    "\n",
    "                path.append((y, small, y))\n",
    "            \n",
    "print(\"Number of paths:\" , count_2)"
   ]
  },
  {
   "cell_type": "code",
   "execution_count": 8,
   "id": "59f9af4b",
   "metadata": {},
   "outputs": [
    {
     "name": "stdout",
     "output_type": "stream",
     "text": [
      "Number of paths: 3509\n"
     ]
    }
   ],
   "source": [
    "con_3 = dict(connec_3)\n",
    "start = ('start', set(['start']) , None)\n",
    "count_3 = 0\n",
    "path = deque([start])\n",
    "\n",
    "while (len(path) > 0):\n",
    "\n",
    "    pos , small , two = path.popleft()\n",
    "    \n",
    "    if (pos == 'end'):\n",
    "        \n",
    "        count_3 = count_3 + 1\n",
    "        \n",
    "        continue\n",
    "        \n",
    "    for y in con_3[pos]:\n",
    "        \n",
    "        if (y not in small):\n",
    "            \n",
    "            new_small = set(small)\n",
    "            \n",
    "            if (y.islower()):\n",
    "                \n",
    "                new_small.add(y)\n",
    "                \n",
    "            path.append((y, new_small, two))\n",
    "\n",
    "        elif ((y in small) and (two == None) and (y not in [\"start\" , \"end\"])):\n",
    "\n",
    "                path.append((y, small, y))\n",
    "            \n",
    "print(\"Number of paths:\" , count_3)"
   ]
  },
  {
   "cell_type": "markdown",
   "id": "d6cfa730",
   "metadata": {},
   "source": [
    "#### Answer"
   ]
  },
  {
   "cell_type": "code",
   "execution_count": 9,
   "id": "aa0530e5",
   "metadata": {},
   "outputs": [
    {
     "name": "stdout",
     "output_type": "stream",
     "text": [
      "Number of paths: 131228\n"
     ]
    }
   ],
   "source": [
    "con = dict(connec)\n",
    "start = ('start', set(['start']) , None)\n",
    "count = 0\n",
    "path = deque([start])\n",
    "\n",
    "while (len(path) > 0):\n",
    "\n",
    "    pos , small , two = path.popleft()\n",
    "    \n",
    "    if (pos == 'end'):\n",
    "        \n",
    "        count = count + 1\n",
    "        \n",
    "        continue\n",
    "        \n",
    "    for y in con[pos]:\n",
    "        \n",
    "        if (y not in small):\n",
    "            \n",
    "            new_small = set(small)\n",
    "            \n",
    "            if (y.islower()):\n",
    "                \n",
    "                new_small.add(y)\n",
    "                \n",
    "            path.append((y, new_small, two))\n",
    "\n",
    "        elif ((y in small) and (two == None) and (y not in [\"start\" , \"end\"])):\n",
    "\n",
    "                path.append((y, small, y))\n",
    "            \n",
    "print(\"Number of paths:\" , count)"
   ]
  }
 ],
 "metadata": {
  "kernelspec": {
   "display_name": "Python 3",
   "language": "python",
   "name": "python3"
  },
  "language_info": {
   "codemirror_mode": {
    "name": "ipython",
    "version": 3
   },
   "file_extension": ".py",
   "mimetype": "text/x-python",
   "name": "python",
   "nbconvert_exporter": "python",
   "pygments_lexer": "ipython3",
   "version": "3.8.8"
  }
 },
 "nbformat": 4,
 "nbformat_minor": 5
}
