{
 "cells": [
  {
   "cell_type": "markdown",
   "id": "40d558d3",
   "metadata": {},
   "source": [
    "# --- Day 20: Trench Map ---"
   ]
  },
  {
   "cell_type": "code",
   "execution_count": 1,
   "id": "bc4bd7ff",
   "metadata": {},
   "outputs": [],
   "source": [
    "from Quiz import *\n",
    "from copy import deepcopy\n",
    "import numpy as np"
   ]
  },
  {
   "cell_type": "markdown",
   "id": "23a24488",
   "metadata": {},
   "source": [
    "### --- Part One ---"
   ]
  },
  {
   "cell_type": "markdown",
   "id": "63bacb20",
   "metadata": {},
   "source": [
    "With the scanners fully deployed, you turn their attention to mapping the floor of the ocean trench.\n",
    "\n",
    "When you get back the image from the scanners, it seems to just be random noise. Perhaps you can combine an image enhancement algorithm and the input image (your puzzle input) to clean it up a little.\n",
    "\n",
    "For example:\n",
    "\n",
    "`..#.#..#####.#.#.#.###.##.....###.##.#..###.####..#####..#....#..#..##..##\n",
    "#..######.###...####..#..#####..##..#.#####...##.#.#..#.##..#.#......#.###\n",
    ".######.###.####...#.##.##..#..#..#####.....#.#....###..#.##......#.....#.\n",
    ".#..#..##..#...##.######.####.####.#.#...#.......#..#.#.#...####.##.#.....\n",
    ".#..#...##.#.##..#...##.#.##..###.#......#.#.......#.#.#.####.###.##...#..\n",
    "...####.#..#..#.##.#....##..#.####....##...##..#...#......#.#.......#.....\n",
    "..##..####..#...#.#.#...##..#.#..###..#####........#..####......#..#`\n",
    "\n",
    "`#..#.\n",
    "#....\n",
    "##..#\n",
    "..#..\n",
    "..###`\n",
    "\n",
    "The first section is the __image enhancement algorithm__. It is normally given on a single line, but it has been wrapped to multiple lines in this example for legibility. The second section is the __input image__, a two-dimensional grid of __light pixels__ (`#`) and __dark pixels__ (`.`).\n",
    "\n",
    "The image enhancement algorithm describes how to enhance an image by __simultaneously__ converting all pixels in the input image into an output image. Each pixel of the output image is determined by looking at a 3x3 square of pixels centered on the corresponding input image pixel. So, to determine the value of the pixel at (5,10) in the output image, nine pixels from the input image need to be considered: (4,9), (4,10), (4,11), (5,9), (5,10), (5,11), (6,9), (6,10), and (6,11). These nine input pixels are combined into a single binary number that is used as an index in the __image enhancement algorithm__ string.\n",
    "\n",
    "For example, to determine the output pixel that corresponds to the very middle pixel of the input image, the nine pixels marked by `[...]` would need to be considered:\n",
    "\n",
    "`# . . # .\n",
    "#[. . .].\n",
    "#[# . .]#\n",
    ".[. # .].\n",
    ". . # # #`\n",
    "\n",
    "Starting from the top-left and reading across each row, these pixels are `...`, then `#..`, then `.#.`; combining these forms `...#...#..` By turning dark pixels (`.`) into `0` and light pixels (`#`) into `1`, the binary number `000100010` can be formed, which is `34` in decimal.\n",
    "\n",
    "The image enhancement algorithm string is exactly 512 characters long, enough to match every possible 9-bit binary number. The first few characters of the string (numbered starting from zero) are as follows:\n",
    "\n",
    "`0         10        20        30  `__`34`__`    40        50        60        70\n",
    "|         |         |         |   `__`|`__`     |         |         |         |\n",
    "..#.#..#####.#.#.#.###.##.....###.`__`#`__`#.#..###.####..#####..#....#..#..##..##`\n",
    "\n",
    "In the middle of this first group of characters, the character at index 34 can be found: `#`. So, the output pixel in the center of the output image should be `#`, a __light pixel__.\n",
    "\n",
    "This process can then be repeated to calculate every pixel of the output image.\n",
    "\n",
    "Through advances in imaging technology, the images being operated on here are __infinite__ in size. __Every__ pixel of the infinite output image needs to be calculated exactly based on the relevant pixels of the input image. The small input image you have is only a small region of the actual infinite input image; the rest of the input image consists of dark pixels (`.`). For the purposes of the example, to save on space, only a portion of the infinite-sized input and output images will be shown.\n",
    "\n",
    "The starting input image, therefore, looks something like this, with more dark pixels (`.`) extending forever in every direction not shown here:\n",
    "\n",
    "`...............\n",
    "...............\n",
    "...............\n",
    "...............\n",
    "...............\n",
    ".....#..#......\n",
    ".....#.........\n",
    ".....##..#.....\n",
    ".......#.......\n",
    ".......###.....\n",
    "...............\n",
    "...............\n",
    "...............\n",
    "...............\n",
    "...............`\n",
    "\n",
    "By applying the image enhancement algorithm to every pixel simultaneously, the following output image can be obtained:\n",
    "\n",
    "`...............\n",
    "...............\n",
    "...............\n",
    "...............\n",
    ".....##.##.....\n",
    "....#..#.#.....\n",
    "....##.#..#....\n",
    "....####..#....\n",
    ".....#..##.....\n",
    "......##..#....\n",
    ".......#.#.....\n",
    "...............\n",
    "...............\n",
    "...............\n",
    "...............`\n",
    "\n",
    "Through further advances in imaging technology, the above output image can also be used as an input image! This allows it to be enhanced __a second time__:\n",
    "\n",
    "`...............\n",
    "...............\n",
    "...............\n",
    "..........#....\n",
    "....#..#.#.....\n",
    "...#.#...###...\n",
    "...#...##.#....\n",
    "...#.....#.#...\n",
    "....#.#####....\n",
    ".....#.#####...\n",
    "......##.##....\n",
    ".......###.....\n",
    "...............\n",
    "...............\n",
    "...............`\n",
    "\n",
    "Truly incredible - now the small details are really starting to come through. After enhancing the original input image twice, __`35`__ pixels are lit.\n",
    "\n",
    "Start with the original input image and apply the image enhancement algorithm twice, being careful to account for the infinite size of the images. \n",
    "\n",
    "__How many pixels are lit in the resulting image?__"
   ]
  },
  {
   "cell_type": "code",
   "execution_count": 2,
   "id": "ffcb7323",
   "metadata": {},
   "outputs": [],
   "source": [
    "def prepare(image , algo):\n",
    "    \n",
    "    for l in range(len(image)):\n",
    "\n",
    "        image[l] = list(image[l])\n",
    "\n",
    "    for l in range(len(image)):\n",
    "\n",
    "        for c in range(len(image[l])):\n",
    "\n",
    "            if(image[l][c] == '.'):\n",
    "\n",
    "                image[l][c] = '0'\n",
    "\n",
    "            else:\n",
    "\n",
    "                image[l][c] = '1'\n",
    "          \n",
    "    for i in range(len(algo)):\n",
    "\n",
    "        if(algo[i] == '.'):\n",
    "\n",
    "            algo[i] = '0'\n",
    "\n",
    "        else:\n",
    "\n",
    "            algo[i] = '1'\n",
    "\n",
    "    return (image , algo)"
   ]
  },
  {
   "cell_type": "code",
   "execution_count": 3,
   "id": "6f03f3a4",
   "metadata": {},
   "outputs": [],
   "source": [
    "def enhance(img , num_of_steps = 2 , fill_value = 0 , pad_size = 2):\n",
    "    \n",
    "    for steps in range(num_of_steps):\n",
    "        \n",
    "        img = np.pad(img , pad_size , constant_values = fill_value)\n",
    "        rows = img.shape[0]\n",
    "        cols = img.shape[1]\n",
    "        \n",
    "        stride_rows = rows - pad_size\n",
    "        stride_cols = cols - pad_size\n",
    "        stride_shape = (stride_rows , stride_cols , 3 , 3)\n",
    "        \n",
    "        stride = np.lib.stride_tricks.as_strided(img , stride_shape , 2 * img.strides)\n",
    "        stride = np.reshape(stride , (stride_rows , stride_cols , 9))\n",
    "        \n",
    "        codes = stride[: , : , 0] * 256 + np.packbits(stride[: , : , 1:]).reshape(stride_rows , stride_cols)\n",
    "        \n",
    "        img = algorithm[codes]\n",
    "        \n",
    "        fill_value = algorithm[fill_value]\n",
    "        \n",
    "    return img"
   ]
  },
  {
   "cell_type": "markdown",
   "id": "d7d9f247",
   "metadata": {},
   "source": [
    "#### Test"
   ]
  },
  {
   "cell_type": "code",
   "execution_count": 4,
   "id": "27a0bb05",
   "metadata": {},
   "outputs": [
    {
     "name": "stdout",
     "output_type": "stream",
     "text": [
      "Lit pixels after 2 enhancements: 35\n"
     ]
    }
   ],
   "source": [
    "image = deepcopy(test_input_image)\n",
    "algo = list(deepcopy(test_input_algo))\n",
    "\n",
    "prep = prepare(image , algo)\n",
    "img = prep[0]\n",
    "algorithm = prep[1]\n",
    "\n",
    "algorithm = np.array([int(x) for x in algorithm])\n",
    "img_temp = []\n",
    "\n",
    "for row in img:\n",
    "    \n",
    "    img_temp.append([int(x) for x in row])\n",
    "\n",
    "img_in = np.array(img_temp)\n",
    "\n",
    "print(\"Lit pixels after 2 enhancements:\" , np.sum(enhance(img_in)))"
   ]
  },
  {
   "cell_type": "markdown",
   "id": "49d3e855",
   "metadata": {},
   "source": [
    "#### Answer"
   ]
  },
  {
   "cell_type": "code",
   "execution_count": 5,
   "id": "bd534ff9",
   "metadata": {},
   "outputs": [
    {
     "name": "stdout",
     "output_type": "stream",
     "text": [
      "Lit pixels after 2 enhancements: 4928\n"
     ]
    }
   ],
   "source": [
    "image = deepcopy(input_image)\n",
    "algo = list(deepcopy(input_algo))\n",
    "\n",
    "prep = prepare(image , algo)\n",
    "img = prep[0]\n",
    "algorithm = prep[1]\n",
    "\n",
    "algorithm = np.array([int(x) for x in algorithm])\n",
    "img_temp = []\n",
    "\n",
    "for row in img:\n",
    "    \n",
    "    img_temp.append([int(x) for x in row])\n",
    "\n",
    "img_in = np.array(img_temp)\n",
    "\n",
    "print(\"Lit pixels after 2 enhancements:\" , np.sum(enhance(img_in)))"
   ]
  },
  {
   "cell_type": "markdown",
   "id": "f9610680",
   "metadata": {},
   "source": [
    "-------------------------------------"
   ]
  },
  {
   "cell_type": "markdown",
   "id": "91f6b606",
   "metadata": {},
   "source": [
    "### --- Part Two ---"
   ]
  },
  {
   "cell_type": "markdown",
   "id": "5e3c6a5c",
   "metadata": {},
   "source": [
    "You still can't quite make out the details in the image. Maybe you just didn't enhance https://en.wikipedia.org/wiki/Kernel_(image_processing) it <ins>enough</ins>.\n",
    "\n",
    "If you enhance the starting input image in the above example a total of __`50`__ times, __`3351`__ pixels are lit in the final output image.\n",
    "\n",
    "Start again with the original input image and apply the image enhancement algorithm 50 times.\n",
    "\n",
    "__How many pixels are lit in the resulting image?__"
   ]
  },
  {
   "cell_type": "markdown",
   "id": "5495806d",
   "metadata": {},
   "source": [
    "#### Test"
   ]
  },
  {
   "cell_type": "code",
   "execution_count": 6,
   "id": "dd9664e8",
   "metadata": {},
   "outputs": [
    {
     "name": "stdout",
     "output_type": "stream",
     "text": [
      "Lit pixels after 50 enhancements: 3351\n"
     ]
    }
   ],
   "source": [
    "image = deepcopy(test_input_image)\n",
    "algo = list(deepcopy(test_input_algo))\n",
    "\n",
    "prep = prepare(image , algo)\n",
    "img = prep[0]\n",
    "algorithm = prep[1]\n",
    "\n",
    "algorithm = np.array([int(x) for x in algorithm])\n",
    "img_temp = []\n",
    "\n",
    "for row in img:\n",
    "    \n",
    "    img_temp.append([int(x) for x in row])\n",
    "\n",
    "img_in = np.array(img_temp)\n",
    "\n",
    "print(\"Lit pixels after 50 enhancements:\" , np.sum(enhance(img_in , 50)))"
   ]
  },
  {
   "cell_type": "markdown",
   "id": "d6cfa730",
   "metadata": {},
   "source": [
    "#### Answer"
   ]
  },
  {
   "cell_type": "code",
   "execution_count": 7,
   "id": "64f6fea7",
   "metadata": {},
   "outputs": [
    {
     "name": "stdout",
     "output_type": "stream",
     "text": [
      "Lit pixels after 50 enhancements: 16605\n"
     ]
    }
   ],
   "source": [
    "image = deepcopy(input_image)\n",
    "algo = list(deepcopy(input_algo))\n",
    "\n",
    "prep = prepare(image , algo)\n",
    "img = prep[0]\n",
    "algorithm = prep[1]\n",
    "\n",
    "algorithm = np.array([int(x) for x in algorithm])\n",
    "img_temp = []\n",
    "\n",
    "for row in img:\n",
    "    \n",
    "    img_temp.append([int(x) for x in row])\n",
    "\n",
    "img_in = np.array(img_temp)\n",
    "\n",
    "print(\"Lit pixels after 50 enhancements:\" , np.sum(enhance(img_in , 50)))"
   ]
  }
 ],
 "metadata": {
  "kernelspec": {
   "display_name": "Python 3",
   "language": "python",
   "name": "python3"
  },
  "language_info": {
   "codemirror_mode": {
    "name": "ipython",
    "version": 3
   },
   "file_extension": ".py",
   "mimetype": "text/x-python",
   "name": "python",
   "nbconvert_exporter": "python",
   "pygments_lexer": "ipython3",
   "version": "3.8.8"
  }
 },
 "nbformat": 4,
 "nbformat_minor": 5
}
