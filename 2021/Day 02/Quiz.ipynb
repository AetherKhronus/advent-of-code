{
 "cells": [
  {
   "cell_type": "markdown",
   "id": "40d558d3",
   "metadata": {},
   "source": [
    "# --- Day 2: Dive! ---"
   ]
  },
  {
   "cell_type": "code",
   "execution_count": 1,
   "id": "bc4bd7ff",
   "metadata": {},
   "outputs": [],
   "source": [
    "from Quiz import *"
   ]
  },
  {
   "cell_type": "markdown",
   "id": "23a24488",
   "metadata": {},
   "source": [
    "### --- Part One ---"
   ]
  },
  {
   "cell_type": "markdown",
   "id": "63bacb20",
   "metadata": {},
   "source": [
    "Now, you need to figure out how to <ins>pilot this thing</ins>.\n",
    "\n",
    "It seems like the submarine can take a series of commands like `forward 1`, `down 2`, or `up 3`:\n",
    "\n",
    "- `forward X` __increases__ the horizontal position by `X` units.\n",
    "- `down X` __increases__ the depth by `X` units.\n",
    "- `up X` __decreases__ the depth by `X` units.\n",
    "\n",
    "Note that since you're on a submarine, `down` and `up` affect your __depth__, and so they have the opposite result of what you might expect.\n",
    "\n",
    "The submarine seems to already have a planned course (your puzzle input). You should probably figure out where it's going. For example:\n",
    "\n",
    "`forward 5` <br>\n",
    "`down 5` <br>\n",
    "`forward 8` <br>\n",
    "`up 3` <br>\n",
    "`down 8` <br>\n",
    "`forward 2` <br>\n",
    "\n",
    "Your horizontal position and depth both start at `0`. The steps above would then modify them as follows:\n",
    "\n",
    "- `forward 5` adds `5` to your horizontal position, a total of `5`.\n",
    "- `down 5` adds `5` to your depth, resulting in a value of `5`.\n",
    "- `forward 8` adds `8` to your horizontal position, a total of `13`.\n",
    "- `up 3` decreases your depth by `3`, resulting in a value of `2`.\n",
    "- `down 8` adds `8` to your depth, resulting in a value of `10`.\n",
    "- `forward 2` adds `2` to your horizontal position, a total of `15`.\n",
    "\n",
    "After following these instructions, you would have a horizontal position of 15 and a depth of 10. (Multiplying these together produces `150`.)\n",
    "\n",
    "Calculate the horizontal position and depth you would have after following the planned course. \n",
    "\n",
    "__What do you get if you multiply your final horizontal position by your final depth__?"
   ]
  },
  {
   "cell_type": "markdown",
   "id": "d7d9f247",
   "metadata": {},
   "source": [
    "#### Test"
   ]
  },
  {
   "cell_type": "code",
   "execution_count": 2,
   "id": "4079e2f8",
   "metadata": {},
   "outputs": [
    {
     "name": "stdout",
     "output_type": "stream",
     "text": [
      "Course: ['forward 5', 'down 5', 'forward 8', 'up 3', 'down 8', 'forward 2']\n",
      "Horizontal: 15\n",
      "Vertical: 10\n",
      "Multiplied: 150\n"
     ]
    }
   ],
   "source": [
    "test_hori = 0\n",
    "test_verti = 0\n",
    "\n",
    "for test_c in test_course_1:\n",
    "    \n",
    "    test_dir = test_c.split(\" \")[0]\n",
    "    test_num = test_c.split(\" \")[1]\n",
    "    \n",
    "    if (test_dir == \"forward\"):\n",
    "        \n",
    "        test_hori = test_hori + int(test_num)\n",
    "        \n",
    "    elif (test_dir == \"down\"):\n",
    "        \n",
    "        test_verti = test_verti + int(test_num)\n",
    "        \n",
    "    else:\n",
    "        \n",
    "        test_verti = test_verti - int(test_num)\n",
    "\n",
    "print(\"Course:\" , test_course_1)\n",
    "print(\"Horizontal:\" , test_hori)\n",
    "print(\"Vertical:\" , test_verti)\n",
    "print(\"Multiplied:\" , test_hori * test_verti)"
   ]
  },
  {
   "cell_type": "markdown",
   "id": "49d3e855",
   "metadata": {},
   "source": [
    "#### Answer"
   ]
  },
  {
   "cell_type": "code",
   "execution_count": 3,
   "id": "002ced50",
   "metadata": {},
   "outputs": [
    {
     "name": "stdout",
     "output_type": "stream",
     "text": [
      "Horizontal: 1950\n",
      "Vertical: 823\n",
      "Multiplied: 1604850\n"
     ]
    }
   ],
   "source": [
    "hori = 0\n",
    "verti = 0\n",
    "\n",
    "for c in course:\n",
    "    \n",
    "    dir = c.split(\" \")[0]\n",
    "    num = c.split(\" \")[1]\n",
    "    \n",
    "    if (dir == \"forward\"):\n",
    "        \n",
    "        hori = hori + int(num)\n",
    "        \n",
    "    elif (dir == \"down\"):\n",
    "        \n",
    "        verti = verti + int(num)\n",
    "        \n",
    "    else:\n",
    "        \n",
    "        verti = verti - int(num)\n",
    "\n",
    "#print(\"Course:\" , course)\n",
    "print(\"Horizontal:\" , hori)\n",
    "print(\"Vertical:\" , verti)\n",
    "print(\"Multiplied:\" , hori * verti)"
   ]
  },
  {
   "cell_type": "markdown",
   "id": "f9610680",
   "metadata": {},
   "source": [
    "-------------------------------------"
   ]
  },
  {
   "cell_type": "markdown",
   "id": "91f6b606",
   "metadata": {},
   "source": [
    "### --- Part Two ---"
   ]
  },
  {
   "cell_type": "markdown",
   "id": "5e3c6a5c",
   "metadata": {},
   "source": [
    "Based on your calculations, the planned course doesn't seem to make any sense. You find the submarine manual and discover that the process is actually slightly more complicated.\n",
    "\n",
    "In addition to horizontal position and depth, you'll also need to track a third value, __aim__, which also starts at `0`. The commands also mean something entirely different than you first thought:\n",
    "\n",
    "- `down X` __increases__ your aim by `X` units.\n",
    "- `up X` __decreases__ your aim by `X` units.\n",
    "- `forward X` does two things:\n",
    "    - It increases your horizontal position by `X` units.\n",
    "    - It increases your depth by your aim __multiplied by__ `X`.\n",
    "    \n",
    "Again note that since you're on a submarine, `down` and `up` do the opposite of what you might expect: \"down\" means aiming in the positive direction.\n",
    "\n",
    "Now, the above example does something different:\n",
    "\n",
    "- `forward 5` adds `5` to your horizontal position, a total of `5`. Because your aim is `0`, your depth does not change.\n",
    "- `down 5` adds `5` to your aim, resulting in a value of `5`.\n",
    "- `forward 8` adds `8` to your horizontal position, a total of `13`. Because your aim is `5`, your depth increases by `8*5=40`.\n",
    "- `up 3` decreases your aim by `3`, resulting in a value of `2`.\n",
    "- `down 8` adds `8` to your aim, resulting in a value of `10`.\n",
    "- `forward 2` adds `2` to your horizontal position, a total of `15`. Because your aim is `10`, your depth increases by `2*10=20` to a total of `60`.\n",
    "\n",
    "After following these new instructions, you would have a horizontal position of `15` and a depth of `60`. (Multiplying these produces `900`.)\n",
    "\n",
    "Using this new interpretation of the commands, calculate the horizontal position and depth you would have after following the planned course. \n",
    "\n",
    "__What do you get if you multiply your final horizontal position by your final depth__?"
   ]
  },
  {
   "cell_type": "markdown",
   "id": "5495806d",
   "metadata": {},
   "source": [
    "#### Test"
   ]
  },
  {
   "cell_type": "code",
   "execution_count": 4,
   "id": "a7372920",
   "metadata": {},
   "outputs": [
    {
     "name": "stdout",
     "output_type": "stream",
     "text": [
      "Course: ['forward 5', 'down 5', 'forward 8', 'up 3', 'down 8', 'forward 2']\n",
      "Horizontal: 15\n",
      "Vertical: 60\n",
      "Multiplied: 900\n"
     ]
    }
   ],
   "source": [
    "test_hori = 0\n",
    "test_verti = 0\n",
    "test_aim = 0\n",
    "\n",
    "for test_c in test_course_1:\n",
    "    \n",
    "    test_dir = test_c.split(\" \")[0]\n",
    "    test_num = test_c.split(\" \")[1]\n",
    "    \n",
    "    if (test_dir == \"forward\"):\n",
    "        \n",
    "        test_hori = test_hori + int(test_num)\n",
    "        test_verti = test_verti + test_aim * int(test_num)\n",
    "        \n",
    "    elif (test_dir == \"down\"):\n",
    "        \n",
    "        test_aim = test_aim + int(test_num)\n",
    "        \n",
    "    else:\n",
    "        \n",
    "        test_aim = test_aim - int(test_num)\n",
    "\n",
    "print(\"Course:\" , test_course_1)\n",
    "print(\"Horizontal:\" , test_hori)\n",
    "print(\"Vertical:\" , test_verti)\n",
    "print(\"Multiplied:\" , test_hori * test_verti)"
   ]
  },
  {
   "cell_type": "markdown",
   "id": "d6cfa730",
   "metadata": {},
   "source": [
    "#### Answer"
   ]
  },
  {
   "cell_type": "code",
   "execution_count": 5,
   "id": "fcd78ded",
   "metadata": {},
   "outputs": [
    {
     "name": "stdout",
     "output_type": "stream",
     "text": [
      "Horizontal: 1950\n",
      "Vertical: 864198\n",
      "Multiplied: 1685186100\n"
     ]
    }
   ],
   "source": [
    "hori = 0\n",
    "verti = 0\n",
    "aim = 0\n",
    "\n",
    "for c in course:\n",
    "    \n",
    "    dir = c.split(\" \")[0]\n",
    "    num = c.split(\" \")[1]\n",
    "    \n",
    "    if (dir == \"forward\"):\n",
    "        \n",
    "        hori = hori + int(num)\n",
    "        verti = verti + aim * int(num)\n",
    "        \n",
    "    elif (dir == \"down\"):\n",
    "        \n",
    "        aim = aim + int(num)\n",
    "        \n",
    "    else:\n",
    "        \n",
    "        aim = aim - int(num)\n",
    "\n",
    "#print(\"Course:\" , course)\n",
    "print(\"Horizontal:\" , hori)\n",
    "print(\"Vertical:\" , verti)\n",
    "print(\"Multiplied:\" , hori * verti)"
   ]
  }
 ],
 "metadata": {
  "kernelspec": {
   "display_name": "Python 3",
   "language": "python",
   "name": "python3"
  },
  "language_info": {
   "codemirror_mode": {
    "name": "ipython",
    "version": 3
   },
   "file_extension": ".py",
   "mimetype": "text/x-python",
   "name": "python",
   "nbconvert_exporter": "python",
   "pygments_lexer": "ipython3",
   "version": "3.8.8"
  }
 },
 "nbformat": 4,
 "nbformat_minor": 5
}
