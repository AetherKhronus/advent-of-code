{
 "cells": [
  {
   "cell_type": "markdown",
   "id": "40d558d3",
   "metadata": {},
   "source": [
    "# --- Day 10: Syntax Scoring ---"
   ]
  },
  {
   "cell_type": "code",
   "execution_count": 1,
   "id": "bc4bd7ff",
   "metadata": {},
   "outputs": [],
   "source": [
    "from Quiz import *"
   ]
  },
  {
   "cell_type": "markdown",
   "id": "23a24488",
   "metadata": {},
   "source": [
    "### --- Part One ---"
   ]
  },
  {
   "cell_type": "markdown",
   "id": "63bacb20",
   "metadata": {},
   "source": [
    "You ask the submarine to determine the best route out of the deep-sea cave, but it only replies:\n",
    "\n",
    "`Syntax error in navigation subsystem on line:` <ins>`all of them`</ins>\n",
    "\n",
    "__All of them?!__ The damage is worse than you thought. You bring up a copy of the navigation subsystem (your puzzle input).\n",
    "\n",
    "The navigation subsystem syntax is made of several lines containing chunks. There are one or more __chunks__ on each line, and chunks contain zero or more other chunks. Adjacent chunks are not separated by any delimiter; if one chunk stops, the next chunk (if any) can immediately start. Every chunk must __open__ and __close__ with one of four legal pairs of matching characters:\n",
    "\n",
    "- If a chunk opens with `(`, it must close with `)`.\n",
    "- If a chunk opens with `[`, it must close with `]`.\n",
    "- If a chunk opens with `{`, it must close with `}`.\n",
    "- If a chunk opens with `<`, it must close with `>`.\n",
    "\n",
    "So, `()` is a legal chunk that contains no other chunks, as is `[]`. More complex but valid chunks include `([])`, `{()()()}`, `<([{}])>`, `[<>({}){}[([])<>]]`, and even `(((((((((())))))))))`.\n",
    "\n",
    "Some lines are __incomplete__, but others are __corrupted__. Find and discard the corrupted lines first.\n",
    "\n",
    "A corrupted line is one where a chunk __closes with the wrong character__ - that is, where the characters it opens and closes with do not form one of the four legal pairs listed above.\n",
    "\n",
    "Examples of corrupted chunks include `(]`, `{()()()>`, `(((()))}`, and `<([]){()}[{}])`. Such a chunk can appear anywhere within a line, and its presence causes the whole line to be considered corrupted.\n",
    "\n",
    "For example, consider the following navigation subsystem:\n",
    "\n",
    "`[({(<(())[]>[[{[]{<()<>>\n",
    "[(()[<>])]({[<{<<[]>>(\n",
    "{([(<{}[<>[]}>{[]{[(<()>\n",
    "(((({<>}<{<{<>}{[]{[]{}\n",
    "[[<[([]))<([[{}[[()]]]\n",
    "[{[{({}]{}}([{[{{{}}([]\n",
    "{<[[]]>}<{[{[{[]{()[[[]\n",
    "[<(<(<(<{}))><([]([]()\n",
    "<{([([[(<>()){}]>(<<{{\n",
    "<{([{{}}[<[[[<>{}]]]>[]]`\n",
    "\n",
    "Some of the lines aren't corrupted, just incomplete; you can ignore these lines for now. The remaining five lines are corrupted:\n",
    "\n",
    "- `{([(<{}[<>[]}>{[]{[(<()>` - Expected `]`, but found `}` instead.\n",
    "- `[[<[([]))<([[{}[[()]]]` - Expected `]`, but found `)` instead.\n",
    "- `[{[{({}]{}}([{[{{{}}([]` - Expected `)`, but found `]` instead.\n",
    "- `[<(<(<(<{}))><([]([]()` - Expected `>`, but found `)` instead.\n",
    "- `<{([([[(<>()){}]>(<<{{` - Expected `]`, but found `>` instead.\n",
    "\n",
    "Stop at the first incorrect closing character on each corrupted line.\n",
    "\n",
    "Did you know that syntax checkers actually have contests to see who can get the high score for syntax errors in a file? It's true! To calculate the syntax error score for a line, take the __first illegal character__ on the line and look it up in the following table:\n",
    "\n",
    "- `)`: `3` points.\n",
    "- `]`: `57` points.\n",
    "- `}`: `1197` points.\n",
    "- `>`: `25137` points.\n",
    "\n",
    "In the above example, an illegal `)` was found twice (`2*3 = `__`6`__ points), an illegal `]` was found once (__`57`__ points), an illegal `}` was found once (__`1197`__ points), and an illegal `>` was found once (__`25137`__ points). So, the total syntax error score for this file is `6+57+1197+25137 = `__`26397`__ points!\n",
    "\n",
    "Find the first illegal character in each corrupted line of the navigation subsystem. \n",
    "\n",
    "__What is the total syntax error score for those errors__?"
   ]
  },
  {
   "cell_type": "markdown",
   "id": "d7d9f247",
   "metadata": {},
   "source": [
    "#### Test"
   ]
  },
  {
   "cell_type": "code",
   "execution_count": 2,
   "id": "4079e2f8",
   "metadata": {},
   "outputs": [
    {
     "name": "stdout",
     "output_type": "stream",
     "text": [
      "Total syntax score for corrupted errors: 26397\n"
     ]
    }
   ],
   "source": [
    "score = 0\n",
    "\n",
    "for line in test_system_1:\n",
    "    \n",
    "    seq = []\n",
    "    \n",
    "    for c_1 in line:\n",
    "        \n",
    "        if (c_1 in pairs.keys()):\n",
    "            \n",
    "            seq.append(c_1)\n",
    "            \n",
    "        else:\n",
    "            \n",
    "            c_2 = seq.pop()\n",
    "            \n",
    "            if (c_1 != pairs.get(c_2)):\n",
    "                \n",
    "                score = score + scores_1[c_1]\n",
    "                break\n",
    "\n",
    "print(\"Total syntax score for corrupted errors:\" , score)"
   ]
  },
  {
   "cell_type": "markdown",
   "id": "49d3e855",
   "metadata": {},
   "source": [
    "#### Answer"
   ]
  },
  {
   "cell_type": "code",
   "execution_count": 3,
   "id": "002ced50",
   "metadata": {},
   "outputs": [
    {
     "name": "stdout",
     "output_type": "stream",
     "text": [
      "Total syntax score for corrupted errors: 265527\n"
     ]
    }
   ],
   "source": [
    "score = 0\n",
    "\n",
    "for line in system:\n",
    "    \n",
    "    seq = []\n",
    "    \n",
    "    for c_1 in line:\n",
    "        \n",
    "        if (c_1 in pairs.keys()):\n",
    "            \n",
    "            seq.append(c_1)\n",
    "            \n",
    "        else:\n",
    "            \n",
    "            c_2 = seq.pop()\n",
    "            \n",
    "            if (c_1 != pairs.get(c_2)):\n",
    "                \n",
    "                score = score + scores_1[c_1]\n",
    "                break\n",
    "\n",
    "print(\"Total syntax score for corrupted errors:\" , score)"
   ]
  },
  {
   "cell_type": "markdown",
   "id": "f9610680",
   "metadata": {},
   "source": [
    "-------------------------------------"
   ]
  },
  {
   "cell_type": "markdown",
   "id": "91f6b606",
   "metadata": {},
   "source": [
    "### --- Part Two ---"
   ]
  },
  {
   "cell_type": "markdown",
   "id": "5e3c6a5c",
   "metadata": {},
   "source": [
    "Now, discard the corrupted lines. The remaining lines are __incomplete__.\n",
    "\n",
    "Incomplete lines don't have any incorrect characters - instead, they're missing some closing characters at the end of the line. To repair the navigation subsystem, you just need to figure out __the sequence of closing characters__ that complete all open chunks in the line.\n",
    "\n",
    "You can only use closing characters (`)`, `]`, `}`, or `>`), and you must add them in the correct order so that only legal pairs are formed and all chunks end up closed.\n",
    "\n",
    "In the example above, there are five incomplete lines:\n",
    "\n",
    "- `[({(<(())[]>[[{[]{<()<>>` - Complete by adding `}}]])})]`.\n",
    "- `[(()[<>])]({[<{<<[]>>(` - Complete by adding `)}>]})`.\n",
    "- `(((({<>}<{<{<>}{[]{[]{}` - Complete by adding `}}>}>))))`.\n",
    "- `{<[[]]>}<{[{[{[]{()[[[]` - Complete by adding `]]}}]}]}>`.\n",
    "- `<{([{{}}[<[[[<>{}]]]>[]]` - Complete by adding `])}>`.\n",
    "\n",
    "Did you know that autocomplete tools __also__ have contests? It's true! The score is determined by considering the completion string character-by-character. Start with a total score of `0`. Then, for each character, multiply the total score by 5 and then increase the total score by the point value given for the character in the following table:\n",
    "\n",
    "- `)`: `1` point.\n",
    "- `]`: `2` points.\n",
    "- `}`: `3` points.\n",
    "- `>`: `4` points.\n",
    "\n",
    "So, the last completion string above - `])}>` - would be scored as follows:\n",
    "\n",
    "Start with a total score of `0`.\n",
    "Multiply the total score by 5 to get `0`, then add the value of `]` (2) to get a new total score of `2`.\n",
    "Multiply the total score by 5 to get `10`, then add the value of `)` (1) to get a new total score of `11`.\n",
    "Multiply the total score by 5 to get `55`, then add the value of `}` (3) to get a new total score of `58`.\n",
    "Multiply the total score by 5 to get `290`, then add the value of `>` (4) to get a new total score of `294`.\n",
    "\n",
    "The five lines' completion strings have total scores as follows:\n",
    "\n",
    "- `}}]])})]` - `288957` total points.\n",
    "- `)}>]})` - `5566` total points.\n",
    "- `}}>}>))))` - `1480781` total points.\n",
    "- `]]}}]}]}>` - `995444` total points.\n",
    "- `])}>` - `294` total points.\n",
    "\n",
    "Autocomplete tools are an odd bunch: the winner is found by __sorting__ all of the scores and then taking the __middle__ score. (There will always be an odd number of scores to consider.) In this example, the middle score is __`288957`__ because there are the same number of scores smaller and larger than it.\n",
    "\n",
    "Find the completion string for each incomplete line, score the completion strings, and sort the scores. \n",
    "\n",
    "__What is the middle score__?"
   ]
  },
  {
   "cell_type": "markdown",
   "id": "5495806d",
   "metadata": {},
   "source": [
    "#### Test"
   ]
  },
  {
   "cell_type": "code",
   "execution_count": 4,
   "id": "fcd78ded",
   "metadata": {},
   "outputs": [
    {
     "name": "stdout",
     "output_type": "stream",
     "text": [
      "Total syntax score for incomplete errors: 288957\n"
     ]
    }
   ],
   "source": [
    "seq_2 = []\n",
    "\n",
    "for line in test_system_1:\n",
    "    \n",
    "    score = 0\n",
    "    seq = []\n",
    "    \n",
    "    for c_1 in line:\n",
    "        \n",
    "        if (c_1 in pairs.keys()):\n",
    "            \n",
    "            seq.append(c_1)\n",
    "            \n",
    "        else:\n",
    "            \n",
    "            c_2 = seq.pop()\n",
    "            \n",
    "            if (c_1 != pairs.get(c_2)):\n",
    "                \n",
    "                break\n",
    "                \n",
    "    else:\n",
    "        \n",
    "        while (len(seq) != 0):\n",
    "            \n",
    "            score = score * 5\n",
    "            score = score + scores_2[pairs.get(seq.pop())]\n",
    "            \n",
    "        seq_2.append(score)\n",
    "        \n",
    "seq_2.sort()\n",
    "score = seq_2[len(seq_2)//2]\n",
    "\n",
    "print(\"Total syntax score for incomplete errors:\" , score)"
   ]
  },
  {
   "cell_type": "markdown",
   "id": "d6cfa730",
   "metadata": {},
   "source": [
    "#### Answer"
   ]
  },
  {
   "cell_type": "code",
   "execution_count": 5,
   "id": "dda64bc8",
   "metadata": {},
   "outputs": [
    {
     "name": "stdout",
     "output_type": "stream",
     "text": [
      "Total syntax score for incomplete errors: 3969823589\n"
     ]
    }
   ],
   "source": [
    "seq_2 = []\n",
    "\n",
    "for line in system:\n",
    "    \n",
    "    score = 0\n",
    "    seq = []\n",
    "    \n",
    "    for c_1 in line:\n",
    "        \n",
    "        if (c_1 in pairs.keys()):\n",
    "            \n",
    "            seq.append(c_1)\n",
    "            \n",
    "        else:\n",
    "            \n",
    "            c_2 = seq.pop()\n",
    "            \n",
    "            if (c_1 != pairs.get(c_2)):\n",
    "                \n",
    "                break\n",
    "                \n",
    "    else:\n",
    "        \n",
    "        while (len(seq) != 0):\n",
    "            \n",
    "            score = score * 5\n",
    "            score = score + scores_2[pairs.get(seq.pop())]\n",
    "            \n",
    "        seq_2.append(score)\n",
    "        \n",
    "seq_2.sort()\n",
    "score = seq_2[len(seq_2)//2]\n",
    "\n",
    "print(\"Total syntax score for incomplete errors:\" , score)"
   ]
  }
 ],
 "metadata": {
  "kernelspec": {
   "display_name": "Python 3",
   "language": "python",
   "name": "python3"
  },
  "language_info": {
   "codemirror_mode": {
    "name": "ipython",
    "version": 3
   },
   "file_extension": ".py",
   "mimetype": "text/x-python",
   "name": "python",
   "nbconvert_exporter": "python",
   "pygments_lexer": "ipython3",
   "version": "3.8.8"
  }
 },
 "nbformat": 4,
 "nbformat_minor": 5
}
