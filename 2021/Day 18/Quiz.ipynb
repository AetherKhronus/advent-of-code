{
 "cells": [
  {
   "cell_type": "markdown",
   "id": "40d558d3",
   "metadata": {},
   "source": [
    "# --- Day 18: Snailfish ---"
   ]
  },
  {
   "cell_type": "code",
   "execution_count": 1,
   "id": "bc4bd7ff",
   "metadata": {},
   "outputs": [],
   "source": [
    "from Quiz import *\n",
    "import math\n",
    "from itertools import permutations\n",
    "from functools import reduce"
   ]
  },
  {
   "cell_type": "markdown",
   "id": "23a24488",
   "metadata": {},
   "source": [
    "### --- Part One ---"
   ]
  },
  {
   "cell_type": "markdown",
   "id": "63bacb20",
   "metadata": {},
   "source": [
    "You descend into the ocean trench and encounter some snailfish https://en.wikipedia.org/wiki/Snailfish . They say they saw the sleigh keys! They'll even tell you which direction the keys went if you help one of the smaller snailfish with his __<ins>math</ins> homework__.\n",
    "\n",
    "Snailfish numbers aren't like regular numbers. Instead, every snailfish number is a __pair__ - an ordered list of two elements. Each element of the pair can be either a regular number or another pair.\n",
    "\n",
    "Pairs are written as `[x,y]`, where `x` and `y` are the elements within the pair. Here are some example snailfish numbers, one snailfish number per line:\n",
    "\n",
    "`[1,2]\n",
    "[[1,2],3]\n",
    "[9,[8,7]]\n",
    "[[1,9],[8,5]]\n",
    "[[[[1,2],[3,4]],[[5,6],[7,8]]],9]\n",
    "[[[9,[3,8]],[[0,9],6]],[[[3,7],[4,9]],3]]\n",
    "[[[[1,3],[5,3]],[[1,3],[8,7]]],[[[4,9],[6,9]],[[8,2],[7,3]]]]`\n",
    "\n",
    "This snailfish homework is about __addition__. To add two snailfish numbers, form a pair from the left and right parameters of the addition operator. For example, `[1,2]` + `[[3,4],5]` becomes `[[1,2],[[3,4],5]]`.\n",
    "\n",
    "There's only one problem: __snailfish numbers must always be reduced__, and the process of adding two snailfish numbers can result in snailfish numbers that need to be reduced.\n",
    "\n",
    "To __reduce a snailfish number__, you must repeatedly do the first action in this list that applies to the snailfish number:\n",
    "\n",
    "- If any pair is __nested inside four pairs__, the leftmost such pair __explodes__.\n",
    "- If any regular number is __10 or greater__, the leftmost such regular number __splits__.\n",
    "\n",
    "Once no action in the above list applies, the snailfish number is reduced.\n",
    "\n",
    "During reduction, at most one action applies, after which the process returns to the top of the list of actions. For example, if __split__ produces a pair that meets the __explode__ criteria, that pair __explodes__ before other __splits__ occur.\n",
    "\n",
    "To __explode__ a pair, the pair's left value is added to the first regular number to the left of the exploding pair (if any), and the pair's right value is added to the first regular number to the right of the exploding pair (if any). Exploding pairs will always consist of two regular numbers. Then, the entire exploding pair is replaced with the regular number `0`.\n",
    "\n",
    "Here are some examples of a single explode action:\n",
    "\n",
    "- `[[[[`__`[9,8]`__`,1],2],3],4]` becomes `[[[[`__`0,9`__`],2],3],4]` (the `9` has no regular number to its left, so it is not added to any regular number).\n",
    "- `[7,[6,[5,[4,`__`[3,2]`__`]]]]` becomes `[7,[6,[5,[`__`7,0`__`]]]]` (the `2` has no regular number to its right, and so it is not added to any regular number).\n",
    "- `[[6,[5,[4,`__`[3,2]`__`]]],1]` becomes `[[6,[5,[`__`7,0`__`]]],`__`3`__`]`.\n",
    "- `[[3,[2,[1,`__`[7,3]`__`]]],[6,[5,[4,[3,2]]]]]` becomes `[[3,[2,[`__`8,0`__`]]],[`__`9`__`,[5,[4,[3,2]]]]]` (the pair `[3,2]` is unaffected because the pair `[7,3]` is further to the left; `[3,2]` would explode on the next action).\n",
    "- `[[3,[2,[8,0]]],[9,[5,[4,`__`[3,2]`__`]]]]` becomes `[[3,[2,[8,0]]],[9,[5,[`__`7,0`__`]]]]`.\n",
    "\n",
    "To __split__ a regular number, replace it with a pair; the left element of the pair should be the regular number divided by two and rounded __down__, while the right element of the pair should be the regular number divided by two and rounded __up__. For example, `10` becomes `[5,5]`, `11` becomes `[5,6]`, `12` becomes `[6,6]`, and so on.\n",
    "\n",
    "Here is the process of finding the reduced result of `[[[[4,3],4],4],[7,[[8,4],9]]]` + `[1,1]`:\n",
    "\n",
    "`after addition: [[[[`__`[4,3]`__`,4],4],[7,[[8,4],9]]],[1,1]]\n",
    "after explode:  [[[[0,7],4],[7,[`__`[8,4]`__`,9]]],[1,1]]\n",
    "after explode:  [[[[0,7],4],[`__`15`__`,[0,13]]],[1,1]]\n",
    "after split:    [[[[0,7],4],[[7,8],[0,`__`13`__`]]],[1,1]]\n",
    "after split:    [[[[0,7],4],[[7,8],[0,`__`[6,7]`__`]]],[1,1]]\n",
    "after explode:  [[[[0,7],4],[[7,8],[6,0]]],[8,1]]`\n",
    "\n",
    "Once no reduce actions apply, the snailfish number that remains is the actual result of the addition operation: `[[[[0,7],4],[[7,8],[6,0]]],[8,1]]`.\n",
    "\n",
    "The homework assignment involves adding up a __list of snailfish numbers__ (your puzzle input). The snailfish numbers are each listed on a separate line. Add the first snailfish number and the second, then add that result and the third, then add that result and the fourth, and so on until all numbers in the list have been used once.\n",
    "\n",
    "For example, the final sum of this list is `[[[[1,1],[2,2]],[3,3]],[4,4]]`:\n",
    "\n",
    "`[1,1]\n",
    "[2,2]\n",
    "[3,3]\n",
    "[4,4]`\n",
    "\n",
    "The final sum of this list is `[[[[3,0],[5,3]],[4,4]],[5,5]]`:\n",
    "\n",
    "`[1,1]\n",
    "[2,2]\n",
    "[3,3]\n",
    "[4,4]\n",
    "[5,5]`\n",
    "\n",
    "The final sum of this list is `[[[[5,0],[7,4]],[5,5]],[6,6]]`:\n",
    "\n",
    "`[1,1]\n",
    "[2,2]\n",
    "[3,3]\n",
    "[4,4]\n",
    "[5,5]\n",
    "[6,6]`\n",
    "\n",
    "Here's a slightly larger example:\n",
    "\n",
    "`[[[0,[4,5]],[0,0]],[[[4,5],[2,6]],[9,5]]]\n",
    "[7,[[[3,7],[4,3]],[[6,3],[8,8]]]]\n",
    "[[2,[[0,8],[3,4]]],[[[6,7],1],[7,[1,6]]]]\n",
    "[[[[2,4],7],[6,[0,5]]],[[[6,8],[2,8]],[[2,1],[4,5]]]]\n",
    "[7,[5,[[3,8],[1,4]]]]\n",
    "[[2,[2,2]],[8,[8,1]]]\n",
    "[2,9]\n",
    "[1,[[[9,3],9],[[9,0],[0,7]]]]\n",
    "[[[5,[7,4]],7],1]\n",
    "[[[[4,2],2],6],[8,7]]`\n",
    "\n",
    "The final sum `[[[[8,7],[7,7]],[[8,6],[7,7]]],[[[0,7],[6,6]],[8,7]]]` is found after adding up the above snailfish numbers:\n",
    "\n",
    "`  [[[0,[4,5]],[0,0]],[[[4,5],[2,6]],[9,5]]]` <br>\n",
    "`+ [7,[[[3,7],[4,3]],[[6,3],[8,8]]]]` <br>\n",
    "`= [[[[4,0],[5,4]],[[7,7],[6,0]]],[[8,[7,7]],[[7,9],[5,0]]]]` <br>\n",
    "\n",
    "`  [[[[4,0],[5,4]],[[7,7],[6,0]]],[[8,[7,7]],[[7,9],[5,0]]]]` <br>\n",
    "`+ [[2,[[0,8],[3,4]]],[[[6,7],1],[7,[1,6]]]]` <br>\n",
    "`= [[[[6,7],[6,7]],[[7,7],[0,7]]],[[[8,7],[7,7]],[[8,8],[8,0]]]]` <br>\n",
    "\n",
    "`  [[[[6,7],[6,7]],[[7,7],[0,7]]],[[[8,7],[7,7]],[[8,8],[8,0]]]]` <br>\n",
    "`+ [[[[2,4],7],[6,[0,5]]],[[[6,8],[2,8]],[[2,1],[4,5]]]]` <br>\n",
    "`= [[[[7,0],[7,7]],[[7,7],[7,8]]],[[[7,7],[8,8]],[[7,7],[8,7]]]]` <br>\n",
    "\n",
    "`  [[[[7,0],[7,7]],[[7,7],[7,8]]],[[[7,7],[8,8]],[[7,7],[8,7]]]]` <br>\n",
    "`+ [7,[5,[[3,8],[1,4]]]]` <br>\n",
    "`= [[[[7,7],[7,8]],[[9,5],[8,7]]],[[[6,8],[0,8]],[[9,9],[9,0]]]]` <br>\n",
    "\n",
    "`  [[[[7,7],[7,8]],[[9,5],[8,7]]],[[[6,8],[0,8]],[[9,9],[9,0]]]]` <br>\n",
    "`+ [[2,[2,2]],[8,[8,1]]]` <br>\n",
    "`= [[[[6,6],[6,6]],[[6,0],[6,7]]],[[[7,7],[8,9]],[8,[8,1]]]]` <br>\n",
    "\n",
    "`  [[[[6,6],[6,6]],[[6,0],[6,7]]],[[[7,7],[8,9]],[8,[8,1]]]]` <br>\n",
    "`+ [2,9]` <br>\n",
    "`= [[[[6,6],[7,7]],[[0,7],[7,7]]],[[[5,5],[5,6]],9]]` <br>\n",
    "\n",
    "`  [[[[6,6],[7,7]],[[0,7],[7,7]]],[[[5,5],[5,6]],9]]` <br>\n",
    "`+ [1,[[[9,3],9],[[9,0],[0,7]]]]` <br>\n",
    "`= [[[[7,8],[6,7]],[[6,8],[0,8]]],[[[7,7],[5,0]],[[5,5],[5,6]]]]` <br>\n",
    "\n",
    "`  [[[[7,8],[6,7]],[[6,8],[0,8]]],[[[7,7],[5,0]],[[5,5],[5,6]]]]` <br>\n",
    "`+ [[[5,[7,4]],7],1]` <br>\n",
    "`= [[[[7,7],[7,7]],[[8,7],[8,7]]],[[[7,0],[7,7]],9]]` <br>\n",
    "\n",
    "`  [[[[7,7],[7,7]],[[8,7],[8,7]]],[[[7,0],[7,7]],9]]` <br>\n",
    "`+ [[[[4,2],2],6],[8,7]]` <br>\n",
    "`= [[[[8,7],[7,7]],[[8,6],[7,7]]],[[[0,7],[6,6]],[8,7]]]` <br>\n",
    "\n",
    "To check whether it's the right answer, the snailfish teacher only checks the __magnitude__ of the final sum. The magnitude of a pair is 3 times the magnitude of its left element plus 2 times the magnitude of its right element. The magnitude of a regular number is just that number.\n",
    "\n",
    "For example, the magnitude of `[9,1]` is `3*9 + 2*1 = `__`29`__; the magnitude of `[1,9]` is `3*1 + 2*9 = `__`21`__. Magnitude calculations are recursive: the magnitude of `[[9,1],[1,9]]` is `3*29 + 2*21 = `__`129`__.\n",
    "\n",
    "Here are a few more magnitude examples:\n",
    "\n",
    "- `[[1,2],[[3,4],5]]` becomes __`143`__.\n",
    "- `[[[[0,7],4],[[7,8],[6,0]]],[8,1]]` becomes __`1384`__.\n",
    "- `[[[[1,1],[2,2]],[3,3]],[4,4]]` becomes __`445`__.\n",
    "- `[[[[3,0],[5,3]],[4,4]],[5,5]]` becomes __`791`__.\n",
    "- `[[[[5,0],[7,4]],[5,5]],[6,6]]` becomes __`1137`__.\n",
    "- `[[[[8,7],[7,7]],[[8,6],[7,7]]],[[[0,7],[6,6]],[8,7]]]` becomes __`3488`__.\n",
    "\n",
    "So, given this example homework assignment:\n",
    "\n",
    "`[[[0,[5,8]],[[1,7],[9,6]]],[[4,[1,2]],[[1,4],2]]]\n",
    "[[[5,[2,8]],4],[5,[[9,9],0]]]\n",
    "[6,[[[6,2],[5,6]],[[7,6],[4,7]]]]\n",
    "[[[6,[0,7]],[0,9]],[4,[9,[9,0]]]]\n",
    "[[[7,[6,4]],[3,[1,3]]],[[[5,5],1],9]]\n",
    "[[6,[[7,3],[3,2]]],[[[3,8],[5,7]],4]]\n",
    "[[[[5,4],[7,7]],8],[[8,3],8]]\n",
    "[[9,3],[[9,9],[6,[4,9]]]]\n",
    "[[2,[[7,7],7]],[[5,8],[[9,3],[0,2]]]]\n",
    "[[[[5,2],5],[8,[3,7]]],[[5,[7,5]],[4,4]]]`\n",
    "\n",
    "The final sum is:\n",
    "\n",
    "`[[[[6,6],[7,6]],[[7,7],[7,0]]],[[[7,7],[7,7]],[[7,8],[9,9]]]]`\n",
    "\n",
    "The magnitude of this final sum is __`4140`__.\n",
    "\n",
    "Add up all of the snailfish numbers from the homework assignment in the order they appear. \n",
    "\n",
    "__What is the magnitude of the final sum?__"
   ]
  },
  {
   "cell_type": "code",
   "execution_count": 2,
   "id": "1740b108",
   "metadata": {},
   "outputs": [],
   "source": [
    "def add_left(x , n):\n",
    "    \n",
    "    if (n == None):\n",
    "        \n",
    "        return x\n",
    "    \n",
    "    if (isinstance(x , int)):\n",
    "        \n",
    "        return (x + n)\n",
    "    \n",
    "    added = add_left(x[0] , n)\n",
    "    \n",
    "    return [added , x[1]]"
   ]
  },
  {
   "cell_type": "code",
   "execution_count": 3,
   "id": "aa8a7636",
   "metadata": {},
   "outputs": [],
   "source": [
    "def add_right(x , n):\n",
    "    \n",
    "    if (n == None):\n",
    "        \n",
    "        return x\n",
    "    \n",
    "    if (isinstance(x , int)):\n",
    "        \n",
    "        return (x + n)\n",
    "    \n",
    "    added = add_right(x[1] , n)\n",
    "    \n",
    "    return [x[0] , added]"
   ]
  },
  {
   "cell_type": "code",
   "execution_count": 4,
   "id": "fcd78ded",
   "metadata": {
    "scrolled": false
   },
   "outputs": [],
   "source": [
    "def explode(x , n = 4):\n",
    "    \n",
    "    if (isinstance(x , int)):\n",
    "        \n",
    "        return (False , None , x , None)\n",
    "    \n",
    "    if (n == 0):\n",
    "        \n",
    "        return (True , x[0] , 0 , x[1])\n",
    "    \n",
    "    a = x[0]\n",
    "    b = x[1]\n",
    "    ex = explode(a, n - 1)\n",
    "    change = ex[0]\n",
    "    left = ex[1]\n",
    "    a = ex[2]\n",
    "    right = ex[3]\n",
    "\n",
    "    if (change):\n",
    "        \n",
    "        added = add_left(b , right)\n",
    "        \n",
    "        return (True , left , [a , added] , None)\n",
    "    \n",
    "    ex = explode(b, n - 1)\n",
    "    change = ex[0]\n",
    "    left = ex[1]\n",
    "    b = ex[2]\n",
    "    right = ex[3]\n",
    "    \n",
    "    if (change):\n",
    "        \n",
    "        added = add_right(a, left)\n",
    "        \n",
    "        return (True , None , [added , b] , right)\n",
    "    \n",
    "    return (False , None , x , None)"
   ]
  },
  {
   "cell_type": "code",
   "execution_count": 5,
   "id": "09cdbca4",
   "metadata": {},
   "outputs": [],
   "source": [
    "def split(x):\n",
    "    \n",
    "    if (isinstance(x , int)):\n",
    "        \n",
    "        if (x >= 10):\n",
    "            \n",
    "            return (True , [x // 2 , math.ceil(x / 2)])\n",
    "        \n",
    "        return (False , x)\n",
    "    \n",
    "    a = x[0]\n",
    "    b = x[1]\n",
    "    sp = split(a)\n",
    "    change = sp[0]\n",
    "    a = sp[1]\n",
    "        \n",
    "    if (change):\n",
    "        \n",
    "        return (True , [a , b])\n",
    "    \n",
    "    sp = split(b)\n",
    "    change = sp[0]\n",
    "    b = sp[1]\n",
    "    \n",
    "    return (change , [a , b])"
   ]
  },
  {
   "cell_type": "code",
   "execution_count": 6,
   "id": "888fe1d6",
   "metadata": {},
   "outputs": [],
   "source": [
    "def addition(num_1 , num_2):\n",
    "\n",
    "    x = [num_1 , num_2]\n",
    "\n",
    "    while True:\n",
    "        \n",
    "        ex = explode(x)\n",
    "        change = ex[0]\n",
    "        x = ex[2]\n",
    "\n",
    "        if (change):\n",
    "            \n",
    "            continue\n",
    "            \n",
    "        sp = split(x)\n",
    "        change = sp[0]\n",
    "        x = sp[1]\n",
    "        \n",
    "        if (not change):\n",
    "            \n",
    "            break\n",
    "            \n",
    "    return x"
   ]
  },
  {
   "cell_type": "code",
   "execution_count": 7,
   "id": "bb3eed69",
   "metadata": {},
   "outputs": [],
   "source": [
    "def magnitude(x):\n",
    "    \n",
    "    if (isinstance(x , int)):\n",
    "        \n",
    "        return x\n",
    "    \n",
    "    return ((3 * magnitude(x[0])) + (2 * magnitude(x[1])))"
   ]
  },
  {
   "cell_type": "markdown",
   "id": "d7d9f247",
   "metadata": {},
   "source": [
    "#### Test"
   ]
  },
  {
   "cell_type": "code",
   "execution_count": 8,
   "id": "4079e2f8",
   "metadata": {},
   "outputs": [
    {
     "name": "stdout",
     "output_type": "stream",
     "text": [
      "Magnitude of Final Sum: 4140\n"
     ]
    }
   ],
   "source": [
    "numbers = list(map(eval , test_numbers_1))\n",
    "mag = magnitude(reduce(addition , numbers))\n",
    "    \n",
    "print(\"Magnitude of Final Sum:\" , mag)"
   ]
  },
  {
   "cell_type": "markdown",
   "id": "49d3e855",
   "metadata": {},
   "source": [
    "#### Answer"
   ]
  },
  {
   "cell_type": "code",
   "execution_count": 9,
   "id": "002ced50",
   "metadata": {},
   "outputs": [
    {
     "name": "stdout",
     "output_type": "stream",
     "text": [
      "Magnitude of Final Sum: 3574\n"
     ]
    }
   ],
   "source": [
    "numbers = list(map(eval , numbers_1))\n",
    "mag = magnitude(reduce(addition , numbers))\n",
    "    \n",
    "print(\"Magnitude of Final Sum:\" , mag)"
   ]
  },
  {
   "cell_type": "markdown",
   "id": "f9610680",
   "metadata": {},
   "source": [
    "-------------------------------------"
   ]
  },
  {
   "cell_type": "markdown",
   "id": "91f6b606",
   "metadata": {},
   "source": [
    "### --- Part Two ---"
   ]
  },
  {
   "cell_type": "markdown",
   "id": "5e3c6a5c",
   "metadata": {},
   "source": [
    "You notice a second question on the back of the homework assignment:\n",
    "\n",
    "What is the largest magnitude you can get from adding only two of the snailfish numbers?\n",
    "\n",
    "Note that snailfish addition is not commutative https://en.wikipedia.org/wiki/Commutative_property - that is, `x + y` and `y + x` can produce different results.\n",
    "\n",
    "Again considering the last example homework assignment above:\n",
    "\n",
    "`[[[0,[5,8]],[[1,7],[9,6]]],[[4,[1,2]],[[1,4],2]]]\n",
    "[[[5,[2,8]],4],[5,[[9,9],0]]]\n",
    "[6,[[[6,2],[5,6]],[[7,6],[4,7]]]]\n",
    "[[[6,[0,7]],[0,9]],[4,[9,[9,0]]]]\n",
    "[[[7,[6,4]],[3,[1,3]]],[[[5,5],1],9]]\n",
    "[[6,[[7,3],[3,2]]],[[[3,8],[5,7]],4]]\n",
    "[[[[5,4],[7,7]],8],[[8,3],8]]\n",
    "[[9,3],[[9,9],[6,[4,9]]]]\n",
    "[[2,[[7,7],7]],[[5,8],[[9,3],[0,2]]]]\n",
    "[[[[5,2],5],[8,[3,7]]],[[5,[7,5]],[4,4]]]`\n",
    "\n",
    "The largest magnitude of the sum of any two snailfish numbers in this list is __`3993`__. This is the magnitude of `[[2,[[7,7],7]],[[5,8],[[9,3],[0,2]]]]` + `[[[0,[5,8]],[[1,7],[9,6]]],[[4,[1,2]],[[1,4],2]]]`, which reduces to `[[[[7,8],[6,6]],[[6,0],[7,7]]],[[[7,8],[8,8]],[[7,9],[0,6]]]]`.\n",
    "\n",
    "__What is the largest magnitude of any sum of two different snailfish numbers from the homework assignment?__"
   ]
  },
  {
   "cell_type": "markdown",
   "id": "5495806d",
   "metadata": {},
   "source": [
    "#### Test"
   ]
  },
  {
   "cell_type": "code",
   "execution_count": 10,
   "id": "a7372920",
   "metadata": {},
   "outputs": [
    {
     "name": "stdout",
     "output_type": "stream",
     "text": [
      "Largest Magnitude: 3993\n"
     ]
    }
   ],
   "source": [
    "numbers = list(map(eval , test_numbers_1))\n",
    "perms = permutations(numbers , 2)\n",
    "max_mag = 0\n",
    "\n",
    "for a , b in perms:\n",
    "    \n",
    "    mag = magnitude(addition(a, b))\n",
    "    max_mag = max(max_mag , mag)        \n",
    "    \n",
    "print(\"Largest Magnitude:\" , max_mag)"
   ]
  },
  {
   "cell_type": "markdown",
   "id": "d6cfa730",
   "metadata": {},
   "source": [
    "#### Answer"
   ]
  },
  {
   "cell_type": "code",
   "execution_count": 11,
   "id": "c077414d",
   "metadata": {},
   "outputs": [
    {
     "name": "stdout",
     "output_type": "stream",
     "text": [
      "Largest Magnitude: 4763\n"
     ]
    }
   ],
   "source": [
    "numbers = list(map(eval, numbers_1))\n",
    "perms = permutations(numbers , 2)\n",
    "max_mag = 0\n",
    "\n",
    "for a , b in perms:\n",
    "    \n",
    "    mag = magnitude(addition(a, b))\n",
    "    max_mag = max(max_mag , mag)        \n",
    "    \n",
    "print(\"Largest Magnitude:\" , max_mag)"
   ]
  }
 ],
 "metadata": {
  "kernelspec": {
   "display_name": "Python 3",
   "language": "python",
   "name": "python3"
  },
  "language_info": {
   "codemirror_mode": {
    "name": "ipython",
    "version": 3
   },
   "file_extension": ".py",
   "mimetype": "text/x-python",
   "name": "python",
   "nbconvert_exporter": "python",
   "pygments_lexer": "ipython3",
   "version": "3.8.8"
  }
 },
 "nbformat": 4,
 "nbformat_minor": 5
}
