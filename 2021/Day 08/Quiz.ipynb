{
 "cells": [
  {
   "cell_type": "markdown",
   "id": "40d558d3",
   "metadata": {},
   "source": [
    "# --- Day 8: Seven Segment Search ---"
   ]
  },
  {
   "cell_type": "code",
   "execution_count": 1,
   "id": "bc4bd7ff",
   "metadata": {},
   "outputs": [],
   "source": [
    "from Quiz import *"
   ]
  },
  {
   "cell_type": "markdown",
   "id": "23a24488",
   "metadata": {},
   "source": [
    "### --- Part One ---"
   ]
  },
  {
   "cell_type": "markdown",
   "id": "63bacb20",
   "metadata": {},
   "source": [
    "You barely reach the safety of the cave when the whale smashes into the cave mouth, collapsing it. Sensors indicate another exit to this cave at a much greater depth, so you have no choice but to press on.\n",
    "\n",
    "As your submarine slowly makes its way through the cave system, you notice that the four-digit seven-segment displays https://en.wikipedia.org/wiki/Seven-segment_display in your submarine are malfunctioning; <ins>they must have been damaged</ins> during the escape. You'll be in a lot of trouble without them, so you'd better figure out what's wrong.\n",
    "\n",
    "Each digit of a seven-segment display is rendered by turning on or off any of seven segments named `a` through `g`:\n",
    "\n",
    "\n",
    "`  0:      1:      2:      3:      4: ` <br>\n",
    "` aaaa    ....    aaaa    aaaa    ....` <br>\n",
    "`b    c  .    c  .    c  .    c  b    c` <br>\n",
    "`b    c  .    c  .    c  .    c  b    c` <br>\n",
    "` ....    ....    dddd    dddd    dddd` <br>\n",
    "`e    f  .    f  e    .  .    f  .    f` <br>\n",
    "`e    f  .    f  e    .  .    f  .    f` <br>\n",
    "` gggg    ....    gggg    gggg    ....` <br>\n",
    "\n",
    "`  5:      6:      7:      8:      9:` <br>\n",
    "` aaaa    aaaa    aaaa    aaaa    aaaa` <br>\n",
    "`b    .  b    .  .    c  b    c  b    c` <br>\n",
    "`b    .  b    .  .    c  b    c  b    c` <br>\n",
    "` dddd    dddd    ....    dddd    dddd` <br>\n",
    "`.    f  e    f  .    f  e    f  .    f` <br>\n",
    "`.    f  e    f  .    f  e    f  .    f` <br>\n",
    "` gggg    gggg    ....    gggg    gggg` <br>\n",
    " \n",
    "So, to render a `1`, only segments `c` and `f` would be turned on; the rest would be off. To render a `7`, only segments `a`, `c`, and `f` would be turned on.\n",
    "\n",
    "The problem is that the signals which control the segments have been mixed up on each display. The submarine is still trying to display numbers by producing output on signal wires `a` through `g`, but those wires are connected to segments __randomly__. Worse, the wire/segment connections are mixed up separately for each four-digit display! (All of the digits __within__ a display use the same connections, though.)\n",
    "\n",
    "So, you might know that only signal wires `b` and `g` are turned on, but that doesn't mean __segments__ `b` and `g` are turned on: the only digit that uses two segments is `1`, so it must mean segments `c` and `f` are meant to be on. With just that information, you still can't tell which wire (`b`/`g`) goes to which segment (`c`/`f`). For that, you'll need to collect more information.\n",
    "\n",
    "For each display, you watch the changing signals for a while, make a note of __all ten unique signal patterns__ you see, and then write down a single __four digit output value__ (your puzzle input). Using the signal patterns, you should be able to work out which pattern corresponds to which digit.\n",
    "\n",
    "For example, here is what you might see in a single entry in your notes:\n",
    "\n",
    "`acedgfb cdfbe gcdfa fbcad dab cefabd cdfgeb eafb cagedb ab | cdfeb fcadb cdfeb cdbaf`\n",
    "\n",
    "Each entry consists of ten __unique signal patterns__, a `|` delimiter, and finally the __four digit output value__. Within an entry, the same wire/segment connections are used (but you don't know what the connections actually are). The unique signal patterns correspond to the ten different ways the submarine tries to render a digit using the current wire/segment connections. Because `7` is the only digit that uses three segments, `dab` in the above example means that to render a `7`, signal lines `d`, `a`, and `b` are on. Because `4` is the only digit that uses four segments, `eafb` means that to render a `4`, signal lines `e`, `a`, `f`, and `b` are on.\n",
    "\n",
    "Using this information, you should be able to work out which combination of signal wires corresponds to each of the ten digits. Then, you can decode the four digit output value. Unfortunately, in the above example, all of the digits in the output value (`cdfeb fcadb cdfeb cdbaf`) use five segments and are more difficult to deduce.\n",
    "\n",
    "For now, __focus on the easy digits__. Consider this larger example:\n",
    "\n",
    "`be cfbegad cbdgef fgaecd cgeb fdcge agebfd fecdb fabcd edb | ` __`fdgacbe`__ `cefdb cefbgd` __`gcbe`__ <br>\n",
    "`edbfga begcd cbg gc gcadebf fbgde acbgfd abcde gfcbed gfec | fcgedb` __`cgb`__ __`dgebacf`__ __`gc`__ <br>\n",
    "`fgaebd cg bdaec gdafb agbcfd gdcbef bgcad gfac gcb cdgabef | ` __`cg`__ __`cg`__ `fdcagb` __`cbg`__ <br>\n",
    "`fbegcd cbd adcefb dageb afcb bc aefdc ecdab fgdeca fcdbega | efabcd cedba gadfec ` __`cb`__ <br>\n",
    "`aecbfdg fbg gf bafeg dbefa fcge gcbea fcaegb dgceab fcbdga | ` __`gecf`__ __`egdcabf`__ __`bgf`__ `bfgea` <br>\n",
    "`fgeab ca afcebg bdacfeg cfaedg gcfdb baec bfadeg bafgc acf | ` __`gebdcfa`__ __`ecba`__ __`ca`__ __`fadegcb`__ <br>\n",
    "`dbcfg fgd bdegcaf fgec aegbdf ecdfab fbedc dacgb gdcebf gf | ` __`cefg`__ `dcbef` __`fcge`__ __`gbcadfe`__ <br>\n",
    "`bdfegc cbegaf gecbf dfcage bdacg ed bedf ced adcbefg gebcd | ` __`ed`__ `bcgafe cdgba cbgef` <br>\n",
    "`egadfb cdbfeg cegd fecab cgb gbdefca cg fgcdab egfdb bfceg | ` __`gbdfcae`__ __`bgc`__ __`cg`__ __`cgb`__ <br>\n",
    "`gcafb gcf dcaebfg ecagb gf abcdeg gaef cafbge fdbac fegbdc | ` __`fgae`__ `cfgab` __`fg`__ `bagce` <br>\n",
    "\n",
    "Because the digits `1`, `4`, `7`, and `8` each use a unique number of segments, you should be able to tell which combinations of signals correspond to those digits. Counting __only digits in the output values__ (the part after `|` on each line), in the above example, there are __`26`__ instances of digits that use a unique number of segments (highlighted above).\n",
    "\n",
    "__In the output values, how many times do digits `1`, `4`, `7`, or `8` appear__?"
   ]
  },
  {
   "cell_type": "markdown",
   "id": "d7d9f247",
   "metadata": {},
   "source": [
    "#### Test"
   ]
  },
  {
   "cell_type": "code",
   "execution_count": 2,
   "id": "4079e2f8",
   "metadata": {},
   "outputs": [
    {
     "name": "stdout",
     "output_type": "stream",
     "text": [
      "1 , 4 , 7 and 8 appear 26 times\n"
     ]
    }
   ],
   "source": [
    "counter = 0\n",
    "\n",
    "for s in test_signals_1:\n",
    "    \n",
    "    output = s.split(\" | \")[1].split(\" \")\n",
    "    \n",
    "    for seg in output:\n",
    "        \n",
    "        if (len(seg) in (2,3,4,7)):\n",
    "            \n",
    "            counter = counter + 1\n",
    "            \n",
    "print(\"1 , 4 , 7 and 8 appear\" , counter , \"times\")"
   ]
  },
  {
   "cell_type": "markdown",
   "id": "49d3e855",
   "metadata": {},
   "source": [
    "#### Answer"
   ]
  },
  {
   "cell_type": "code",
   "execution_count": 3,
   "id": "002ced50",
   "metadata": {},
   "outputs": [
    {
     "name": "stdout",
     "output_type": "stream",
     "text": [
      "1 , 4 , 7 and 8 appear 525 times\n"
     ]
    }
   ],
   "source": [
    "counter = 0\n",
    "\n",
    "for s in signals:\n",
    "    \n",
    "    output = s.split(\" | \")[1].split(\" \")\n",
    "    \n",
    "    for seg in output:\n",
    "        \n",
    "        if (len(seg) in (2,3,4,7)):\n",
    "            \n",
    "            counter = counter + 1\n",
    "            \n",
    "print(\"1 , 4 , 7 and 8 appear\" , counter , \"times\")"
   ]
  },
  {
   "cell_type": "markdown",
   "id": "f9610680",
   "metadata": {},
   "source": [
    "-------------------------------------"
   ]
  },
  {
   "cell_type": "markdown",
   "id": "91f6b606",
   "metadata": {},
   "source": [
    "### --- Part Two ---"
   ]
  },
  {
   "cell_type": "markdown",
   "id": "5e3c6a5c",
   "metadata": {},
   "source": [
    "Through a little deduction, you should now be able to determine the remaining digits. Consider again the first example above:\n",
    "\n",
    "`acedgfb cdfbe gcdfa fbcad dab cefabd cdfgeb eafb cagedb ab | cdfeb fcadb cdfeb cdbaf`\n",
    "\n",
    "After some careful analysis, the mapping between signal wires and segments only make sense in the following configuration:\n",
    "\n",
    "` dddd\n",
    "e    a\n",
    "e    a\n",
    " ffff\n",
    "g    b\n",
    "g    b\n",
    " cccc`\n",
    " \n",
    "So, the unique signal patterns would correspond to the following digits:\n",
    "\n",
    "- `acedgfb`: `8`\n",
    "- `cdfbe`: `5`\n",
    "- `gcdfa`: `2`\n",
    "- `fbcad`: `3`\n",
    "- `dab`: `7`\n",
    "- `cefabd`: `9`\n",
    "- `cdfgeb`: `6`\n",
    "- `eafb`: `4`\n",
    "- `cagedb`: `0`\n",
    "- `ab`: `1`\n",
    "\n",
    "Then, the four digits of the output value can be decoded:\n",
    "\n",
    "- `cdfeb`: __`5`__\n",
    "- `fcadb`: __`3`__\n",
    "- `cdfeb`: __`5`__\n",
    "- `cdbaf`: __`3`__\n",
    "\n",
    "Therefore, the output value for this entry is __`5353`__.\n",
    "\n",
    "Following this same process for each entry in the second, larger example above, the output value of each entry can be determined:\n",
    "\n",
    "- `fdgacbe cefdb cefbgd gcbe`: `8394`\n",
    "- `fcgedb cgb dgebacf gc`: `9781`\n",
    "- `cg cg fdcagb cbg`: `1197`\n",
    "- `efabcd cedba gadfec cb`: `9361`\n",
    "- `gecf egdcabf bgf bfgea`: `4873`\n",
    "- `gebdcfa ecba ca fadegcb`: `8418`\n",
    "- `cefg dcbef fcge gbcadfe`: `4548`\n",
    "- `ed bcgafe cdgba cbgef`: `1625`\n",
    "- `gbdfcae bgc cg cgb`: `8717`\n",
    "- `fgae cfgab fg bagce`: `4315`\n",
    "\n",
    "Adding all of the output values in this larger example produces __`61229`__.\n",
    "\n",
    "For each entry, determine all of the wire/segment connections and decode the four-digit output values. \n",
    "\n",
    "__What do you get if you add up all of the output values__?"
   ]
  },
  {
   "cell_type": "markdown",
   "id": "5495806d",
   "metadata": {},
   "source": [
    "#### Test"
   ]
  },
  {
   "cell_type": "code",
   "execution_count": 4,
   "id": "0ed6e304",
   "metadata": {},
   "outputs": [
    {
     "name": "stdout",
     "output_type": "stream",
     "text": [
      "Sum of all displays: 61229\n"
     ]
    }
   ],
   "source": [
    "counter = 0\n",
    "\n",
    "for s in test_signals_1:\n",
    "    \n",
    "    left = s.split(\" | \")[0].split(\" \")\n",
    "    right = s.split(\" | \")[1].split(\" \")\n",
    "    \n",
    "    d_1 = set(list([d for d in left if (len(d) == 2)][0]))\n",
    "    d_7 = set(list([d for d in left if (len(d) == 3)][0]))\n",
    "    d_4 = set(list([d for d in left if (len(d) == 4)][0]))\n",
    "    d_8 = set(list([d for d in left if (len(d) == 7)][0]))\n",
    "\n",
    "    d_9 = set(list([d for d in left if ((len(d) == 6) and (len(set(list(d)) - set.union(d_4 , d_7)) == 1))][0]))\n",
    "    d_0 = set(list([d for d in left if ((len(d) == 6) and (set(list(d)) != d_9) and (all(s in d for s in d_7)))][0]))\n",
    "    d_6 = set(list([d for d in left if ((len(d) == 6) and (set(list(d)) != d_9) and (set(list(d)) != d_0))][0]))\n",
    "\n",
    "    d_3 = set(list([d for d in left if ((len(d) == 5) and (all(s in d for s in d_7)))][0]))\n",
    "    d_2 = set(list([d for d in left if ((len(d) == 5) and (min(d_8 - d_9) in d))][0]))\n",
    "    d_5 = set(list([d for d in left if ((len(d) == 5) and (set(list(d)) != d_3) and (set(list(d)) != d_2))][0]))\n",
    "\n",
    "    digits = [d_0, d_1, d_2, d_3, d_4, d_5, d_6, d_7, d_8, d_9]\n",
    "\n",
    "    n = \"\"\n",
    "\n",
    "    for d in right:\n",
    "        \n",
    "        n = n + str(digits.index(set(list(d))))\n",
    "\n",
    "    counter = counter + int(n)\n",
    "\n",
    "print(\"Sum of all displays:\", counter)"
   ]
  },
  {
   "cell_type": "markdown",
   "id": "d6cfa730",
   "metadata": {},
   "source": [
    "#### Answer"
   ]
  },
  {
   "cell_type": "code",
   "execution_count": 5,
   "id": "fcd78ded",
   "metadata": {},
   "outputs": [
    {
     "name": "stdout",
     "output_type": "stream",
     "text": [
      "Sum of all displays: 1083859\n"
     ]
    }
   ],
   "source": [
    "counter = 0\n",
    "\n",
    "for s in signals:\n",
    "    \n",
    "    left = s.split(\" | \")[0].split(\" \")\n",
    "    right = s.split(\" | \")[1].split(\" \")\n",
    "    \n",
    "    d_1 = set(list([d for d in left if (len(d) == 2)][0]))\n",
    "    d_7 = set(list([d for d in left if (len(d) == 3)][0]))\n",
    "    d_4 = set(list([d for d in left if (len(d) == 4)][0]))\n",
    "    d_8 = set(list([d for d in left if (len(d) == 7)][0]))\n",
    "\n",
    "    d_9 = set(list([d for d in left if ((len(d) == 6) and (len(set(list(d)) - set.union(d_4 , d_7)) == 1))][0]))\n",
    "    d_0 = set(list([d for d in left if ((len(d) == 6) and (set(list(d)) != d_9) and (all(s in d for s in d_7)))][0]))\n",
    "    d_6 = set(list([d for d in left if ((len(d) == 6) and (set(list(d)) != d_9) and (set(list(d)) != d_0))][0]))\n",
    "\n",
    "    d_3 = set(list([d for d in left if ((len(d) == 5) and (all(s in d for s in d_7)))][0]))\n",
    "    d_2 = set(list([d for d in left if ((len(d) == 5) and (min(d_8 - d_9) in d))][0]))\n",
    "    d_5 = set(list([d for d in left if ((len(d) == 5) and (set(list(d)) != d_3) and (set(list(d)) != d_2))][0]))\n",
    "\n",
    "    digits = [d_0, d_1, d_2, d_3, d_4, d_5, d_6, d_7, d_8, d_9]\n",
    "\n",
    "    n = \"\"\n",
    "\n",
    "    for d in right:\n",
    "        \n",
    "        n = n + str(digits.index(set(list(d))))\n",
    "\n",
    "    counter = counter + int(n)\n",
    "\n",
    "print(\"Sum of all displays:\", counter)"
   ]
  }
 ],
 "metadata": {
  "kernelspec": {
   "display_name": "Python 3",
   "language": "python",
   "name": "python3"
  },
  "language_info": {
   "codemirror_mode": {
    "name": "ipython",
    "version": 3
   },
   "file_extension": ".py",
   "mimetype": "text/x-python",
   "name": "python",
   "nbconvert_exporter": "python",
   "pygments_lexer": "ipython3",
   "version": "3.8.8"
  }
 },
 "nbformat": 4,
 "nbformat_minor": 5
}
