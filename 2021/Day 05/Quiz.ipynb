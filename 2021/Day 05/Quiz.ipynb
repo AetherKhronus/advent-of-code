{
 "cells": [
  {
   "cell_type": "markdown",
   "id": "40d558d3",
   "metadata": {},
   "source": [
    "# --- Day 5: Hydrothermal Venture ---"
   ]
  },
  {
   "cell_type": "code",
   "execution_count": 1,
   "id": "bc4bd7ff",
   "metadata": {},
   "outputs": [],
   "source": [
    "from Quiz import *\n",
    "from collections import Counter"
   ]
  },
  {
   "cell_type": "markdown",
   "id": "23a24488",
   "metadata": {},
   "source": [
    "### --- Part One ---"
   ]
  },
  {
   "cell_type": "markdown",
   "id": "63bacb20",
   "metadata": {},
   "source": [
    "You come across a field of hydrothermal vents https://en.wikipedia.org/wiki/Hydrothermal_vent on the ocean floor! These vents constantly produce large, opaque clouds, so it would be best to avoid them if possible.\n",
    "\n",
    "They tend to form in __lines__; the submarine helpfully produces a list of nearby <ins>lines of vents</ins> (your puzzle input) for you to review. For example:\n",
    "\n",
    "`0,9 -> 5,9\n",
    "8,0 -> 0,8\n",
    "9,4 -> 3,4\n",
    "2,2 -> 2,1\n",
    "7,0 -> 7,4\n",
    "6,4 -> 2,0\n",
    "0,9 -> 2,9\n",
    "3,4 -> 1,4\n",
    "0,0 -> 8,8\n",
    "5,5 -> 8,2`\n",
    "\n",
    "Each line of vents is given as a line segment in the format `x1,y1 -> x2,y2` where `x1`,`y1` are the coordinates of one end the line segment and `x2`,`y2` are the coordinates of the other end. These line segments include the points at both ends. In other words:\n",
    "\n",
    "- An entry like `1,1 -> 1,3` covers points `1,1`, `1,2`, and `1,3`.\n",
    "- An entry like `9,7 -> 7,7` covers points `9,7`, `8,7`, and `7,7`.\n",
    "\n",
    "For now, __only consider horizontal and vertical lines__: lines where either `x1 = x2` or `y1 = y2`.\n",
    "\n",
    "So, the horizontal and vertical lines from the above list would produce the following diagram:\n",
    "\n",
    "` . . . . . . . 1 . .\n",
    ". . 1 . . . . 1 . .\n",
    ". . 1 . . . . 1 . .\n",
    ". . . . . . . 1 . .\n",
    ". 1 1 2 1 1 1 2 1 1\n",
    ". . . . . . . . . .\n",
    ". . . . . . . . . .\n",
    ". . . . . . . . . .\n",
    ". . . . . . . . . .\n",
    "2 2 2 1 1 1 . . . .`\n",
    "\n",
    "In this diagram, the top left corner is `0,0` and the bottom right corner is `9,9`. Each position is shown as __the number of lines which cover that point__ or `.` if no line covers that point. The top-left pair of `1`s, for example, comes from `2,2 -> 2,1`; the very bottom row is formed by the overlapping lines `0,9 -> 5,9` and `0,9 -> 2,9`.\n",
    "\n",
    "To avoid the most dangerous areas, you need to determine __the number of points where at least two lines overlap__. In the above example, this is anywhere in the diagram with a `2` or larger - a total of __`5`__ points.\n",
    "\n",
    "Consider only horizontal and vertical lines. __At how many points do at least two lines overlap__?"
   ]
  },
  {
   "cell_type": "markdown",
   "id": "d7d9f247",
   "metadata": {},
   "source": [
    "#### Test"
   ]
  },
  {
   "cell_type": "code",
   "execution_count": 2,
   "id": "3ba85396",
   "metadata": {},
   "outputs": [
    {
     "name": "stdout",
     "output_type": "stream",
     "text": [
      "Overlapping Lines: 5\n"
     ]
    }
   ],
   "source": [
    "pts = []\n",
    "\n",
    "for line in test_lines_1:\n",
    "    \n",
    "    lin = line.split(\" \")\n",
    "    start_x = int(lin[0].split(\",\")[0])\n",
    "    start_y = int(lin[0].split(\",\")[1])\n",
    "    finish_x = int(lin[2].split(\",\")[0])\n",
    "    finish_y = int(lin[2].split(\",\")[1])\n",
    "    \n",
    "    if ((start_x == finish_x) or (start_y == finish_y)):\n",
    "        \n",
    "        for x in range(min(start_x , finish_x) , max(start_x , finish_x) + 1):\n",
    "            \n",
    "            for y in range(min(start_y , finish_y) , max(start_y , finish_y) + 1):\n",
    "                \n",
    "                pts.append((x , y))\n",
    "                    \n",
    "print(\"Overlapping Lines:\" , len([x for (x , y) in Counter(pts).items() if (y > 1)]))"
   ]
  },
  {
   "cell_type": "markdown",
   "id": "49d3e855",
   "metadata": {},
   "source": [
    "#### Answer"
   ]
  },
  {
   "cell_type": "code",
   "execution_count": 3,
   "id": "70845cc3",
   "metadata": {},
   "outputs": [
    {
     "name": "stdout",
     "output_type": "stream",
     "text": [
      "Overlapping Lines: 5092\n"
     ]
    }
   ],
   "source": [
    "pts = []\n",
    "\n",
    "for line in lines:\n",
    "    \n",
    "    lin = line.split(\" \")\n",
    "    start_x = int(lin[0].split(\",\")[0])\n",
    "    start_y = int(lin[0].split(\",\")[1])\n",
    "    finish_x = int(lin[2].split(\",\")[0])\n",
    "    finish_y = int(lin[2].split(\",\")[1])\n",
    "    \n",
    "    if ((start_x == finish_x) or (start_y == finish_y)):\n",
    "        \n",
    "        for x in range(min(start_x , finish_x) , max(start_x , finish_x) + 1):\n",
    "            \n",
    "            for y in range(min(start_y , finish_y) , max(start_y , finish_y) + 1):\n",
    "                \n",
    "                pts.append((x , y))\n",
    "                    \n",
    "print(\"Overlapping Lines:\" , len([x for (x , y) in Counter(pts).items() if (y > 1)]))"
   ]
  },
  {
   "cell_type": "markdown",
   "id": "f9610680",
   "metadata": {},
   "source": [
    "-------------------------------------"
   ]
  },
  {
   "cell_type": "markdown",
   "id": "91f6b606",
   "metadata": {},
   "source": [
    "### --- Part Two ---"
   ]
  },
  {
   "cell_type": "markdown",
   "id": "5e3c6a5c",
   "metadata": {},
   "source": [
    "Unfortunately, considering only horizontal and vertical lines doesn't give you the full picture; you need to also consider __diagonal lines__.\n",
    "\n",
    "Because of the limits of the hydrothermal vent mapping system, the lines in your list will only ever be horizontal, vertical, or a diagonal line at exactly 45 degrees. In other words:\n",
    "\n",
    "- An entry like `1,1 -> 3,3` covers points `1,1`, `2,2`, and `3,3`.\n",
    "- An entry like `9,7 -> 7,9` covers points `9,7`, `8,8`, and `7,9`.\n",
    "\n",
    "Considering all lines from the above example would now produce the following diagram:\n",
    "\n",
    "`1 . 1 . . . . 1 1 .\n",
    ". 1 1 1 . . . 2 . .\n",
    ". . 2 . 1 . 1 1 1 .\n",
    ". . . 1 . 2 . 2 . .\n",
    ". 1 1 2 3 1 3 2 1 1\n",
    ". . . 1 . 2 . . . .\n",
    ". . 1 . . . 1 . . .\n",
    ". 1 . . . . . 1 . .\n",
    "1 . . . . . . . 1 .\n",
    "2 2 2 1 1 1 . . . .`\n",
    "\n",
    "You still need to determine __the number of points where at least two lines overlap__. In the above example, this is still anywhere in the diagram with a `2` or larger - now a total of __`12`__ points.\n",
    "\n",
    "Consider all of the lines. __At how many points do at least two lines overlap__?"
   ]
  },
  {
   "cell_type": "markdown",
   "id": "5495806d",
   "metadata": {},
   "source": [
    "#### Test"
   ]
  },
  {
   "cell_type": "code",
   "execution_count": 4,
   "id": "a7372920",
   "metadata": {},
   "outputs": [
    {
     "name": "stdout",
     "output_type": "stream",
     "text": [
      "Overlapping Lines: 12\n"
     ]
    }
   ],
   "source": [
    "pts = []\n",
    "\n",
    "for line in test_lines_1:\n",
    "    \n",
    "    lin = line.split(\" \")\n",
    "    start_x = int(lin[0].split(\",\")[0])\n",
    "    start_y = int(lin[0].split(\",\")[1])\n",
    "    finish_x = int(lin[2].split(\",\")[0])\n",
    "    finish_y = int(lin[2].split(\",\")[1])\n",
    "    \n",
    "    if ((start_x == finish_x) or (start_y == finish_y)):\n",
    "        \n",
    "        for x in range(min(start_x , finish_x) , max(start_x , finish_x) + 1):\n",
    "            \n",
    "            for y in range(min(start_y , finish_y) , max(start_y , finish_y) + 1):\n",
    "                \n",
    "                pts.append((x , y))\n",
    "                \n",
    "    else:\n",
    "        \n",
    "        if (start_x < finish_x):\n",
    "            \n",
    "            for x in range(start_x , finish_x + 1):\n",
    "                \n",
    "                if (start_y < finish_y):\n",
    "                    \n",
    "                    pts.append((x , x - start_x + start_y))\n",
    "                    \n",
    "                else:\n",
    "                    \n",
    "                    pts.append((x , start_y - (x - start_x)))\n",
    "                    \n",
    "        else:\n",
    "            \n",
    "            for x in range(finish_x , start_x + 1):\n",
    "                \n",
    "                if (finish_y < start_y):\n",
    "                    \n",
    "                    pts.append((x , x - finish_x + finish_y))\n",
    "                    \n",
    "                else:\n",
    "                    \n",
    "                    pts.append((x , finish_y - (x - finish_x)))\n",
    "                    \n",
    "print(\"Overlapping Lines:\" , len([x for (x , y) in Counter(pts).items() if (y > 1)]))"
   ]
  },
  {
   "cell_type": "markdown",
   "id": "d6cfa730",
   "metadata": {},
   "source": [
    "#### Answer"
   ]
  },
  {
   "cell_type": "code",
   "execution_count": 5,
   "id": "fcd78ded",
   "metadata": {},
   "outputs": [
    {
     "name": "stdout",
     "output_type": "stream",
     "text": [
      "Overlapping Lines: 20484\n"
     ]
    }
   ],
   "source": [
    "pts = []\n",
    "\n",
    "for line in lines:\n",
    "    \n",
    "    lin = line.split(\" \")\n",
    "    start_x = int(lin[0].split(\",\")[0])\n",
    "    start_y = int(lin[0].split(\",\")[1])\n",
    "    finish_x = int(lin[2].split(\",\")[0])\n",
    "    finish_y = int(lin[2].split(\",\")[1])\n",
    "    \n",
    "    if ((start_x == finish_x) or (start_y == finish_y)):\n",
    "        \n",
    "        for x in range(min(start_x , finish_x) , max(start_x , finish_x) + 1):\n",
    "            \n",
    "            for y in range(min(start_y , finish_y) , max(start_y , finish_y) + 1):\n",
    "                \n",
    "                pts.append((x , y))\n",
    "                \n",
    "    else:\n",
    "        \n",
    "        if (start_x < finish_x):\n",
    "            \n",
    "            for x in range(start_x , finish_x + 1):\n",
    "                \n",
    "                if (start_y < finish_y):\n",
    "                    \n",
    "                    pts.append((x , x - start_x + start_y))\n",
    "                    \n",
    "                else:\n",
    "                    \n",
    "                    pts.append((x , start_y - (x - start_x)))\n",
    "                    \n",
    "        else:\n",
    "            \n",
    "            for x in range(finish_x , start_x + 1):\n",
    "                \n",
    "                if (finish_y < start_y):\n",
    "                    \n",
    "                    pts.append((x , x - finish_x + finish_y))\n",
    "                    \n",
    "                else:\n",
    "                    \n",
    "                    pts.append((x , finish_y - (x - finish_x)))\n",
    "                    \n",
    "print(\"Overlapping Lines:\" , len([x for (x , y) in Counter(pts).items() if (y > 1)]))"
   ]
  }
 ],
 "metadata": {
  "kernelspec": {
   "display_name": "Python 3",
   "language": "python",
   "name": "python3"
  },
  "language_info": {
   "codemirror_mode": {
    "name": "ipython",
    "version": 3
   },
   "file_extension": ".py",
   "mimetype": "text/x-python",
   "name": "python",
   "nbconvert_exporter": "python",
   "pygments_lexer": "ipython3",
   "version": "3.8.8"
  }
 },
 "nbformat": 4,
 "nbformat_minor": 5
}
