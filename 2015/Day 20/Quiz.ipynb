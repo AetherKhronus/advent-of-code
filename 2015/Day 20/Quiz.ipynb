{
 "cells": [
  {
   "cell_type": "markdown",
   "id": "40d558d3",
   "metadata": {},
   "source": [
    "# --- Day 20: Infinite Elves and Infinite Houses ---"
   ]
  },
  {
   "cell_type": "code",
   "execution_count": 1,
   "id": "bc4bd7ff",
   "metadata": {},
   "outputs": [],
   "source": [
    "from Quiz import *\n",
    "from collections import Counter"
   ]
  },
  {
   "cell_type": "markdown",
   "id": "23a24488",
   "metadata": {},
   "source": [
    "### --- Part One ---"
   ]
  },
  {
   "cell_type": "markdown",
   "id": "63bacb20",
   "metadata": {},
   "source": [
    "To keep the Elves busy, Santa has them deliver some presents by hand, door-to-door. He sends them down a street with infinite houses numbered sequentially: `1`, `2`, `3`, `4`, `5`, and so on.\n",
    "\n",
    "Each Elf is assigned a number, too, and delivers presents to houses based on that number:\n",
    "\n",
    "- The first Elf (number `1`) delivers presents to every house: `1`, `2`, `3`, `4`, `5`, ....\n",
    "- The second Elf (number `2`) delivers presents to every second house: `2`, `4`, `6`, `8`, `10`, ....\n",
    "- Elf number `3` delivers presents to every third house: `3`, `6`, `9`, `12`, `15`, ....\n",
    "\n",
    "There are infinitely many Elves, numbered starting with `1`. Each Elf delivers presents equal to __ten times__ his or her number at each house.\n",
    "\n",
    "So, the first nine houses on the street end up like this:\n",
    "\n",
    "`House 1 got 10 presents.\n",
    "House 2 got 30 presents.\n",
    "House 3 got 40 presents.\n",
    "House 4 got 70 presents.\n",
    "House 5 got 60 presents.\n",
    "House 6 got 120 presents.\n",
    "House 7 got 80 presents.\n",
    "House 8 got 150 presents.\n",
    "House 9 got 130 presents.`\n",
    "\n",
    "The first house gets `10` presents: it is visited only by Elf `1`, which delivers `1 * 10 = 10` presents. The fourth house gets `70` presents, because it is visited by Elves `1`, `2`, and `4`, for a total of `10 + 20 + 40 = 70` presents.\n",
    "\n",
    "What is the __lowest house number__ of the house to get at least as many presents as the number in your puzzle input?"
   ]
  },
  {
   "cell_type": "markdown",
   "id": "d7d9f247",
   "metadata": {},
   "source": [
    "#### Test"
   ]
  },
  {
   "cell_type": "code",
   "execution_count": 3,
   "id": "1612bf8a",
   "metadata": {},
   "outputs": [
    {
     "name": "stdout",
     "output_type": "stream",
     "text": [
      "House 4 got 70 presents.\n"
     ]
    }
   ],
   "source": [
    "target = test_input_1\n",
    "houses = [0] * target\n",
    "\n",
    "for i in range(1 , target // 10):\n",
    "    \n",
    "    for j in range(i , target // 10 , i):\n",
    "        \n",
    "            houses[j] = houses[j] + i * 10          \n",
    "\n",
    "for i in range(len(houses)):\n",
    "    \n",
    "    if (houses[i] >= target):\n",
    "        \n",
    "        print(\"House\" , i , \"got\" , houses[i] , \"presents.\")\n",
    "        break"
   ]
  },
  {
   "cell_type": "markdown",
   "id": "49d3e855",
   "metadata": {},
   "source": [
    "#### Answer"
   ]
  },
  {
   "cell_type": "code",
   "execution_count": 5,
   "id": "002ced50",
   "metadata": {
    "scrolled": true
   },
   "outputs": [
    {
     "name": "stdout",
     "output_type": "stream",
     "text": [
      "House 786240 got 34137600 presents.\n"
     ]
    }
   ],
   "source": [
    "target = input_1\n",
    "houses = [0] * target\n",
    "\n",
    "for i in range(1 , target // 10):\n",
    "    \n",
    "    for j in range(i , target // 10 , i):\n",
    "        \n",
    "            houses[j] = houses[j] + i * 10          \n",
    "\n",
    "for i in range(len(houses)):\n",
    "    \n",
    "    if (houses[i] >= target):\n",
    "        \n",
    "        print(\"House\" , i , \"got\" , houses[i] , \"presents.\")\n",
    "        break"
   ]
  },
  {
   "cell_type": "markdown",
   "id": "f9610680",
   "metadata": {},
   "source": [
    "-------------------------------------"
   ]
  },
  {
   "cell_type": "markdown",
   "id": "91f6b606",
   "metadata": {},
   "source": [
    "### --- Part Two ---"
   ]
  },
  {
   "cell_type": "markdown",
   "id": "5e3c6a5c",
   "metadata": {},
   "source": [
    "The Elves decide they don't want to visit an infinite number of houses. Instead, each Elf will stop after delivering presents to `50` houses. To make up for it, they decide to deliver presents equal to __eleven times__ their number at each house.\n",
    "\n",
    "With these changes, what is the new __lowest house number__ of the house to get at least as many presents as the number in your puzzle input?"
   ]
  },
  {
   "cell_type": "markdown",
   "id": "5495806d",
   "metadata": {},
   "source": [
    "#### Test"
   ]
  },
  {
   "cell_type": "code",
   "execution_count": null,
   "id": "a7372920",
   "metadata": {},
   "outputs": [],
   "source": []
  },
  {
   "cell_type": "markdown",
   "id": "d6cfa730",
   "metadata": {},
   "source": [
    "#### Answer"
   ]
  },
  {
   "cell_type": "code",
   "execution_count": 8,
   "id": "fcd78ded",
   "metadata": {},
   "outputs": [
    {
     "name": "stdout",
     "output_type": "stream",
     "text": [
      "House 831600 got 35780206 presents.\n"
     ]
    }
   ],
   "source": [
    "target = input_1\n",
    "houses = [0] * target\n",
    "\n",
    "for i in range(1 , target // 10):\n",
    "    \n",
    "    x = 0\n",
    "    \n",
    "    for j in range(i , target // 10 , i):\n",
    "        \n",
    "            houses[j] = houses[j] + i * 11 \n",
    "            \n",
    "            x = x + 1\n",
    "            \n",
    "            if (x == 50):\n",
    "                \n",
    "                break\n",
    "\n",
    "for i in range(len(houses)):\n",
    "    \n",
    "    if (houses[i] >= target):\n",
    "        \n",
    "        print(\"House\" , i , \"got\" , houses[i] , \"presents.\")\n",
    "        break"
   ]
  }
 ],
 "metadata": {
  "kernelspec": {
   "display_name": "Python 3",
   "language": "python",
   "name": "python3"
  },
  "language_info": {
   "codemirror_mode": {
    "name": "ipython",
    "version": 3
   },
   "file_extension": ".py",
   "mimetype": "text/x-python",
   "name": "python",
   "nbconvert_exporter": "python",
   "pygments_lexer": "ipython3",
   "version": "3.8.8"
  }
 },
 "nbformat": 4,
 "nbformat_minor": 5
}
