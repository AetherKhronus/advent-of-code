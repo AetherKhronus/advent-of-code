{
 "cells": [
  {
   "cell_type": "markdown",
   "id": "40d558d3",
   "metadata": {},
   "source": [
    "# --- Day 21: RPG Simulator 20XX ---"
   ]
  },
  {
   "cell_type": "code",
   "execution_count": 1,
   "id": "bc4bd7ff",
   "metadata": {},
   "outputs": [],
   "source": [
    "from Quiz import *"
   ]
  },
  {
   "cell_type": "markdown",
   "id": "23a24488",
   "metadata": {},
   "source": [
    "### --- Part One ---"
   ]
  },
  {
   "cell_type": "markdown",
   "id": "63bacb20",
   "metadata": {},
   "source": [
    "Little Henry Case got a new video game for Christmas. It's an RPG https://en.wikipedia.org/wiki/Role-playing_video_game , and he's stuck on a boss. He needs to know what equipment to buy at the shop. He hands you the controller https://en.wikipedia.org/wiki/Game_controller .\n",
    "\n",
    "In this game, the player (you) and the enemy (the boss) take turns attacking. The player always goes first. Each attack reduces the opponent's hit points by at least `1`. The first character at or below `0` hit points loses.\n",
    "\n",
    "Damage dealt by an attacker each turn is equal to the attacker's damage score minus the defender's armor score. An attacker always does at least `1` damage. So, if the attacker has a damage score of `8`, and the defender has an armor score of `3`, the defender loses `5` hit points. If the defender had an armor score of `300`, the defender would still lose `1` hit point.\n",
    "\n",
    "Your damage score and armor score both start at zero. They can be increased by buying items in exchange for gold. You start with no items and have as much gold as you need. Your total damage or armor is equal to the sum of those stats from all of your items. You have __`100`__ hit points.\n",
    "\n",
    "Here is what the item shop is selling:\n",
    "\n",
    "`Weapons:    Cost  Damage  Armor\n",
    "Dagger        8     4       0\n",
    "Shortsword   10     5       0\n",
    "Warhammer    25     6       0\n",
    "Longsword    40     7       0\n",
    "Greataxe     74     8       0`\n",
    "\n",
    "`Armor:      Cost  Damage  Armor\n",
    "Leather      13     0       1\n",
    "Chainmail    31     0       2\n",
    "Splintmail   53     0       3\n",
    "Bandedmail   75     0       4\n",
    "Platemail   102     0       5`\n",
    "\n",
    "`Rings:      Cost  Damage  Armor\n",
    "Damage +1    25     1       0\n",
    "Damage +2    50     2       0\n",
    "Damage +3   100     3       0\n",
    "Defense +1   20     0       1\n",
    "Defense +2   40     0       2\n",
    "Defense +3   80     0       3`\n",
    "\n",
    "You must buy exactly one weapon; no dual-wielding. Armor is optional, but you can't use more than one. You can buy 0-2 rings (at most one for each hand). You must use any items you buy. The shop only has one of each item, so you can't buy, for example, two rings of Damage +3.\n",
    "\n",
    "For example, suppose you have `8` hit points, `5` damage, and `5` armor, and that the boss has `12` hit points, `7` damage, and `2` armor:\n",
    "\n",
    "- The player deals `5-2 = 3` damage; the boss goes down to 9 hit points.\n",
    "- The boss deals `7-5 = 2` damage; the player goes down to 6 hit points.\n",
    "- The player deals `5-2 = 3` damage; the boss goes down to 6 hit points.\n",
    "- The boss deals `7-5 = 2` damage; the player goes down to 4 hit points.\n",
    "- The player deals `5-2 = 3` damage; the boss goes down to 3 hit points.\n",
    "- The boss deals `7-5 = 2` damage; the player goes down to 2 hit points.\n",
    "- The player deals `5-2 = 3` damage; the boss goes down to 0 hit points.\n",
    "\n",
    "In this scenario, the player wins! (Barely.)\n",
    "\n",
    "You have __100 hit points__. The boss's actual stats are in your puzzle input. What is the __least amount of gold you can spend__ and still win the fight?"
   ]
  },
  {
   "cell_type": "code",
   "execution_count": 2,
   "id": "bd917da5",
   "metadata": {},
   "outputs": [],
   "source": [
    "def play(player_stats , boss_stats):\n",
    "\n",
    "    player = True\n",
    "    \n",
    "    while True:\n",
    "\n",
    "        if (player):\n",
    "\n",
    "            a_dmg = player_stats.get(\"dmg\")\n",
    "            d_def = boss_stats.get(\"def\")\n",
    "            dmg_delt = a_dmg - d_def\n",
    "\n",
    "            if(dmg_delt < 1):\n",
    "\n",
    "                dmg_delt = 1\n",
    "\n",
    "            boss_stats[\"hp\"] = boss_stats.get(\"hp\") - dmg_delt\n",
    "\n",
    "            #print(\"Player deals\" , a_dmg , \"-\" , d_def , \"=\" , dmg_delt , \"damage. Boss HP goes down to\" , boss_stats.get(\"hp\"))\n",
    "            player = False\n",
    "            \n",
    "            if(boss_stats.get(\"hp\") <= 0):\n",
    "                \n",
    "                return True\n",
    "\n",
    "        else:\n",
    "\n",
    "            a_dmg = boss_stats.get(\"dmg\")\n",
    "            d_def = player_stats.get(\"def\")\n",
    "            dmg_delt = a_dmg - d_def\n",
    "\n",
    "            if(dmg_delt < 1):\n",
    "\n",
    "                dmg_delt = 1\n",
    "\n",
    "            player_stats[\"hp\"] = player_stats.get(\"hp\") - dmg_delt\n",
    "\n",
    "            #print(\"Boss deals\" , a_dmg , \"-\" , d_def , \"=\" , dmg_delt , \"damage. Player HP goes down to\" , player_stats.get(\"hp\"))\n",
    "            player = True\n",
    "            \n",
    "            if(player_stats.get(\"hp\") <= 0):\n",
    "                \n",
    "                return False"
   ]
  },
  {
   "cell_type": "code",
   "execution_count": 7,
   "id": "259e5025",
   "metadata": {},
   "outputs": [],
   "source": [
    "weapons = {1:{\"c\":8 , \"d\":4 , \"a\":0} ,\n",
    "           2:{\"c\":10 , \"d\":5 , \"a\":0} ,\n",
    "           3:{\"c\":25 , \"d\":6 , \"a\":0} ,\n",
    "           4:{\"c\":40 , \"d\":7 , \"a\":0} ,\n",
    "           5:{\"c\":74 , \"d\":8 , \"a\":0} }\n",
    "\n",
    "armors = {0:{\"c\":0 , \"d\":0 , \"a\":0} ,\n",
    "         1:{\"c\":13 , \"d\":0 , \"a\":1} ,\n",
    "         2:{\"c\":31 , \"d\":0 , \"a\":2} ,\n",
    "         3:{\"c\":53 , \"d\":0 , \"a\":3} ,\n",
    "         4:{\"c\":75 , \"d\":0 , \"a\":4} ,\n",
    "         5:{\"c\":102 , \"d\":0 , \"a\":5} }\n",
    "\n",
    "rings = {0:{\"c\":0 , \"d\":0 , \"a\":0} ,\n",
    "         1:{\"c\":25 , \"d\":1 , \"a\":0} ,\n",
    "         2:{\"c\":50 , \"d\":2 , \"a\":0} ,\n",
    "         3:{\"c\":100 , \"d\":3 , \"a\":0} ,\n",
    "         4:{\"c\":20 , \"d\":0 , \"a\":1} ,\n",
    "         5:{\"c\":40 , \"d\":0 , \"a\":2} ,\n",
    "         6:{\"c\":80 , \"d\":0 , \"a\":3} }\n",
    "\n",
    "stats_cost = []\n",
    "\n",
    "for w in range(1 , 6):\n",
    "    \n",
    "    for a in range(6):\n",
    "        \n",
    "        for r_1 in range(7):\n",
    "            \n",
    "            for r_2 in range(7):\n",
    "                \n",
    "                if (((r_1 == r_2) and (r_1 == 0)) or (r_1 != r_2)):\n",
    "                    \n",
    "                    weapon = weapons.get(w)\n",
    "                    armor = armors.get(a)\n",
    "                    ring_1 = rings.get(r_1)\n",
    "                    ring_2 = rings.get(r_2)\n",
    "\n",
    "                    t_cost = weapon.get(\"c\") + armor.get(\"c\") + ring_1.get(\"c\") + ring_2.get(\"c\")\n",
    "                    t_dmg = weapon.get(\"d\") + armor.get(\"d\") + ring_1.get(\"d\") + ring_2.get(\"d\")\n",
    "                    t_def = weapon.get(\"a\") + armor.get(\"a\") + ring_1.get(\"a\") + ring_2.get(\"a\")\n",
    "\n",
    "                    result = (t_cost , t_dmg , t_def)\n",
    "                    stats_cost.append(result)"
   ]
  },
  {
   "cell_type": "markdown",
   "id": "d7d9f247",
   "metadata": {},
   "source": [
    "#### Test"
   ]
  },
  {
   "cell_type": "code",
   "execution_count": 8,
   "id": "4079e2f8",
   "metadata": {},
   "outputs": [
    {
     "name": "stdout",
     "output_type": "stream",
     "text": [
      "Player wins? True\n"
     ]
    }
   ],
   "source": [
    "player_stats = {\"hp\":8 , \"dmg\":5 , \"def\":5}\n",
    "\n",
    "boss_hp = int(test_boss[0][12:])\n",
    "boss_dmg = int(test_boss[1][8:])\n",
    "boss_def = int(test_boss[2][7:])\n",
    "\n",
    "boss_stats = {\"hp\":boss_hp , \"dmg\":boss_dmg , \"def\":boss_def}\n",
    "\n",
    "outcome = play(player_stats , boss_stats)\n",
    "print(\"Player wins?\" , outcome)"
   ]
  },
  {
   "cell_type": "markdown",
   "id": "49d3e855",
   "metadata": {},
   "source": [
    "#### Answer"
   ]
  },
  {
   "cell_type": "code",
   "execution_count": 9,
   "id": "002ced50",
   "metadata": {},
   "outputs": [
    {
     "name": "stdout",
     "output_type": "stream",
     "text": [
      "Player wins having spent only 111 gold.\n"
     ]
    }
   ],
   "source": [
    "boss_hp = int(boss[0][12:])\n",
    "boss_dmg = int(boss[1][8:])\n",
    "boss_def = int(boss[2][7:])\n",
    "costs = []\n",
    "\n",
    "for s in stats_cost:\n",
    "    \n",
    "    boss_stats = {\"hp\":boss_hp , \"dmg\":boss_dmg , \"def\":boss_def}\n",
    "    player_stats = {\"hp\":100 , \"dmg\":0 , \"def\":0}\n",
    "    player_stats[\"dmg\"] = s[1]\n",
    "    player_stats[\"def\"] = s[2]    \n",
    "\n",
    "    outcome = play(player_stats , boss_stats)\n",
    "    \n",
    "    if (outcome):\n",
    "        \n",
    "        costs.append(s[0])\n",
    "        \n",
    "print(\"Player wins having spent only\" , min(costs) , \"gold.\")"
   ]
  },
  {
   "cell_type": "markdown",
   "id": "f9610680",
   "metadata": {},
   "source": [
    "-------------------------------------"
   ]
  },
  {
   "cell_type": "markdown",
   "id": "91f6b606",
   "metadata": {},
   "source": [
    "### --- Part Two ---"
   ]
  },
  {
   "cell_type": "markdown",
   "id": "5e3c6a5c",
   "metadata": {},
   "source": [
    "Turns out the shopkeeper is working with the boss, and can persuade you to buy whatever items he wants. The other rules still apply, and he still only has one of each item.\n",
    "\n",
    "What is the __most__ amount of gold you can spend and still __lose__ the fight?"
   ]
  },
  {
   "cell_type": "markdown",
   "id": "5495806d",
   "metadata": {},
   "source": [
    "#### Test"
   ]
  },
  {
   "cell_type": "code",
   "execution_count": null,
   "id": "a7372920",
   "metadata": {},
   "outputs": [],
   "source": []
  },
  {
   "cell_type": "markdown",
   "id": "d6cfa730",
   "metadata": {},
   "source": [
    "#### Answer"
   ]
  },
  {
   "cell_type": "code",
   "execution_count": 10,
   "id": "fcd78ded",
   "metadata": {},
   "outputs": [
    {
     "name": "stdout",
     "output_type": "stream",
     "text": [
      "Player loses having spent 188 gold.\n"
     ]
    }
   ],
   "source": [
    "boss_hp = int(boss[0][12:])\n",
    "boss_dmg = int(boss[1][8:])\n",
    "boss_def = int(boss[2][7:])\n",
    "costs = []\n",
    "\n",
    "for s in stats_cost:\n",
    "    \n",
    "    boss_stats = {\"hp\":boss_hp , \"dmg\":boss_dmg , \"def\":boss_def}\n",
    "    player_stats = {\"hp\":100 , \"dmg\":0 , \"def\":0}\n",
    "    player_stats[\"dmg\"] = s[1]\n",
    "    player_stats[\"def\"] = s[2]\n",
    "\n",
    "    outcome = play(player_stats , boss_stats)\n",
    "    \n",
    "    if (not outcome):\n",
    "        \n",
    "        costs.append(s[0])\n",
    "\n",
    "print(\"Player loses having spent\" , max(costs) , \"gold.\")"
   ]
  }
 ],
 "metadata": {
  "kernelspec": {
   "display_name": "Python 3",
   "language": "python",
   "name": "python3"
  },
  "language_info": {
   "codemirror_mode": {
    "name": "ipython",
    "version": 3
   },
   "file_extension": ".py",
   "mimetype": "text/x-python",
   "name": "python",
   "nbconvert_exporter": "python",
   "pygments_lexer": "ipython3",
   "version": "3.8.8"
  }
 },
 "nbformat": 4,
 "nbformat_minor": 5
}
