{
 "cells": [
  {
   "cell_type": "markdown",
   "id": "40d558d3",
   "metadata": {},
   "source": [
    "# --- Day 5: Doesn't He Have Intern-Elves For This? ---"
   ]
  },
  {
   "cell_type": "code",
   "execution_count": 1,
   "id": "bc4bd7ff",
   "metadata": {},
   "outputs": [],
   "source": [
    "from Quiz import *"
   ]
  },
  {
   "cell_type": "markdown",
   "id": "23a24488",
   "metadata": {},
   "source": [
    "### --- Part One ---"
   ]
  },
  {
   "cell_type": "markdown",
   "id": "63bacb20",
   "metadata": {},
   "source": [
    "Santa needs help figuring out which strings in his text file are naughty or nice.\n",
    "\n",
    "A __nice string__ is one with all of the following properties:\n",
    "\n",
    "- It contains at least three vowels (`aeiou` only), like `aei`, `xazegov`, or `aeiouaeiouaeiou`.\n",
    "- It contains at least one letter that appears twice in a row, like `xx`, `abcdde` (`dd`), or `aabbccdd` (`aa`, `bb`, `cc`, or `dd`).\n",
    "- It does __not__ contain the strings `ab`, `cd`, `pq`, or `xy`, even if they are part of one of the other requirements.\n",
    "\n",
    "For example:\n",
    "\n",
    "- `ugknbfddgicrmopn` is nice because it has at least three vowels (`u...i...o...`), a double letter (`...dd...`), and none of the disallowed substrings.\n",
    "- `aaa` is nice because it has at least three vowels and a double letter, even though the letters used by different rules overlap.\n",
    "- `jchzalrnumimnmhp` is naughty because it has no double letter.\n",
    "- `haegwjzuvuyypxyu` is naughty because it contains the string `xy`.\n",
    "- `dvszwmarrgswjxmb` is naughty because it contains only one vowel.\n",
    "\n",
    "How many strings are nice?"
   ]
  },
  {
   "cell_type": "markdown",
   "id": "d7d9f247",
   "metadata": {},
   "source": [
    "#### Test"
   ]
  },
  {
   "cell_type": "code",
   "execution_count": 2,
   "id": "4079e2f8",
   "metadata": {},
   "outputs": [
    {
     "name": "stdout",
     "output_type": "stream",
     "text": [
      "String: ugknbfddgicrmopn\n",
      "Nice: True\n",
      "String: aaa\n",
      "Nice: True\n",
      "String: jchzalrnumimnmhp\n",
      "Nice: False\n",
      "String: haegwjzuvuyypxyu\n",
      "Nice: False\n",
      "String: dvszwmarrgswjxmb\n",
      "Nice: False\n"
     ]
    }
   ],
   "source": [
    "for test_s in test_strings_1:\n",
    "    \n",
    "    test_nice = True\n",
    "    \n",
    "    if ((\"ab\" in test_s) or (\"cd\" in test_s) or (\"pq\" in test_s) or (\"xy\" in test_s)):\n",
    "        \n",
    "        test_nice = False\n",
    "        print(\"String:\" , test_s)\n",
    "        print(\"Nice:\" , test_nice)\n",
    "        continue\n",
    "    \n",
    "    test_l = list(test_s)\n",
    "    test_found = False\n",
    "    test_vowels = 0\n",
    "    \n",
    "    for test_i in range(len(test_l) - 1):\n",
    "        \n",
    "        if (test_l[test_i] == test_l[test_i + 1]):\n",
    "            \n",
    "            test_found = True\n",
    "        \n",
    "        if ((test_l[test_i] == \"a\") or (test_l[test_i] == \"e\") or (test_l[test_i] == \"i\") or (test_l[test_i] == \"o\") or (test_l[test_i] == \"u\")):\n",
    "            \n",
    "            test_vowels = test_vowels + 1\n",
    "            \n",
    "    if ((test_l[len(test_l) - 1] == \"a\") or (test_l[len(test_l) - 1] == \"e\") or (test_l[len(test_l) - 1] == \"i\") or (test_l[len(test_l) - 1] == \"o\") or (test_l[len(test_l) - 1] == \"u\")):\n",
    "            \n",
    "            test_vowels = test_vowels + 1\n",
    "    \n",
    "    if (not test_found):\n",
    "        \n",
    "        test_nice = False\n",
    "        print(\"String:\" , test_s)\n",
    "        print(\"Nice:\" , test_nice)\n",
    "        continue\n",
    "    \n",
    "    if (test_vowels < 3):\n",
    "        \n",
    "        test_nice = False\n",
    "        print(\"String:\" , test_s)\n",
    "        print(\"Nice:\" , test_nice)\n",
    "        continue\n",
    "            \n",
    "    print(\"String:\" , test_s)\n",
    "    print(\"Nice:\" , test_nice)"
   ]
  },
  {
   "cell_type": "markdown",
   "id": "49d3e855",
   "metadata": {},
   "source": [
    "#### Answer"
   ]
  },
  {
   "cell_type": "code",
   "execution_count": 3,
   "id": "002ced50",
   "metadata": {},
   "outputs": [
    {
     "name": "stdout",
     "output_type": "stream",
     "text": [
      "Nice Strings: 236\n"
     ]
    }
   ],
   "source": [
    "counter = 0\n",
    "\n",
    "for s in strings:\n",
    "    \n",
    "    if ((\"ab\" in s) or (\"cd\" in s) or (\"pq\" in s) or (\"xy\" in s)):\n",
    "        \n",
    "        continue\n",
    "    \n",
    "    l = list(s)\n",
    "    found = False\n",
    "    vowels = 0\n",
    "    \n",
    "    for i in range(len(l) - 1):\n",
    "        \n",
    "        if (l[i] == l[i + 1]):\n",
    "            \n",
    "            found = True\n",
    "        \n",
    "        if ((l[i] == \"a\") or (l[i] == \"e\") or (l[i] == \"i\") or (l[i] == \"o\") or (l[i] == \"u\")):\n",
    "            \n",
    "            vowels = vowels + 1\n",
    "            \n",
    "    if ((l[len(l) - 1] == \"a\") or (l[len(l) - 1] == \"e\") or (l[len(l) - 1] == \"i\") or (l[len(l) - 1] == \"o\") or (l[len(l) - 1] == \"u\")):\n",
    "            \n",
    "            vowels = vowels + 1\n",
    "    \n",
    "    if (not found):\n",
    "        \n",
    "        continue\n",
    "    \n",
    "    if (vowels < 3):\n",
    "        \n",
    "        continue\n",
    "            \n",
    "    counter = counter + 1\n",
    "\n",
    "print(\"Nice Strings:\" , counter)"
   ]
  },
  {
   "cell_type": "markdown",
   "id": "f9610680",
   "metadata": {},
   "source": [
    "-------------------------------------"
   ]
  },
  {
   "cell_type": "markdown",
   "id": "91f6b606",
   "metadata": {},
   "source": [
    "### --- Part Two ---"
   ]
  },
  {
   "cell_type": "markdown",
   "id": "5e3c6a5c",
   "metadata": {},
   "source": [
    "Realizing the error of his ways, Santa has switched to a better model of determining whether a string is naughty or nice. None of the old rules apply, as they are all clearly ridiculous.\n",
    "\n",
    "Now, a nice string is one with all of the following properties:\n",
    "\n",
    "- It contains a pair of any two letters that appears at least twice in the string without overlapping, like `xyxy` (`xy`) or `aabcdefgaa` (`aa`), but not like `aaa` (`aa`, but it overlaps).\n",
    "- It contains at least one letter which repeats with exactly one letter between them, like `xyx`, `abcdefeghi` (`efe`), or even `aaa`.\n",
    "\n",
    "For example:\n",
    "\n",
    "- `qjhvhtzxzqqjkmpb` is nice because is has a pair that appears twice (`qj`) and a letter that repeats with exactly one letter between them (`zxz`).\n",
    "- `xxyxx` is nice because it has a pair that appears twice and a letter that repeats with one between, even though the letters used by each rule overlap.\n",
    "- `uurcxstgmygtbstg` is naughty because it has a pair (`tg`) but no repeat with a single letter between them.\n",
    "- `ieodomkazucvgmuy` is naughty because it has a repeating letter with one between (`odo`), but no pair that appears twice.\n",
    "\n",
    "How many strings are nice under these new rules?"
   ]
  },
  {
   "cell_type": "markdown",
   "id": "5495806d",
   "metadata": {},
   "source": [
    "#### Test"
   ]
  },
  {
   "cell_type": "code",
   "execution_count": 4,
   "id": "a7372920",
   "metadata": {},
   "outputs": [
    {
     "name": "stdout",
     "output_type": "stream",
     "text": [
      "String: qjhvhtzxzqqjkmpb\n",
      "Nice: True\n",
      "String: xxyxx\n",
      "Nice: True\n",
      "String: uurcxstgmygtbstg\n",
      "Nice: False\n",
      "String: ieodomkazucvgmuy\n",
      "Nice: False\n",
      "String: xyxy\n",
      "Nice: True\n",
      "String: aabcdefgaa\n",
      "Nice: False\n",
      "String: aaa\n",
      "Nice: False\n",
      "String: xyx\n",
      "Nice: False\n",
      "String: abcdefeghi\n",
      "Nice: False\n"
     ]
    }
   ],
   "source": [
    "for test_s in test_strings_2:\n",
    "    \n",
    "    test_nice = True\n",
    "    \n",
    "    test_found_1 = False\n",
    "    \n",
    "    for test_i in range(len(test_s) - 1):\n",
    "        \n",
    "        test_rep = test_s[test_i] + test_s[test_i + 1]\n",
    "        \n",
    "        if (test_rep in test_s[test_i + 2:]):\n",
    "            \n",
    "            test_found_1 = True\n",
    "            break\n",
    "    \n",
    "    if (not test_found_1):\n",
    "        \n",
    "        test_nice = False\n",
    "        print(\"String:\" , test_s)\n",
    "        print(\"Nice:\" , test_nice)\n",
    "        continue\n",
    "        \n",
    "    test_found_2 = False\n",
    "    \n",
    "    for test_i in range(len(test_s) - 2):\n",
    "        \n",
    "        if (test_s[test_i] == test_s[test_i + 2]):\n",
    "            \n",
    "            test_found_2 = True\n",
    "    \n",
    "    if (not test_found_2):\n",
    "        \n",
    "        test_nice = False\n",
    "        print(\"String:\" , test_s)\n",
    "        print(\"Nice:\" , test_nice)\n",
    "        continue\n",
    "            \n",
    "    print(\"String:\" , test_s)\n",
    "    print(\"Nice:\" , test_nice)"
   ]
  },
  {
   "cell_type": "markdown",
   "id": "d6cfa730",
   "metadata": {},
   "source": [
    "#### Answer"
   ]
  },
  {
   "cell_type": "code",
   "execution_count": 5,
   "id": "fcd78ded",
   "metadata": {},
   "outputs": [
    {
     "name": "stdout",
     "output_type": "stream",
     "text": [
      "51\n"
     ]
    }
   ],
   "source": [
    "counter = 0\n",
    "\n",
    "for s in strings:\n",
    "    \n",
    "    nice = True\n",
    "    \n",
    "    found_1 = False\n",
    "    \n",
    "    for i in range(len(s) - 1):\n",
    "        \n",
    "        rep = s[i] + s[i + 1]\n",
    "        \n",
    "        if (rep in s[i + 2:]):\n",
    "            \n",
    "            found_1 = True\n",
    "            break\n",
    "    \n",
    "    if (not found_1):\n",
    "        \n",
    "        continue\n",
    "        \n",
    "    found_2 = False\n",
    "    \n",
    "    for i in range(len(s) - 2):\n",
    "        \n",
    "        if (s[i] == s[i + 2]):\n",
    "            \n",
    "            found_2 = True\n",
    "    \n",
    "    if (not found_2):\n",
    "        \n",
    "        continue\n",
    "            \n",
    "    counter = counter + 1\n",
    "\n",
    "print(counter)"
   ]
  }
 ],
 "metadata": {
  "kernelspec": {
   "display_name": "Python 3",
   "language": "python",
   "name": "python3"
  },
  "language_info": {
   "codemirror_mode": {
    "name": "ipython",
    "version": 3
   },
   "file_extension": ".py",
   "mimetype": "text/x-python",
   "name": "python",
   "nbconvert_exporter": "python",
   "pygments_lexer": "ipython3",
   "version": "3.8.8"
  }
 },
 "nbformat": 4,
 "nbformat_minor": 5
}
