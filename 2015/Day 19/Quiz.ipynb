{
 "cells": [
  {
   "cell_type": "markdown",
   "id": "40d558d3",
   "metadata": {},
   "source": [
    "# --- Day 19: Medicine for Rudolph ---"
   ]
  },
  {
   "cell_type": "code",
   "execution_count": 1,
   "id": "bc4bd7ff",
   "metadata": {},
   "outputs": [],
   "source": [
    "from Quiz import *\n",
    "from copy import deepcopy\n",
    "import random"
   ]
  },
  {
   "cell_type": "markdown",
   "id": "23a24488",
   "metadata": {},
   "source": [
    "### --- Part One ---"
   ]
  },
  {
   "cell_type": "markdown",
   "id": "63bacb20",
   "metadata": {},
   "source": [
    "Rudolph the Red-Nosed Reindeer is sick! His nose isn't shining very brightly, and he needs medicine.\n",
    "\n",
    "Red-Nosed Reindeer biology isn't similar to regular reindeer biology; Rudolph is going to need custom-made medicine. Unfortunately, Red-Nosed Reindeer chemistry isn't similar to regular reindeer chemistry, either.\n",
    "\n",
    "The North Pole is equipped with a Red-Nosed Reindeer nuclear fusion/fission plant, capable of constructing any Red-Nosed Reindeer molecule you need. It works by starting with some input molecule and then doing a series of __replacements__, one per step, until it has the right molecule.\n",
    "\n",
    "However, the machine has to be calibrated before it can be used. Calibration involves determining the number of molecules that can be generated in one step from a given starting point.\n",
    "\n",
    "For example, imagine a simpler machine that supports only the following replacements:\n",
    "\n",
    "`H => HO\n",
    "H => OH\n",
    "O => HH`\n",
    "\n",
    "Given the replacements above and starting with `HOH`, the following molecules could be generated:\n",
    "\n",
    "- `HOOH` (via `H => HO` on the first `H`).\n",
    "- `HOHO` (via `H => HO` on the second `H`).\n",
    "- `OHOH` (via `H => OH` on the first `H`).\n",
    "- `HOOH` (via `H => OH` on the second `H`).\n",
    "- `HHHH` (via `O => HH`).\n",
    "\n",
    "So, in the example above, there are `4` __distinct__ molecules (not five, because `HOOH` appears twice) after one replacement from `HOH`. Santa's favorite molecule, `HOHOHO`, can become `7` __distinct__ molecules (over nine replacements: six from `H`, and three from `O`).\n",
    "\n",
    "The machine replaces without regard for the surrounding characters. For example, given the string `H2O`, the transition `H => OO` would result in `OO2O`.\n",
    "\n",
    "Your puzzle input describes all of the possible replacements and, at the bottom, the medicine molecule for which you need to calibrate the machine. \n",
    "\n",
    "__How many distinct molecules can be created__ after all the different ways you can do one replacement on the medicine molecule?"
   ]
  },
  {
   "cell_type": "code",
   "execution_count": 2,
   "id": "a6619d16",
   "metadata": {},
   "outputs": [],
   "source": [
    "def get_elements(lst):\n",
    "    \n",
    "    elements = []\n",
    "    skip = False\n",
    "\n",
    "    for i in range(len(lst)):\n",
    "\n",
    "        if (i == len(lst) - 1):\n",
    "\n",
    "            if (skip):\n",
    "\n",
    "                continue\n",
    "\n",
    "            else:\n",
    "\n",
    "                elements.append(lst[i])\n",
    "\n",
    "        else:\n",
    "\n",
    "            if (skip):\n",
    "\n",
    "                skip = False\n",
    "                continue\n",
    "\n",
    "            if (lst[i + 1].islower()):\n",
    "\n",
    "                elements.append(lst[i] + lst[i + 1])\n",
    "                skip = True\n",
    "\n",
    "            else:\n",
    "\n",
    "                elements.append(lst[i])\n",
    "\n",
    "    return elements"
   ]
  },
  {
   "cell_type": "code",
   "execution_count": 3,
   "id": "4f93de4b",
   "metadata": {},
   "outputs": [],
   "source": [
    "def get_rules(lst):\n",
    "    \n",
    "    dic = dict()\n",
    "    \n",
    "    for r in lst:\n",
    "        \n",
    "        left = r.split(\" => \")[0]\n",
    "        right = r.split(\" => \")[1]\n",
    "        \n",
    "        if (dic.get(left) == None):\n",
    "            \n",
    "            dic[left] = [right]\n",
    "            \n",
    "        else:\n",
    "            \n",
    "            rights = dic.get(left)\n",
    "            rights.append(right)\n",
    "            dic[left] = rights\n",
    "            \n",
    "    return dic"
   ]
  },
  {
   "cell_type": "markdown",
   "id": "d7d9f247",
   "metadata": {},
   "source": [
    "#### Test"
   ]
  },
  {
   "cell_type": "code",
   "execution_count": 4,
   "id": "4079e2f8",
   "metadata": {},
   "outputs": [
    {
     "name": "stdout",
     "output_type": "stream",
     "text": [
      "There are 4 distinct molecules after one replacement.\n"
     ]
    }
   ],
   "source": [
    "elements = get_elements(test_input_2)\n",
    "rules = get_rules(test_replacements_1)\n",
    "\n",
    "distinct = []\n",
    "\n",
    "for i in range(len(elements)):\n",
    "    \n",
    "    e = elements[i]\n",
    "    \n",
    "    if(rules.get(e) == None):\n",
    "        \n",
    "        continue\n",
    "    \n",
    "    for r in rules.get(e):\n",
    "        \n",
    "        new = deepcopy(elements)\n",
    "        new[i] = r\n",
    "        \n",
    "        distinct.append(\"\".join(new))\n",
    "\n",
    "distinct = set(distinct)\n",
    "\n",
    "print(\"There are\" , len(distinct) , \"distinct molecules after one replacement.\")"
   ]
  },
  {
   "cell_type": "code",
   "execution_count": 5,
   "id": "db64d38c",
   "metadata": {},
   "outputs": [
    {
     "name": "stdout",
     "output_type": "stream",
     "text": [
      "There are 7 distinct molecules after one replacement.\n"
     ]
    }
   ],
   "source": [
    "elements = get_elements(test_input_3)\n",
    "rules = get_rules(test_replacements_1)\n",
    "\n",
    "distinct = []\n",
    "\n",
    "for i in range(len(elements)):\n",
    "    \n",
    "    e = elements[i]\n",
    "    \n",
    "    if(rules.get(e) == None):\n",
    "        \n",
    "        continue\n",
    "    \n",
    "    for r in rules.get(e):\n",
    "        \n",
    "        new = deepcopy(elements)\n",
    "        new[i] = r\n",
    "        \n",
    "        distinct.append(\"\".join(new))\n",
    "\n",
    "distinct = set(distinct)\n",
    "\n",
    "print(\"There are\" , len(distinct) , \"distinct molecules after one replacement.\")"
   ]
  },
  {
   "cell_type": "code",
   "execution_count": 6,
   "id": "fa8bb126",
   "metadata": {},
   "outputs": [
    {
     "name": "stdout",
     "output_type": "stream",
     "text": [
      "There are 3 distinct molecules after one replacement.\n"
     ]
    }
   ],
   "source": [
    "elements = get_elements(test_input_4)\n",
    "rules = get_rules(test_replacements_1)\n",
    "\n",
    "distinct = []\n",
    "\n",
    "for i in range(len(elements)):\n",
    "    \n",
    "    e = elements[i]\n",
    "    \n",
    "    if(rules.get(e) == None):\n",
    "        \n",
    "        continue\n",
    "    \n",
    "    for r in rules.get(e):\n",
    "        \n",
    "        new = deepcopy(elements)\n",
    "        new[i] = r\n",
    "        \n",
    "        distinct.append(\"\".join(new))\n",
    "\n",
    "distinct = set(distinct)\n",
    "\n",
    "print(\"There are\" , len(distinct) , \"distinct molecules after one replacement.\")"
   ]
  },
  {
   "cell_type": "markdown",
   "id": "49d3e855",
   "metadata": {},
   "source": [
    "#### Answer"
   ]
  },
  {
   "cell_type": "code",
   "execution_count": 7,
   "id": "002ced50",
   "metadata": {},
   "outputs": [
    {
     "name": "stdout",
     "output_type": "stream",
     "text": [
      "There are 576 distinct molecules after one replacement.\n"
     ]
    }
   ],
   "source": [
    "elements = get_elements(input_2)\n",
    "rules = get_rules(replacements)\n",
    "\n",
    "distinct = []\n",
    "\n",
    "for i in range(len(elements)):\n",
    "    \n",
    "    e = elements[i]\n",
    "    \n",
    "    if(rules.get(e) == None):\n",
    "        \n",
    "        continue\n",
    "    \n",
    "    \n",
    "    for r in rules.get(e):\n",
    "        \n",
    "        new = deepcopy(elements)\n",
    "        new[i] = r\n",
    "        \n",
    "        distinct.append(\"\".join(new))\n",
    "\n",
    "distinct = set(distinct)\n",
    "\n",
    "print(\"There are\" , len(distinct) , \"distinct molecules after one replacement.\")"
   ]
  },
  {
   "cell_type": "markdown",
   "id": "f9610680",
   "metadata": {},
   "source": [
    "-------------------------------------"
   ]
  },
  {
   "cell_type": "markdown",
   "id": "91f6b606",
   "metadata": {},
   "source": [
    "### --- Part Two ---"
   ]
  },
  {
   "cell_type": "markdown",
   "id": "5e3c6a5c",
   "metadata": {},
   "source": [
    "Now that the machine is calibrated, you're ready to begin molecule fabrication.\n",
    "\n",
    "Molecule fabrication always begins with just a single electron, `e`, and applying replacements one at a time, just like the ones during calibration.\n",
    "\n",
    "For example, suppose you have the following replacements:\n",
    "\n",
    "`e => H\n",
    "e => O\n",
    "H => HO\n",
    "H => OH\n",
    "O => HH`\n",
    "\n",
    "If you'd like to make `HOH`, you start with `e`, and then make the following replacements:\n",
    "\n",
    "- `e => O` to get `O`\n",
    "- `O => HH` to get `HH`\n",
    "- `H => OH` (on the second `H`) to get `HOH`\n",
    "\n",
    "So, you could make `HOH` after __`3` steps__. Santa's favorite molecule, `HOHOHO`, can be made in __`6` steps__.\n",
    "\n",
    "How long will it take to make the medicine? Given the available __replacements__ and the __medicine molecule__ in your puzzle input, what is the __fewest number of steps__ to go from `e` to the medicine molecule?"
   ]
  },
  {
   "cell_type": "code",
   "execution_count": 8,
   "id": "4416a63e",
   "metadata": {},
   "outputs": [],
   "source": [
    "def get_inverted_rules(lst):\n",
    "    \n",
    "    dic = dict()\n",
    "    \n",
    "    for r in lst:\n",
    "        \n",
    "        left = r.split(\" => \")[1]\n",
    "        right = r.split(\" => \")[0]   \n",
    "        dic[left] = right\n",
    "            \n",
    "    return dic"
   ]
  },
  {
   "cell_type": "markdown",
   "id": "5495806d",
   "metadata": {},
   "source": [
    "#### Test"
   ]
  },
  {
   "cell_type": "code",
   "execution_count": 9,
   "id": "39a82b25",
   "metadata": {},
   "outputs": [
    {
     "name": "stdout",
     "output_type": "stream",
     "text": [
      "3 steps are needed to make the medicine.\n"
     ]
    }
   ],
   "source": [
    "medicine = deepcopy(test_input_2)\n",
    "rules = get_inverted_rules(test_replacements_2)\n",
    "steps = 0\n",
    "old_element = ''\n",
    "keys = list(rules.keys())\n",
    "random.shuffle(keys)\n",
    "    \n",
    "while (old_element != medicine):\n",
    "        \n",
    "    old_element = medicine\n",
    "        \n",
    "    for key in keys:\n",
    "            \n",
    "        while (key in medicine):\n",
    "                \n",
    "            steps = steps + medicine.count(key)\n",
    "            medicine = medicine.replace(key, rules[key])\n",
    "    \n",
    "print(steps , \"steps are needed to make the medicine.\")"
   ]
  },
  {
   "cell_type": "code",
   "execution_count": 10,
   "id": "2bb8b90d",
   "metadata": {},
   "outputs": [
    {
     "name": "stdout",
     "output_type": "stream",
     "text": [
      "6 steps are needed to make the medicine.\n"
     ]
    }
   ],
   "source": [
    "medicine = deepcopy(test_input_3)\n",
    "rules = get_inverted_rules(test_replacements_2)\n",
    "steps = 0\n",
    "old_element = ''\n",
    "keys = list(rules.keys())\n",
    "random.shuffle(keys)\n",
    "    \n",
    "while (old_element != medicine):\n",
    "        \n",
    "    old_element = medicine\n",
    "        \n",
    "    for key in keys:\n",
    "            \n",
    "        while (key in medicine):\n",
    "                \n",
    "            steps = steps + medicine.count(key)\n",
    "            medicine = medicine.replace(key, rules[key])\n",
    "    \n",
    "print(steps , \"steps are needed to make the medicine.\")"
   ]
  },
  {
   "cell_type": "markdown",
   "id": "d6cfa730",
   "metadata": {},
   "source": [
    "#### Answer"
   ]
  },
  {
   "cell_type": "code",
   "execution_count": 11,
   "id": "79aee8fc",
   "metadata": {},
   "outputs": [
    {
     "name": "stdout",
     "output_type": "stream",
     "text": [
      "201 steps are needed to make the medicine.\n"
     ]
    }
   ],
   "source": [
    "medicine = deepcopy(input_2)\n",
    "rules = get_inverted_rules(replacements)\n",
    "steps = 0\n",
    "old_element = ''\n",
    "keys = list(rules.keys())\n",
    "random.shuffle(keys)\n",
    "    \n",
    "while (old_element != medicine):\n",
    "        \n",
    "    old_element = medicine\n",
    "        \n",
    "    for key in keys:\n",
    "            \n",
    "        while (key in medicine):\n",
    "                \n",
    "            steps = steps + medicine.count(key)\n",
    "            medicine = medicine.replace(key, rules[key])\n",
    "    \n",
    "print(steps , \"steps are needed to make the medicine.\")"
   ]
  }
 ],
 "metadata": {
  "kernelspec": {
   "display_name": "Python 3",
   "language": "python",
   "name": "python3"
  },
  "language_info": {
   "codemirror_mode": {
    "name": "ipython",
    "version": 3
   },
   "file_extension": ".py",
   "mimetype": "text/x-python",
   "name": "python",
   "nbconvert_exporter": "python",
   "pygments_lexer": "ipython3",
   "version": "3.8.8"
  }
 },
 "nbformat": 4,
 "nbformat_minor": 5
}
