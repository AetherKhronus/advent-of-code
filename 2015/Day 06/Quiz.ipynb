{
 "cells": [
  {
   "cell_type": "markdown",
   "id": "40d558d3",
   "metadata": {},
   "source": [
    "# --- Day 6: Probably a Fire Hazard ---"
   ]
  },
  {
   "cell_type": "code",
   "execution_count": 1,
   "id": "bc4bd7ff",
   "metadata": {},
   "outputs": [],
   "source": [
    "from Quiz import *"
   ]
  },
  {
   "cell_type": "markdown",
   "id": "23a24488",
   "metadata": {},
   "source": [
    "### --- Part One ---"
   ]
  },
  {
   "cell_type": "markdown",
   "id": "63bacb20",
   "metadata": {},
   "source": [
    "Because your neighbors keep defeating you in the holiday house decorating contest year after year, you've decided to deploy one million lights in a 1000x1000 grid.\n",
    "\n",
    "Furthermore, because you've been especially nice this year, Santa has mailed you instructions on how to display the ideal lighting configuration.\n",
    "\n",
    "Lights in your grid are numbered from 0 to 999 in each direction; the lights at each corner are at `0,0`, `0,999`, `999,999`, and `999,0`. The instructions include whether to `turn on`, `turn off`, or `toggle` various inclusive ranges given as coordinate pairs. Each coordinate pair represents opposite corners of a rectangle, inclusive; a coordinate pair like `0,0 through 2,2` therefore refers to 9 lights in a 3x3 square. The lights all start turned off.\n",
    "\n",
    "To defeat your neighbors this year, all you have to do is set up your lights by doing the instructions Santa sent you in order.\n",
    "\n",
    "For example:\n",
    "\n",
    "- `turn on 0,0 through 999,999` would turn on (or leave on) every light.\n",
    "- `toggle 0,0 through 999,0` would toggle the first line of 1000 lights, turning off the ones that were on, and turning on the ones that were off.\n",
    "- `turn off 499,499 through 500,500` would turn off (or leave off) the middle four lights.\n",
    "\n",
    "After following the instructions, __how many lights are lit__?"
   ]
  },
  {
   "cell_type": "markdown",
   "id": "d7d9f247",
   "metadata": {},
   "source": [
    "#### Test"
   ]
  },
  {
   "cell_type": "code",
   "execution_count": 2,
   "id": "4079e2f8",
   "metadata": {},
   "outputs": [
    {
     "name": "stdout",
     "output_type": "stream",
     "text": [
      "Instruction: turn on 0,0 through 999,999\n",
      "Lit Lights: 1000000\n",
      "Instruction: toggle 0,0 through 999,0\n",
      "Lit Lights: 1000\n",
      "Instruction: turn on 499,499 through 500,500\n",
      "Lit Lights: 4\n"
     ]
    }
   ],
   "source": [
    "for test_i in test_instructions_1:\n",
    "    \n",
    "    test_grid = dict(grid_off_1)\n",
    "    test_counter = 0\n",
    "    test_words = test_i.split(\" \")\n",
    "    \n",
    "    if (test_words[0] == \"turn\"):\n",
    "            \n",
    "        test_coord_1 = test_words[2]\n",
    "        test_coord_1 = test_coord_1.split(',')\n",
    "        test_coord_2 = test_words[4]\n",
    "        test_coord_2 = test_coord_2.split(',')\n",
    "        \n",
    "        for l in range(int(test_coord_1[0]) , int(test_coord_2[0]) + 1):\n",
    "                \n",
    "                for c in range(int(test_coord_1[1]) , int(test_coord_2[1]) + 1):\n",
    "                    \n",
    "                    if (test_words[1] == \"on\"):\n",
    "            \n",
    "                        test_grid[(l,c)] = True\n",
    "            \n",
    "                    else:\n",
    "                    \n",
    "                        test_grid[(l,c)] = False\n",
    "    \n",
    "    else:\n",
    "        \n",
    "        test_coord_1 = test_words[1]\n",
    "        test_coord_1 = test_coord_1.split(',')\n",
    "        test_coord_2 = test_words[3]\n",
    "        test_coord_2 = test_coord_2.split(',')\n",
    "        \n",
    "        for l in range(int(test_coord_1[0]) , int(test_coord_2[0]) + 1):\n",
    "                \n",
    "                for c in range(int(test_coord_1[1]) , int(test_coord_2[1]) + 1):\n",
    "                    \n",
    "                    if (test_grid.get((l,c))):\n",
    "                        \n",
    "                        test_grid[(l,c)] = False\n",
    "            \n",
    "                    else:\n",
    "                    \n",
    "                        test_grid[(l,c)] = True\n",
    "        \n",
    "    for test_light in test_grid.values():\n",
    "        \n",
    "        if (test_light):\n",
    "            \n",
    "            test_counter = test_counter + 1\n",
    "            \n",
    "    print(\"Instruction:\" , test_i)\n",
    "    print(\"Lit Lights:\" , test_counter)"
   ]
  },
  {
   "cell_type": "markdown",
   "id": "49d3e855",
   "metadata": {},
   "source": [
    "#### Answer"
   ]
  },
  {
   "cell_type": "code",
   "execution_count": 3,
   "id": "002ced50",
   "metadata": {
    "scrolled": true
   },
   "outputs": [
    {
     "name": "stdout",
     "output_type": "stream",
     "text": [
      "Lit Lights: 377891\n"
     ]
    }
   ],
   "source": [
    "grid = dict(grid_off_1)\n",
    "counter = 0\n",
    "\n",
    "for i in instructions:\n",
    "    \n",
    "    words = i.split(\" \")\n",
    "    \n",
    "    if (words[0] == \"turn\"):\n",
    "            \n",
    "        coord_1 = words[2]\n",
    "        coord_1 = coord_1.split(',')\n",
    "        coord_2 = words[4]\n",
    "        coord_2 = coord_2.split(',')\n",
    "        \n",
    "        for l in range(int(coord_1[0]) , int(coord_2[0]) + 1):\n",
    "                \n",
    "                for c in range(int(coord_1[1]) , int(coord_2[1]) + 1):\n",
    "                    \n",
    "                    if (words[1] == \"on\"):\n",
    "            \n",
    "                        grid[(l,c)] = True\n",
    "            \n",
    "                    else:\n",
    "                    \n",
    "                        grid[(l,c)] = False\n",
    "    \n",
    "    else:\n",
    "        \n",
    "        coord_1 = words[1]\n",
    "        coord_1 = coord_1.split(',')\n",
    "        coord_2 = words[3]\n",
    "        coord_2 = coord_2.split(',')\n",
    "        \n",
    "        for l in range(int(coord_1[0]) , int(coord_2[0]) + 1):\n",
    "                \n",
    "                for c in range(int(coord_1[1]) , int(coord_2[1]) + 1):\n",
    "                    \n",
    "                    if (grid.get((l,c))):\n",
    "                        \n",
    "                        grid[(l,c)] = False\n",
    "            \n",
    "                    else:\n",
    "                    \n",
    "                        grid[(l,c)] = True\n",
    "        \n",
    "for light in grid.values():\n",
    "        \n",
    "    if (light):\n",
    "            \n",
    "        counter = counter + 1\n",
    "            \n",
    "#print(\"Instructions:\" , instructions)\n",
    "print(\"Lit Lights:\" , counter)"
   ]
  },
  {
   "cell_type": "markdown",
   "id": "f9610680",
   "metadata": {},
   "source": [
    "-------------------------------------"
   ]
  },
  {
   "cell_type": "markdown",
   "id": "91f6b606",
   "metadata": {},
   "source": [
    "### --- Part Two ---"
   ]
  },
  {
   "cell_type": "markdown",
   "id": "5e3c6a5c",
   "metadata": {},
   "source": [
    "You just finish implementing your winning light pattern when you realize you mistranslated Santa's message from Ancient Nordic Elvish.\n",
    "\n",
    "The light grid you bought actually has individual brightness controls; each light can have a brightness of zero or more. The lights all start at zero.\n",
    "\n",
    "The phrase `turn on` actually means that you should increase the brightness of those lights by `1`.\n",
    "\n",
    "The phrase `turn off` actually means that you should decrease the brightness of those lights by `1`, to a minimum of zero.\n",
    "\n",
    "The phrase `toggle` actually means that you should increase the brightness of those lights by `2`.\n",
    "\n",
    "For example:\n",
    "\n",
    "- `turn on 0,0 through 0,0` would increase the total brightness by `1`.\n",
    "- `toggle 0,0 through 999,999` would increase the total brightness by `2000000`.\n",
    "\n",
    "What is the __total brightness__ of all lights combined after following Santa's instructions?"
   ]
  },
  {
   "cell_type": "markdown",
   "id": "5495806d",
   "metadata": {},
   "source": [
    "#### Test"
   ]
  },
  {
   "cell_type": "code",
   "execution_count": 4,
   "id": "a7372920",
   "metadata": {},
   "outputs": [
    {
     "name": "stdout",
     "output_type": "stream",
     "text": [
      "Instruction: turn on 0,0 through 0,0\n",
      "Lit Lights: 1\n",
      "Instruction: toggle 0,0 through 999,999\n",
      "Lit Lights: 2000000\n"
     ]
    }
   ],
   "source": [
    "for test_i in test_instructions_2:\n",
    "    \n",
    "    test_grid = dict(grid_off_2)\n",
    "    test_counter = 0\n",
    "    test_words = test_i.split(\" \")\n",
    "    \n",
    "    if (test_words[0] == \"turn\"):\n",
    "            \n",
    "        test_coord_1 = test_words[2]\n",
    "        test_coord_1 = test_coord_1.split(',')\n",
    "        test_coord_2 = test_words[4]\n",
    "        test_coord_2 = test_coord_2.split(',')\n",
    "        \n",
    "        for l in range(int(test_coord_1[0]) , int(test_coord_2[0]) + 1):\n",
    "                \n",
    "                for c in range(int(test_coord_1[1]) , int(test_coord_2[1]) + 1):\n",
    "                    \n",
    "                    if (test_words[1] == \"on\"):\n",
    "            \n",
    "                        test_grid[(l,c)] = test_grid.get((l,c)) + 1\n",
    "            \n",
    "                    else:\n",
    "                        \n",
    "                        if (test_grid.get((l,c)) != 0):\n",
    "                            \n",
    "                            test_grid[(l,c)] = test_grid.get((l,c)) - 1\n",
    "    \n",
    "    else:\n",
    "        \n",
    "        test_coord_1 = test_words[1]\n",
    "        test_coord_1 = test_coord_1.split(',')\n",
    "        test_coord_2 = test_words[3]\n",
    "        test_coord_2 = test_coord_2.split(',')\n",
    "        \n",
    "        for l in range(int(test_coord_1[0]) , int(test_coord_2[0]) + 1):\n",
    "                \n",
    "                for c in range(int(test_coord_1[1]) , int(test_coord_2[1]) + 1):\n",
    "                    \n",
    "                    test_grid[(l,c)] = test_grid.get((l,c)) + 2\n",
    "        \n",
    "    for test_light in test_grid.values():\n",
    "            \n",
    "        test_counter = test_counter + test_light\n",
    "            \n",
    "    print(\"Instruction:\" , test_i)\n",
    "    print(\"Lit Lights:\" , test_counter)"
   ]
  },
  {
   "cell_type": "markdown",
   "id": "d6cfa730",
   "metadata": {},
   "source": [
    "#### Answer"
   ]
  },
  {
   "cell_type": "code",
   "execution_count": 5,
   "id": "fcd78ded",
   "metadata": {},
   "outputs": [
    {
     "name": "stdout",
     "output_type": "stream",
     "text": [
      "Total Brightness: 14110788\n"
     ]
    }
   ],
   "source": [
    "grid = dict(grid_off_2)\n",
    "counter = 0\n",
    "\n",
    "for i in instructions:\n",
    "    \n",
    "    words = i.split(\" \")\n",
    "    \n",
    "    if (words[0] == \"turn\"):\n",
    "            \n",
    "        coord_1 = words[2]\n",
    "        coord_1 = coord_1.split(',')\n",
    "        coord_2 = words[4]\n",
    "        coord_2 = coord_2.split(',')\n",
    "        \n",
    "        for l in range(int(coord_1[0]) , int(coord_2[0]) + 1):\n",
    "                \n",
    "                for c in range(int(coord_1[1]) , int(coord_2[1]) + 1):\n",
    "                    \n",
    "                    if (words[1] == \"on\"):\n",
    "            \n",
    "                        grid[(l,c)] = grid.get((l,c)) + 1\n",
    "            \n",
    "                    else:\n",
    "                        \n",
    "                        if (grid.get((l,c)) != 0):\n",
    "                            \n",
    "                            grid[(l,c)] = grid.get((l,c)) - 1\n",
    "    \n",
    "    else:\n",
    "        \n",
    "        coord_1 = words[1]\n",
    "        coord_1 = coord_1.split(',')\n",
    "        coord_2 = words[3]\n",
    "        coord_2 = coord_2.split(',')\n",
    "        \n",
    "        for l in range(int(coord_1[0]) , int(coord_2[0]) + 1):\n",
    "                \n",
    "                for c in range(int(coord_1[1]) , int(coord_2[1]) + 1):\n",
    "                    \n",
    "                    grid[(l,c)] = grid.get((l,c)) + 2\n",
    "        \n",
    "for light in grid.values():\n",
    "            \n",
    "    counter = counter + light\n",
    "            \n",
    "#print(\"Instructions:\" , instructions)\n",
    "print(\"Total Brightness:\" , counter)"
   ]
  }
 ],
 "metadata": {
  "kernelspec": {
   "display_name": "Python 3",
   "language": "python",
   "name": "python3"
  },
  "language_info": {
   "codemirror_mode": {
    "name": "ipython",
    "version": 3
   },
   "file_extension": ".py",
   "mimetype": "text/x-python",
   "name": "python",
   "nbconvert_exporter": "python",
   "pygments_lexer": "ipython3",
   "version": "3.8.8"
  }
 },
 "nbformat": 4,
 "nbformat_minor": 5
}
