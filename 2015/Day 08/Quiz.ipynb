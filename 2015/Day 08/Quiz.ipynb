{
 "cells": [
  {
   "cell_type": "markdown",
   "id": "40d558d3",
   "metadata": {},
   "source": [
    "# --- Day 8: Matchsticks ---"
   ]
  },
  {
   "cell_type": "code",
   "execution_count": 1,
   "id": "bc4bd7ff",
   "metadata": {},
   "outputs": [],
   "source": [
    "from Quiz import *"
   ]
  },
  {
   "cell_type": "markdown",
   "id": "23a24488",
   "metadata": {},
   "source": [
    "### --- Part One ---"
   ]
  },
  {
   "cell_type": "markdown",
   "id": "63bacb20",
   "metadata": {},
   "source": [
    "Space on the sleigh is limited this year, and so Santa will be bringing his list as a digital copy. He needs to know how much space it will take up when stored.\n",
    "\n",
    "It is common in many programming languages to provide a way to escape special characters in strings. For example, C https://en.wikipedia.org/wiki/Escape_sequences_in_C, JavaScript https://developer.mozilla.org/en-US/docs/Web/JavaScript/Reference/Global_Objects/String, Perl https://perldoc.perl.org/perlop#Quote-and-Quote-like-Operators, Python https://docs.python.org/2.0/ref/strings.html, and even PHP https://www.php.net/manual/en/language.types.string.php#language.types.string.syntax.double handle special characters in very similar ways.\n",
    "\n",
    "However, it is important to realize the difference between the number of characters __in the code representation of the string literal__ and the number of characters __in the in-memory string itself__.\n",
    "\n",
    "For example:\n",
    "\n",
    "- `\"\"` is 2 characters of code (the two double quotes), but the string contains `0` characters.\n",
    "- `\"abc\"` is `5` characters of code, but `3` characters in the string data.\n",
    "- `\"aaa\\\"aaa\"` is `10` characters of code, but the string itself contains six \"a\" characters and a single, escaped quote character, for a total of `7` characters in the string data.\n",
    "- `\"\\x27\"` is `6` characters of code, but the string itself contains just one - an apostrophe (`'`), escaped using hexadecimal notation.\n",
    "\n",
    "Santa's list is a file that contains many double-quoted string literals, one on each line. The only escape sequences used are `\\\\` (which represents a single backslash), `\\\"` (which represents a lone double-quote character), and `\\x` plus two hexadecimal characters (which represents a single character with that ASCII code).\n",
    "\n",
    "For example, given the four strings above, the total number of characters of string code (`2 + 5 + 10 + 6 = 23`) minus the total number of characters in memory for string values (`0 + 3 + 7 + 1 = 11`) is `23 - 11 = 12`.\n",
    "\n",
    "Disregarding the whitespace in the file, what is __the number of characters of code for string literals__ minus __the number of characters in memory for the values of the strings__ in total for the entire file?"
   ]
  },
  {
   "cell_type": "markdown",
   "id": "d7d9f247",
   "metadata": {},
   "source": [
    "#### Test"
   ]
  },
  {
   "cell_type": "code",
   "execution_count": 2,
   "id": "4079e2f8",
   "metadata": {},
   "outputs": [
    {
     "name": "stdout",
     "output_type": "stream",
     "text": [
      "String: ''\n",
      "Code Size: 2\n",
      "Literal Size: 0\n",
      "\n",
      "String: 'abc'\n",
      "Code Size: 5\n",
      "Literal Size: 3\n",
      "\n",
      "String: 'aaa\\\\\"aaa'\n",
      "Code Size: 10\n",
      "Literal Size: 7\n",
      "\n",
      "String: '\\\\x27'\n",
      "Code Size: 6\n",
      "Literal Size: 1\n",
      "\n"
     ]
    }
   ],
   "source": [
    "for test_s in test_strings_1:\n",
    "    \n",
    "    test_code_counter = 0\n",
    "    test_literal_counter = 0\n",
    "    \n",
    "    test_found = 0\n",
    "    \n",
    "    for test_i in range(len(test_s)):\n",
    "        \n",
    "        if (test_found != 0):\n",
    "            \n",
    "            test_found = test_found - 1\n",
    "            continue\n",
    "        \n",
    "        if (test_s[test_i] == '\\\\'):\n",
    "            \n",
    "            test_code_counter = test_code_counter + 2\n",
    "            test_literal_counter = test_literal_counter + 1\n",
    "            test_found = 1\n",
    "            \n",
    "            if (test_s[test_i + 1] == 'x'):\n",
    "                \n",
    "                test_code_counter = test_code_counter + 2\n",
    "                test_found = 3\n",
    "                \n",
    "        else:\n",
    "            \n",
    "            test_code_counter = test_code_counter + 1\n",
    "            test_literal_counter = test_literal_counter + 1\n",
    "        \n",
    "    test_code_counter = test_code_counter + 2\n",
    "    \n",
    "    print(\"String:\" , repr(test_s))\n",
    "    print(\"Code Size:\" , test_code_counter)\n",
    "    print(\"Literal Size:\" , test_literal_counter)\n",
    "    print()"
   ]
  },
  {
   "cell_type": "markdown",
   "id": "49d3e855",
   "metadata": {},
   "source": [
    "#### Answer"
   ]
  },
  {
   "cell_type": "code",
   "execution_count": 3,
   "id": "002ced50",
   "metadata": {},
   "outputs": [
    {
     "name": "stdout",
     "output_type": "stream",
     "text": [
      "Total Code Size: 6310\n",
      "Total Literal Size: 4977\n",
      "Difference: 1333\n"
     ]
    }
   ],
   "source": [
    "total_code_counter = 0\n",
    "total_literal_counter = 0\n",
    "\n",
    "for s in strings:\n",
    "    \n",
    "    code_counter = 0\n",
    "    literal_counter = 0\n",
    "    found = 0\n",
    "    \n",
    "    for i in range(len(s)):\n",
    "        \n",
    "        if (found != 0):\n",
    "            \n",
    "            found = found - 1\n",
    "            continue\n",
    "        \n",
    "        if (s[i] == '\\\\'):\n",
    "            \n",
    "            code_counter = code_counter + 2\n",
    "            literal_counter = literal_counter + 1\n",
    "            found = 1\n",
    "            \n",
    "            if (s[i + 1] == 'x'):\n",
    "                \n",
    "                code_counter = code_counter + 2\n",
    "                found = 3\n",
    "                \n",
    "        else:\n",
    "            \n",
    "            code_counter = code_counter + 1\n",
    "            literal_counter = literal_counter + 1\n",
    "        \n",
    "    code_counter = code_counter + 2\n",
    "    total_code_counter = total_code_counter + code_counter\n",
    "    total_literal_counter = total_literal_counter + literal_counter\n",
    "\n",
    "print(\"Total Code Size:\" , total_code_counter)\n",
    "print(\"Total Literal Size:\" , total_literal_counter)\n",
    "print(\"Difference:\" , total_code_counter - total_literal_counter)"
   ]
  },
  {
   "cell_type": "markdown",
   "id": "f9610680",
   "metadata": {},
   "source": [
    "-------------------------------------"
   ]
  },
  {
   "cell_type": "markdown",
   "id": "91f6b606",
   "metadata": {},
   "source": [
    "### --- Part Two ---"
   ]
  },
  {
   "cell_type": "markdown",
   "id": "5e3c6a5c",
   "metadata": {},
   "source": [
    "Now, let's go the other way. In addition to finding the number of characters of code, you should now __encode each code representation as a new string__ and find the number of characters of the new encoded representation, including the surrounding double quotes.\n",
    "\n",
    "For example:\n",
    "\n",
    "- `\"\"` encodes to `\"\\\"\\\"\"`, an increase from `2` characters to `6`.\n",
    "- `\"abc\"` encodes to `\"\\\"abc\\\"\"`, an increase from `5` characters to `9`.\n",
    "- `\"aaa\\\"aaa\"` encodes to `\"\\\"aaa\\\\\\\"aaa\\\"\"`, an increase from `10` characters to `16`.\n",
    "- `\"\\x27\"` encodes to `\"\\\"\\\\x27\\\"\"`, an increase from `6` characters to `11`.\n",
    "\n",
    "For example, for the strings above, the total encoded length (`6 + 9 + 16 + 11 = 42`) minus the characters in the original code representation (`23`, just like in the first part of this puzzle) is `42 - 23 = 19`.\n",
    "\n",
    "Your task is to find the __total number of characters to represent the newly encoded strings__ minus __the number of characters of code in each original string literal__."
   ]
  },
  {
   "cell_type": "markdown",
   "id": "5495806d",
   "metadata": {},
   "source": [
    "#### Test"
   ]
  },
  {
   "cell_type": "code",
   "execution_count": 6,
   "id": "a7372920",
   "metadata": {},
   "outputs": [
    {
     "name": "stdout",
     "output_type": "stream",
     "text": [
      "String: ''\n",
      "Old Code Size: 2\n",
      "New Code Size: 6\n",
      "\n",
      "String: 'abc'\n",
      "Old Code Size: 5\n",
      "New Code Size: 9\n",
      "\n",
      "String: 'aaa\\\\\"aaa'\n",
      "Old Code Size: 10\n",
      "New Code Size: 16\n",
      "\n",
      "String: '\\\\x27'\n",
      "Old Code Size: 6\n",
      "New Code Size: 11\n",
      "\n"
     ]
    }
   ],
   "source": [
    "for test_s in test_strings_1:\n",
    "    \n",
    "    test_old_code_counter = 0\n",
    "    test_new_code_counter = 0\n",
    "    \n",
    "    test_found = 0\n",
    "    \n",
    "    for test_i in range(len(test_s)):\n",
    "        \n",
    "        if (test_found != 0):\n",
    "            \n",
    "            test_found = test_found - 1\n",
    "            continue\n",
    "        \n",
    "        if (test_s[test_i] == '\\\\'):\n",
    "            \n",
    "            test_old_code_counter = test_old_code_counter + 2\n",
    "            test_new_code_counter = test_new_code_counter + 4\n",
    "            test_found = 1\n",
    "            \n",
    "            if (test_s[test_i + 1] == 'x'):\n",
    "                \n",
    "                test_old_code_counter = test_old_code_counter + 2\n",
    "                test_new_code_counter = test_new_code_counter + 1\n",
    "                test_found = 3\n",
    "                \n",
    "        else:\n",
    "            \n",
    "            test_old_code_counter = test_old_code_counter + 1\n",
    "            test_new_code_counter = test_new_code_counter + 1\n",
    "        \n",
    "    test_old_code_counter = test_old_code_counter + 2\n",
    "    test_new_code_counter = test_new_code_counter + 6\n",
    "    \n",
    "    print(\"String:\" , repr(test_s))\n",
    "    print(\"Old Code Size:\" , test_old_code_counter)\n",
    "    print(\"New Code Size:\" , test_new_code_counter)\n",
    "    print()"
   ]
  },
  {
   "cell_type": "markdown",
   "id": "d6cfa730",
   "metadata": {},
   "source": [
    "#### Answer"
   ]
  },
  {
   "cell_type": "code",
   "execution_count": 7,
   "id": "fcd78ded",
   "metadata": {},
   "outputs": [
    {
     "name": "stdout",
     "output_type": "stream",
     "text": [
      "Total Old Code Size: 6310\n",
      "Total New Code Size: 8356\n",
      "Difference: 2046\n"
     ]
    }
   ],
   "source": [
    "total_old_code_counter = 0\n",
    "total_new_code_counter = 0\n",
    "\n",
    "for s in strings:\n",
    "    \n",
    "    old_code_counter = 0\n",
    "    new_code_counter = 0\n",
    "    \n",
    "    found = 0\n",
    "    \n",
    "    for i in range(len(s)):\n",
    "        \n",
    "        if (found != 0):\n",
    "            \n",
    "            found = found - 1\n",
    "            continue\n",
    "        \n",
    "        if (s[i] == '\\\\'):\n",
    "            \n",
    "            old_code_counter = old_code_counter + 2\n",
    "            new_code_counter = new_code_counter + 4\n",
    "            found = 1\n",
    "            \n",
    "            if (s[i + 1] == 'x'):\n",
    "                \n",
    "                old_code_counter = old_code_counter + 2\n",
    "                new_code_counter = new_code_counter + 1\n",
    "                found = 3\n",
    "                \n",
    "        else:\n",
    "            \n",
    "            old_code_counter = old_code_counter + 1\n",
    "            new_code_counter = new_code_counter + 1\n",
    "        \n",
    "    old_code_counter = old_code_counter + 2\n",
    "    new_code_counter = new_code_counter + 6\n",
    "    \n",
    "    total_old_code_counter = total_old_code_counter + old_code_counter\n",
    "    total_new_code_counter = total_new_code_counter + new_code_counter\n",
    "\n",
    "print(\"Total Old Code Size:\" , total_old_code_counter)\n",
    "print(\"Total New Code Size:\" , total_new_code_counter)\n",
    "print(\"Difference:\" , total_new_code_counter - total_old_code_counter)"
   ]
  }
 ],
 "metadata": {
  "kernelspec": {
   "display_name": "Python 3",
   "language": "python",
   "name": "python3"
  },
  "language_info": {
   "codemirror_mode": {
    "name": "ipython",
    "version": 3
   },
   "file_extension": ".py",
   "mimetype": "text/x-python",
   "name": "python",
   "nbconvert_exporter": "python",
   "pygments_lexer": "ipython3",
   "version": "3.8.8"
  }
 },
 "nbformat": 4,
 "nbformat_minor": 5
}
