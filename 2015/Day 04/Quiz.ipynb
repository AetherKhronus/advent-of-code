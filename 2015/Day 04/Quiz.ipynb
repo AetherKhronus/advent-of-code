{
 "cells": [
  {
   "cell_type": "markdown",
   "id": "40d558d3",
   "metadata": {},
   "source": [
    "# --- Day 4: The Ideal Stocking Stuffer ---"
   ]
  },
  {
   "cell_type": "code",
   "execution_count": 1,
   "id": "bc4bd7ff",
   "metadata": {},
   "outputs": [],
   "source": [
    "from Quiz import *\n",
    "import hashlib"
   ]
  },
  {
   "cell_type": "markdown",
   "id": "23a24488",
   "metadata": {},
   "source": [
    "### --- Part One ---"
   ]
  },
  {
   "cell_type": "markdown",
   "id": "63bacb20",
   "metadata": {},
   "source": [
    "Santa needs help mining https://en.wikipedia.org/wiki/Bitcoin#Mining some AdventCoins (very similar to bitcoins https://en.wikipedia.org/wiki/Bitcoin) to use as gifts for all the economically forward-thinking little girls and boys.\n",
    "\n",
    "To do this, he needs to find MD5 https://en.wikipedia.org/wiki/MD5 hashes which, in hexadecimal https://en.wikipedia.org/wiki/Hexadecimal, start with at least __five zeroes__. The input to the MD5 hash is some secret key (your puzzle input, given below) followed by a number in decimal. To mine AdventCoins, you must find Santa the lowest positive number (no leading zeroes: `1`, `2`, `3`, ...) that produces such a hash.\n",
    "\n",
    "For example:\n",
    "\n",
    "- If your secret key is `abcdef`, the answer is `609043`, because the MD5 hash of `abcdef609043` starts with five zeroes (`000001dbbfa...`), and it is the lowest such number to do so.\n",
    "- If your secret key is `pqrstuv`, the lowest number it combines with to make an MD5 hash starting with five zeroes is `1048970`; that is, the MD5 hash of `pqrstuv1048970` looks like `000006136ef...`."
   ]
  },
  {
   "cell_type": "markdown",
   "id": "d7d9f247",
   "metadata": {},
   "source": [
    "#### Test"
   ]
  },
  {
   "cell_type": "code",
   "execution_count": 2,
   "id": "4079e2f8",
   "metadata": {
    "scrolled": true
   },
   "outputs": [
    {
     "name": "stdout",
     "output_type": "stream",
     "text": [
      "Secret Key: abcdef\n",
      "Numbers: 609043\n",
      "Hash: 000001dbbfa3a5c83a2d506429c7b00e\n",
      "Secret Key: pqrstuv\n",
      "Numbers: 1048970\n",
      "Hash: 000006136ef2ff3b291c85725f17325c\n"
     ]
    }
   ],
   "source": [
    "for has in test_hash_1:\n",
    "    \n",
    "    num = 0\n",
    "    sti = has + str(num)\n",
    "    res = hashlib.md5(sti.encode())\n",
    "    hxa = res.hexdigest()\n",
    "    \n",
    "    while (hxa[:5] != \"00000\"):\n",
    "        \n",
    "        num = num + 1\n",
    "        sti = has + str(num)\n",
    "        res = hashlib.md5(sti.encode())\n",
    "        hxa = res.hexdigest()\n",
    "            \n",
    "    print(\"Secret Key:\" , has)\n",
    "    print(\"Numbers:\" , num)\n",
    "    print(\"Hash:\" , hxa)"
   ]
  },
  {
   "cell_type": "markdown",
   "id": "49d3e855",
   "metadata": {},
   "source": [
    "#### Answer"
   ]
  },
  {
   "cell_type": "code",
   "execution_count": 3,
   "id": "002ced50",
   "metadata": {},
   "outputs": [
    {
     "name": "stdout",
     "output_type": "stream",
     "text": [
      "Secret Key: iwrupvqb\n",
      "Numbers: 346386\n",
      "Hash: 0000045c5e2b3911eb937d9d8c574f09\n"
     ]
    }
   ],
   "source": [
    "num = 0\n",
    "sti = input + str(num)\n",
    "res = hashlib.md5(sti.encode())\n",
    "hxa = res.hexdigest()\n",
    "    \n",
    "while (hxa[:5] != \"00000\"):\n",
    "        \n",
    "    num = num + 1\n",
    "    sti = input + str(num)\n",
    "    res = hashlib.md5(sti.encode())\n",
    "    hxa = res.hexdigest()\n",
    "            \n",
    "print(\"Secret Key:\" , input)\n",
    "print(\"Numbers:\" , num)\n",
    "print(\"Hash:\" , hxa)"
   ]
  },
  {
   "cell_type": "markdown",
   "id": "f9610680",
   "metadata": {},
   "source": [
    "-------------------------------------"
   ]
  },
  {
   "cell_type": "markdown",
   "id": "91f6b606",
   "metadata": {},
   "source": [
    "### --- Part Two ---"
   ]
  },
  {
   "cell_type": "markdown",
   "id": "5e3c6a5c",
   "metadata": {},
   "source": [
    "Now find one that starts with __six zeroes__."
   ]
  },
  {
   "cell_type": "markdown",
   "id": "5495806d",
   "metadata": {},
   "source": [
    "#### Test"
   ]
  },
  {
   "cell_type": "code",
   "execution_count": 4,
   "id": "a7372920",
   "metadata": {},
   "outputs": [],
   "source": [
    "#None"
   ]
  },
  {
   "cell_type": "markdown",
   "id": "d6cfa730",
   "metadata": {},
   "source": [
    "#### Answer"
   ]
  },
  {
   "cell_type": "code",
   "execution_count": 5,
   "id": "fcd78ded",
   "metadata": {},
   "outputs": [
    {
     "name": "stdout",
     "output_type": "stream",
     "text": [
      "Secret Key: iwrupvqb\n",
      "Numbers: 9958218\n",
      "Hash: 00000094434e1914548b3a1af245fb27\n"
     ]
    }
   ],
   "source": [
    "num = 0\n",
    "sti = input + str(num)\n",
    "res = hashlib.md5(sti.encode())\n",
    "hxa = res.hexdigest()\n",
    "    \n",
    "while (hxa[:6] != \"000000\"):\n",
    "        \n",
    "    num = num + 1\n",
    "    sti = input + str(num)\n",
    "    res = hashlib.md5(sti.encode())\n",
    "    hxa = res.hexdigest()\n",
    "            \n",
    "print(\"Secret Key:\" , input)\n",
    "print(\"Numbers:\" , num)\n",
    "print(\"Hash:\" , hxa)"
   ]
  }
 ],
 "metadata": {
  "kernelspec": {
   "display_name": "Python 3",
   "language": "python",
   "name": "python3"
  },
  "language_info": {
   "codemirror_mode": {
    "name": "ipython",
    "version": 3
   },
   "file_extension": ".py",
   "mimetype": "text/x-python",
   "name": "python",
   "nbconvert_exporter": "python",
   "pygments_lexer": "ipython3",
   "version": "3.8.8"
  }
 },
 "nbformat": 4,
 "nbformat_minor": 5
}
