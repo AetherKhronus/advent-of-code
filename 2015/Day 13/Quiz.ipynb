{
 "cells": [
  {
   "cell_type": "markdown",
   "id": "40d558d3",
   "metadata": {},
   "source": [
    "# --- Day 13: Knights of the Dinner Table ---"
   ]
  },
  {
   "cell_type": "code",
   "execution_count": 1,
   "id": "bc4bd7ff",
   "metadata": {},
   "outputs": [],
   "source": [
    "from Quiz import *\n",
    "from itertools import permutations"
   ]
  },
  {
   "cell_type": "markdown",
   "id": "23a24488",
   "metadata": {},
   "source": [
    "### --- Part One ---"
   ]
  },
  {
   "cell_type": "markdown",
   "id": "63bacb20",
   "metadata": {},
   "source": [
    "In years past, the holiday feast with your family hasn't gone so well. Not everyone gets along! This year, you resolve, will be different. You're going to find the __optimal seating arrangement__ and avoid all those awkward conversations.\n",
    "\n",
    "You start by writing up a list of everyone invited and the amount their happiness would increase or decrease if they were to find themselves sitting next to each other person. You have a circular table that will be just big enough to fit everyone comfortably, and so each person will have exactly two neighbors.\n",
    "\n",
    "For example, suppose you have only four attendees planned, and you calculate their potential happiness as follows:\n",
    "\n",
    "`Alice would gain 54 happiness units by sitting next to Bob.` <br>\n",
    "`Alice would lose 79 happiness units by sitting next to Carol.` <br>\n",
    "`Alice would lose 2 happiness units by sitting next to David.` <br>\n",
    "`Bob would gain 83 happiness units by sitting next to Alice.` <br>\n",
    "`Bob would lose 7 happiness units by sitting next to Carol.` <br>\n",
    "`Bob would lose 63 happiness units by sitting next to David.` <br>\n",
    "`Carol would lose 62 happiness units by sitting next to Alice.` <br>\n",
    "`Carol would gain 60 happiness units by sitting next to Bob.` <br>\n",
    "`Carol would gain 55 happiness units by sitting next to David.` <br>\n",
    "`David would gain 46 happiness units by sitting next to Alice.` <br>\n",
    "`David would lose 7 happiness units by sitting next to Bob.` <br>\n",
    "`David would gain 41 happiness units by sitting next to Carol.` <br>\n",
    "\n",
    "Then, if you seat Alice next to David, Alice would lose `2` happiness units (because David talks so much), but David would gain `46` happiness units (because Alice is such a good listener), for a total change of `44`.\n",
    "\n",
    "If you continue around the table, you could then seat Bob next to Alice (Bob gains `83`, Alice gains `54`). Finally, seat Carol, who sits next to Bob (Carol gains `60`, Bob loses `7`) and David (Carol gains `55`, David gains `41`). The arrangement looks like this:\n",
    "\n",
    "```\n",
    "     +41 +46\n",
    "+55   David    -2\n",
    "Carol       Alice\n",
    "+60    Bob    +54\n",
    "     -7  +83\n",
    "```\n",
    "     \n",
    "After trying every other seating arrangement in this hypothetical scenario, you find that this one is the most optimal, with a total change in happiness of `330`.\n",
    "\n",
    "What is the __total change in happiness__ for the optimal seating arrangement of the actual guest list?"
   ]
  },
  {
   "cell_type": "markdown",
   "id": "d7d9f247",
   "metadata": {},
   "source": [
    "#### Test"
   ]
  },
  {
   "cell_type": "code",
   "execution_count": 2,
   "id": "4079e2f8",
   "metadata": {},
   "outputs": [
    {
     "name": "stdout",
     "output_type": "stream",
     "text": [
      "\n",
      "Best Seating: ('David', 'Carol', 'Bob', 'Alice') with happiness of 330\n"
     ]
    }
   ],
   "source": [
    "neighbors = {}\n",
    "\n",
    "for f in test_happiness:\n",
    "    \n",
    "    words = f.split(\" \")\n",
    "    person = words[0]\n",
    "    gain = words[2]\n",
    "    value = int(words[3])\n",
    "    neighbor = words[10][:-1]\n",
    "    \n",
    "    if (gain == \"lose\"):\n",
    "        \n",
    "        value = -value\n",
    "    \n",
    "    if (neighbors.get(person) == None):\n",
    "        \n",
    "        neighbors[person] = {neighbor : value}\n",
    "    \n",
    "    else:\n",
    "        \n",
    "        neighbors.get(person)[neighbor] = value\n",
    "\n",
    "perm = list(permutations(neighbors.keys()))\n",
    "best_score = 0\n",
    "\n",
    "for p in perm:\n",
    "    \n",
    "    score = 0\n",
    "    \n",
    "    for i in range(len(p) - 1):\n",
    "        \n",
    "        left = \"\"\n",
    "        person = \"\"\n",
    "        right = \"\"\n",
    "        \n",
    "        if (i == 0):\n",
    "            \n",
    "            left = p[-1]\n",
    "            person = p[0]\n",
    "            right = p[1]\n",
    "            score = score + neighbors.get(person).get(left) + neighbors.get(person).get(right)\n",
    "        \n",
    "        elif (i == len(p) - 2):\n",
    "            \n",
    "            left = p[i - 1]\n",
    "            person = p[i]\n",
    "            right = p[i + 1]\n",
    "            score = score + neighbors.get(person).get(left) + neighbors.get(person).get(right)\n",
    "            \n",
    "            left = p[i]\n",
    "            person = p[i + 1]\n",
    "            right = p[0]\n",
    "            score = score + neighbors.get(person).get(left) + neighbors.get(person).get(right)\n",
    "            \n",
    "        else:\n",
    "            \n",
    "            left = p[i - 1]\n",
    "            person = p[i]\n",
    "            right = p[i + 1]\n",
    "            score = score + neighbors.get(person).get(left) + neighbors.get(person).get(right)\n",
    "        \n",
    "    best_score = max(score , best_score)\n",
    "        \n",
    "print()\n",
    "print(\"Best Seating:\" , p , \"with happiness of\" , best_score)"
   ]
  },
  {
   "cell_type": "markdown",
   "id": "49d3e855",
   "metadata": {},
   "source": [
    "#### Answer"
   ]
  },
  {
   "cell_type": "code",
   "execution_count": 3,
   "id": "002ced50",
   "metadata": {},
   "outputs": [
    {
     "name": "stdout",
     "output_type": "stream",
     "text": [
      "Best Seating: ('Mallory', 'George', 'Frank', 'Eric', 'David', 'Carol', 'Bob', 'Alice') with happiness of 664\n"
     ]
    }
   ],
   "source": [
    "neighbors = {}\n",
    "\n",
    "for f in happiness:\n",
    "    \n",
    "    words = f.split(\" \")\n",
    "    person = words[0]\n",
    "    gain = words[2]\n",
    "    value = int(words[3])\n",
    "    neighbor = words[10][:-1]\n",
    "    \n",
    "    if (gain == \"lose\"):\n",
    "        \n",
    "        value = -value\n",
    "    \n",
    "    if (neighbors.get(person) == None):\n",
    "        \n",
    "        neighbors[person] = {neighbor : value}\n",
    "    \n",
    "    else:\n",
    "        \n",
    "        neighbors.get(person)[neighbor] = value\n",
    "\n",
    "perm = list(permutations(neighbors.keys()))\n",
    "best_score = 0\n",
    "\n",
    "for p in perm:\n",
    "    \n",
    "    score = 0\n",
    "    \n",
    "    for i in range(len(p) - 1):\n",
    "        \n",
    "        left = \"\"\n",
    "        person = \"\"\n",
    "        right = \"\"\n",
    "        \n",
    "        if (i == 0):\n",
    "            \n",
    "            left = p[-1]\n",
    "            person = p[0]\n",
    "            right = p[1]\n",
    "            score = score + neighbors.get(person).get(left) + neighbors.get(person).get(right)\n",
    "        \n",
    "        elif (i == len(p) - 2):\n",
    "            \n",
    "            left = p[i - 1]\n",
    "            person = p[i]\n",
    "            right = p[i + 1]\n",
    "            score = score + neighbors.get(person).get(left) + neighbors.get(person).get(right)\n",
    "            \n",
    "            left = p[i]\n",
    "            person = p[i + 1]\n",
    "            right = p[0]\n",
    "            score = score + neighbors.get(person).get(left) + neighbors.get(person).get(right)\n",
    "            \n",
    "        else:\n",
    "            \n",
    "            left = p[i - 1]\n",
    "            person = p[i]\n",
    "            right = p[i + 1]\n",
    "            score = score + neighbors.get(person).get(left) + neighbors.get(person).get(right)\n",
    "    best_score = max(score , best_score)\n",
    "        \n",
    "print(\"Best Seating:\" , p , \"with happiness of\" , best_score)"
   ]
  },
  {
   "cell_type": "markdown",
   "id": "f9610680",
   "metadata": {},
   "source": [
    "-------------------------------------"
   ]
  },
  {
   "cell_type": "markdown",
   "id": "91f6b606",
   "metadata": {},
   "source": [
    "### --- Part Two ---"
   ]
  },
  {
   "cell_type": "markdown",
   "id": "5e3c6a5c",
   "metadata": {},
   "source": [
    "In all the commotion, you realize that you forgot to seat yourself. At this point, you're pretty apathetic toward the whole thing, and your happiness wouldn't really go up or down regardless of who you sit next to. You assume everyone else would be just as ambivalent about sitting next to you, too.\n",
    "\n",
    "So, add yourself to the list, and give all happiness relationships that involve you a score of `0`.\n",
    "\n",
    "What is the __total change in happiness__ for the optimal seating arrangement that actually includes yourself?"
   ]
  },
  {
   "cell_type": "markdown",
   "id": "5495806d",
   "metadata": {},
   "source": [
    "#### Test"
   ]
  },
  {
   "cell_type": "code",
   "execution_count": null,
   "id": "a7372920",
   "metadata": {},
   "outputs": [],
   "source": []
  },
  {
   "cell_type": "markdown",
   "id": "d6cfa730",
   "metadata": {},
   "source": [
    "#### Answer"
   ]
  },
  {
   "cell_type": "code",
   "execution_count": 4,
   "id": "fcd78ded",
   "metadata": {},
   "outputs": [
    {
     "name": "stdout",
     "output_type": "stream",
     "text": [
      "Best Seating: ('Me', 'Mallory', 'George', 'Frank', 'Eric', 'David', 'Carol', 'Bob', 'Alice') with happiness of 640\n"
     ]
    }
   ],
   "source": [
    "neighbors = {}\n",
    "\n",
    "for f in happiness:\n",
    "    \n",
    "    words = f.split(\" \")\n",
    "    person = words[0]\n",
    "    gain = words[2]\n",
    "    value = int(words[3])\n",
    "    neighbor = words[10][:-1]\n",
    "    \n",
    "    if (gain == \"lose\"):\n",
    "        \n",
    "        value = -value\n",
    "    \n",
    "    if (neighbors.get(person) == None):\n",
    "        \n",
    "        neighbors[person] = {neighbor : value}\n",
    "    \n",
    "    else:\n",
    "        \n",
    "        neighbors.get(person)[neighbor] = value\n",
    "\n",
    "neighbors[\"Me\"] = {}\n",
    "\n",
    "for k in neighbors.keys():\n",
    "    \n",
    "    neighbors.get(k)[\"Me\"] = 0\n",
    "    neighbors.get(\"Me\")[k] = 0\n",
    "\n",
    "\n",
    "\n",
    "perm = list(permutations(neighbors.keys()))\n",
    "best_score = 0\n",
    "\n",
    "for p in perm:\n",
    "    \n",
    "    score = 0\n",
    "    \n",
    "    for i in range(len(p) - 1):\n",
    "        \n",
    "        left = \"\"\n",
    "        person = \"\"\n",
    "        right = \"\"\n",
    "        \n",
    "        if (i == 0):\n",
    "            \n",
    "            left = p[-1]\n",
    "            person = p[0]\n",
    "            right = p[1]\n",
    "            score = score + neighbors.get(person).get(left) + neighbors.get(person).get(right)\n",
    "        \n",
    "        elif (i == len(p) - 2):\n",
    "            \n",
    "            left = p[i - 1]\n",
    "            person = p[i]\n",
    "            right = p[i + 1]\n",
    "            score = score + neighbors.get(person).get(left) + neighbors.get(person).get(right)\n",
    "            \n",
    "            left = p[i]\n",
    "            person = p[i + 1]\n",
    "            right = p[0]\n",
    "            score = score + neighbors.get(person).get(left) + neighbors.get(person).get(right)\n",
    "            \n",
    "        else:\n",
    "            \n",
    "            left = p[i - 1]\n",
    "            person = p[i]\n",
    "            right = p[i + 1]\n",
    "            score = score + neighbors.get(person).get(left) + neighbors.get(person).get(right)\n",
    "    best_score = max(score , best_score)\n",
    "        \n",
    "print(\"Best Seating:\" , p , \"with happiness of\" , best_score)"
   ]
  }
 ],
 "metadata": {
  "kernelspec": {
   "display_name": "Python 3",
   "language": "python",
   "name": "python3"
  },
  "language_info": {
   "codemirror_mode": {
    "name": "ipython",
    "version": 3
   },
   "file_extension": ".py",
   "mimetype": "text/x-python",
   "name": "python",
   "nbconvert_exporter": "python",
   "pygments_lexer": "ipython3",
   "version": "3.8.8"
  }
 },
 "nbformat": 4,
 "nbformat_minor": 5
}
