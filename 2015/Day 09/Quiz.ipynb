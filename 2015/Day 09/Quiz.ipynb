{
 "cells": [
  {
   "cell_type": "markdown",
   "id": "40d558d3",
   "metadata": {},
   "source": [
    "# --- Day 9: All in a Single Night ---"
   ]
  },
  {
   "cell_type": "code",
   "execution_count": 1,
   "id": "bc4bd7ff",
   "metadata": {},
   "outputs": [],
   "source": [
    "from Quiz import *"
   ]
  },
  {
   "cell_type": "markdown",
   "id": "23a24488",
   "metadata": {},
   "source": [
    "### --- Part One ---"
   ]
  },
  {
   "cell_type": "markdown",
   "id": "63bacb20",
   "metadata": {},
   "source": [
    "Every year, Santa manages to deliver all of his presents in a single night.\n",
    "\n",
    "This year, however, he has some new locations to visit; his elves have provided him the distances between every pair of locations. He can start and end at any two (different) locations he wants, but he must visit each location exactly once. What is the __shortest distance__ he can travel to achieve this?\n",
    "\n",
    "For example, given the following distances:\n",
    "\n",
    "`London to Dublin = 464` <br>\n",
    "`London to Belfast = 518` <br>\n",
    "`Dublin to Belfast = 141`\n",
    "\n",
    "The possible routes are therefore:\n",
    "\n",
    "`Dublin -> London -> Belfast = 982` <br>\n",
    "`London -> Dublin -> Belfast = 605` <br>\n",
    "`London -> Belfast -> Dublin = 659` <br>\n",
    "`Dublin -> Belfast -> London = 659` <br>\n",
    "`Belfast -> Dublin -> London = 605` <br>\n",
    "`Belfast -> London -> Dublin = 982`\n",
    "\n",
    "The shortest of these is `London -> Dublin -> Belfast = 605`, and so the answer is `605` in this example.\n",
    "\n",
    "What is the distance of the shortest route?"
   ]
  },
  {
   "cell_type": "markdown",
   "id": "d7d9f247",
   "metadata": {},
   "source": [
    "#### Test"
   ]
  },
  {
   "cell_type": "code",
   "execution_count": 5,
   "id": "5cd472f1",
   "metadata": {},
   "outputs": [
    {
     "name": "stdout",
     "output_type": "stream",
     "text": [
      "Shortest Route: 605\n"
     ]
    }
   ],
   "source": [
    "import sys\n",
    "from itertools import permutations\n",
    "\n",
    "places = set()\n",
    "dist = dict()\n",
    "\n",
    "for line in test_distances_1:\n",
    "    \n",
    "    words = line.split(\" \")\n",
    "    source = words[0]\n",
    "    dest = words[2]\n",
    "    distance = words[4]\n",
    "    \n",
    "    places.add(source)\n",
    "    places.add(dest)\n",
    "    dist.setdefault(source , dict())[dest] = int(distance)\n",
    "    dist.setdefault(dest , dict())[source] = int(distance)\n",
    "\n",
    "shortest = sys.maxsize\n",
    "\n",
    "for items in permutations(places):\n",
    "    \n",
    "    distance = sum(map(lambda x , y: dist[x][y] , items[:-1] , items[1:]))\n",
    "    shortest = min(shortest , distance)\n",
    "\n",
    "print(\"Shortest Route:\" , shortest)"
   ]
  },
  {
   "cell_type": "markdown",
   "id": "49d3e855",
   "metadata": {},
   "source": [
    "#### Answer"
   ]
  },
  {
   "cell_type": "code",
   "execution_count": 6,
   "id": "002ced50",
   "metadata": {},
   "outputs": [
    {
     "name": "stdout",
     "output_type": "stream",
     "text": [
      "Shortest Route: 141\n"
     ]
    }
   ],
   "source": [
    "import sys\n",
    "from itertools import permutations\n",
    "\n",
    "places = set()\n",
    "dist = dict()\n",
    "\n",
    "for line in distances:\n",
    "    \n",
    "    words = line.split(\" \")\n",
    "    source = words[0]\n",
    "    dest = words[2]\n",
    "    distance = words[4]\n",
    "    \n",
    "    places.add(source)\n",
    "    places.add(dest)\n",
    "    dist.setdefault(source , dict())[dest] = int(distance)\n",
    "    dist.setdefault(dest , dict())[source] = int(distance)\n",
    "\n",
    "shortest = sys.maxsize\n",
    "\n",
    "for items in permutations(places):\n",
    "    \n",
    "    distance = sum(map(lambda x , y: dist[x][y] , items[:-1] , items[1:]))\n",
    "    shortest = min(shortest , distance)\n",
    "\n",
    "print(\"Shortest Route:\" , shortest)"
   ]
  },
  {
   "cell_type": "markdown",
   "id": "f9610680",
   "metadata": {},
   "source": [
    "-------------------------------------"
   ]
  },
  {
   "cell_type": "markdown",
   "id": "91f6b606",
   "metadata": {},
   "source": [
    "### --- Part Two ---"
   ]
  },
  {
   "cell_type": "markdown",
   "id": "5e3c6a5c",
   "metadata": {},
   "source": [
    "The next year, just to show off, Santa decides to take the route with the __longest distance__ instead.\n",
    "\n",
    "He can still start and end at any two (different) locations he wants, and he still must visit each location exactly once.\n",
    "\n",
    "For example, given the distances above, the longest route would be `982` via (for example) `Dublin -> London -> Belfast`.\n",
    "\n",
    "What is the distance of the longest route?"
   ]
  },
  {
   "cell_type": "markdown",
   "id": "5495806d",
   "metadata": {},
   "source": [
    "#### Test"
   ]
  },
  {
   "cell_type": "code",
   "execution_count": 7,
   "id": "a7372920",
   "metadata": {},
   "outputs": [
    {
     "name": "stdout",
     "output_type": "stream",
     "text": [
      "Longest Route: 982\n"
     ]
    }
   ],
   "source": [
    "import sys\n",
    "from itertools import permutations\n",
    "\n",
    "places = set()\n",
    "dist = dict()\n",
    "\n",
    "for line in test_distances_1:\n",
    "    \n",
    "    words = line.split(\" \")\n",
    "    source = words[0]\n",
    "    dest = words[2]\n",
    "    distance = words[4]\n",
    "    \n",
    "    places.add(source)\n",
    "    places.add(dest)\n",
    "    dist.setdefault(source , dict())[dest] = int(distance)\n",
    "    dist.setdefault(dest , dict())[source] = int(distance)\n",
    "\n",
    "longest = 0\n",
    "\n",
    "for items in permutations(places):\n",
    "    \n",
    "    distance = sum(map(lambda x , y: dist[x][y] , items[:-1] , items[1:]))\n",
    "    longest = max(longest , distance)\n",
    "\n",
    "print(\"Longest Route:\" , longest)"
   ]
  },
  {
   "cell_type": "markdown",
   "id": "d6cfa730",
   "metadata": {},
   "source": [
    "#### Answer"
   ]
  },
  {
   "cell_type": "code",
   "execution_count": 8,
   "id": "fcd78ded",
   "metadata": {},
   "outputs": [
    {
     "name": "stdout",
     "output_type": "stream",
     "text": [
      "Longest Route: 736\n"
     ]
    }
   ],
   "source": [
    "import sys\n",
    "from itertools import permutations\n",
    "\n",
    "places = set()\n",
    "dist = dict()\n",
    "\n",
    "for line in distances:\n",
    "    \n",
    "    words = line.split(\" \")\n",
    "    source = words[0]\n",
    "    dest = words[2]\n",
    "    distance = words[4]\n",
    "    \n",
    "    places.add(source)\n",
    "    places.add(dest)\n",
    "    dist.setdefault(source , dict())[dest] = int(distance)\n",
    "    dist.setdefault(dest , dict())[source] = int(distance)\n",
    "\n",
    "longest = 0\n",
    "\n",
    "for items in permutations(places):\n",
    "    \n",
    "    distance = sum(map(lambda x , y: dist[x][y] , items[:-1] , items[1:]))\n",
    "    longest = max(longest , distance)\n",
    "\n",
    "print(\"Longest Route:\" , longest)"
   ]
  }
 ],
 "metadata": {
  "kernelspec": {
   "display_name": "Python 3",
   "language": "python",
   "name": "python3"
  },
  "language_info": {
   "codemirror_mode": {
    "name": "ipython",
    "version": 3
   },
   "file_extension": ".py",
   "mimetype": "text/x-python",
   "name": "python",
   "nbconvert_exporter": "python",
   "pygments_lexer": "ipython3",
   "version": "3.8.8"
  }
 },
 "nbformat": 4,
 "nbformat_minor": 5
}
