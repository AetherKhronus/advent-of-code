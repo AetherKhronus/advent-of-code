{
 "cells": [
  {
   "cell_type": "markdown",
   "id": "40d558d3",
   "metadata": {},
   "source": [
    "# --- Day 16: Aunt Sue ---"
   ]
  },
  {
   "cell_type": "code",
   "execution_count": 1,
   "id": "bc4bd7ff",
   "metadata": {},
   "outputs": [],
   "source": [
    "from Quiz import *"
   ]
  },
  {
   "cell_type": "markdown",
   "id": "23a24488",
   "metadata": {},
   "source": [
    "### --- Part One ---"
   ]
  },
  {
   "cell_type": "markdown",
   "id": "63bacb20",
   "metadata": {},
   "source": [
    "Your Aunt Sue has given you a wonderful gift, and you'd like to send her a thank you card. However, there's a small problem: she signed it \"From, Aunt Sue\".\n",
    "\n",
    "You have 500 Aunts named \"Sue\".\n",
    "\n",
    "So, to avoid sending the card to the wrong person, you need to figure out which Aunt Sue (which you conveniently number 1 to 500, for sanity) gave you the gift. You open the present and, as luck would have it, good ol' Aunt Sue got you a My First Crime Scene Analysis Machine! Just what you wanted. Or needed, as the case may be.\n",
    "\n",
    "The My First Crime Scene Analysis Machine (MFCSAM for short) can detect a few specific compounds in a given sample, as well as how many distinct kinds of those compounds there are. According to the instructions, these are what the MFCSAM can detect:\n",
    "\n",
    "- `children`, by human DNA age analysis.\n",
    "- `cats`. It doesn't differentiate individual breeds.\n",
    "- Several seemingly random breeds of dog: `samoyeds` https://en.wikipedia.org/wiki/Samoyed_dog , `pomeranians` https://en.wikipedia.org/wiki/Pomeranian_dog , `akitas` https://en.wikipedia.org/wiki/Akita_%28dog%29 , and `vizslas` https://en.wikipedia.org/wiki/Vizsla .\n",
    "- `goldfish`. No other kinds of fish.\n",
    "- `trees`, all in one group.\n",
    "- `cars`, presumably by exhaust or gasoline or something.\n",
    "- `perfumes`, which is handy, since many of your Aunts Sue wear a few kinds.\n",
    "\n",
    "In fact, many of your Aunts Sue have many of these. You put the wrapping from the gift into the MFCSAM. It beeps inquisitively at you a few times and then prints out a message on ticker tape https://en.wikipedia.org/wiki/Ticker_tape :\n",
    "\n",
    "- `children: 3`\n",
    "- `cats: 7`\n",
    "- `samoyeds: 2`\n",
    "- `pomeranians: 3`\n",
    "- `akitas: 0`\n",
    "- `vizslas: 0`\n",
    "- `goldfish: 5`\n",
    "- `trees: 3`\n",
    "- `cars: 2`\n",
    "- `perfumes: 1`\n",
    "\n",
    "You make a list of the things you can remember about each Aunt Sue. Things missing from your list aren't zero - you simply don't remember the value.\n",
    "\n",
    "What is the __number__ of the Sue that got you the gift?"
   ]
  },
  {
   "cell_type": "markdown",
   "id": "d7d9f247",
   "metadata": {},
   "source": [
    "#### Test"
   ]
  },
  {
   "cell_type": "code",
   "execution_count": null,
   "id": "4079e2f8",
   "metadata": {},
   "outputs": [],
   "source": []
  },
  {
   "cell_type": "markdown",
   "id": "49d3e855",
   "metadata": {},
   "source": [
    "#### Answer"
   ]
  },
  {
   "cell_type": "code",
   "execution_count": 2,
   "id": "002ced50",
   "metadata": {},
   "outputs": [
    {
     "name": "stdout",
     "output_type": "stream",
     "text": [
      "Aunt number: 103\n"
     ]
    }
   ],
   "source": [
    "info = {}\n",
    "\n",
    "for s in sue:\n",
    "    \n",
    "    words = s.split(\" \")\n",
    "    word = words[0][:-1]\n",
    "    info[word] = int(words[1])\n",
    "\n",
    "aunt = 0\n",
    "    \n",
    "for s in sues:\n",
    "    \n",
    "    words = s.split(\" \")\n",
    "    info_word_1 = words[2][:-1]\n",
    "    info_val_1 = int(words[3][:-1])\n",
    "    info_word_2 = words[4][:-1]\n",
    "    info_val_2 = int(words[5][:-1])\n",
    "    info_word_3 = words[6][:-1]\n",
    "    info_val_3 = int(words[7])\n",
    "    \n",
    "    info_1 = info.get(info_word_1) == info_val_1\n",
    "    info_2 = info.get(info_word_2) == info_val_2\n",
    "    info_3 = info.get(info_word_3) == info_val_3\n",
    "    \n",
    "    if (info_1 and info_2 and info_3):\n",
    "        \n",
    "        aunt = int(words[1][:-1])\n",
    "\n",
    "print(\"Aunt number:\" , aunt)"
   ]
  },
  {
   "cell_type": "markdown",
   "id": "f9610680",
   "metadata": {},
   "source": [
    "-------------------------------------"
   ]
  },
  {
   "cell_type": "markdown",
   "id": "91f6b606",
   "metadata": {},
   "source": [
    "### --- Part Two ---"
   ]
  },
  {
   "cell_type": "markdown",
   "id": "5e3c6a5c",
   "metadata": {},
   "source": [
    "As you're about to send the thank you note, something in the MFCSAM's instructions catches your eye. Apparently, it has an outdated retroencabulator https://www.youtube.com/watch?v=RXJKdh1KZ0w , and so the output from the machine isn't exact values - some of them indicate ranges.\n",
    "\n",
    "In particular, the `cats` and `trees` readings indicates that there are __greater than__ that many (due to the unpredictable nuclear decay of cat dander and tree pollen), while the `pomeranians` and `goldfish` readings indicate that there are __fewer than__ that many (due to the modial interaction of magnetoreluctance).\n",
    "\n",
    "What is the __number__ of the real Aunt Sue?"
   ]
  },
  {
   "cell_type": "markdown",
   "id": "5495806d",
   "metadata": {},
   "source": [
    "#### Test"
   ]
  },
  {
   "cell_type": "code",
   "execution_count": null,
   "id": "a7372920",
   "metadata": {},
   "outputs": [],
   "source": []
  },
  {
   "cell_type": "markdown",
   "id": "d6cfa730",
   "metadata": {},
   "source": [
    "#### Answer"
   ]
  },
  {
   "cell_type": "code",
   "execution_count": 3,
   "id": "fcd78ded",
   "metadata": {},
   "outputs": [
    {
     "name": "stdout",
     "output_type": "stream",
     "text": [
      "Aunt number: 405\n"
     ]
    }
   ],
   "source": [
    "info = {}\n",
    "\n",
    "for s in sue:\n",
    "    \n",
    "    words = s.split(\" \")\n",
    "    word = words[0][:-1]\n",
    "    info[word] = int(words[1])\n",
    "\n",
    "aunt = 0\n",
    "    \n",
    "for s in sues:\n",
    "    \n",
    "    words = s.split(\" \")\n",
    "    info_word_1 = words[2][:-1]\n",
    "    info_val_1 = int(words[3][:-1])\n",
    "    info_word_2 = words[4][:-1]\n",
    "    info_val_2 = int(words[5][:-1])\n",
    "    info_word_3 = words[6][:-1]\n",
    "    info_val_3 = int(words[7])\n",
    "    \n",
    "    info_1 = False\n",
    "    if (info_word_1 == \"cats\" or info_word_1 == \"trees\"):\n",
    "        \n",
    "        info_1 = info.get(info_word_1) < info_val_1\n",
    "        \n",
    "    elif (info_word_1 == \"pomeranians\" or info_word_1 == \"goldfish\"):\n",
    "        \n",
    "        info_1 = info.get(info_word_1) > info_val_1\n",
    "        \n",
    "    else:\n",
    "        \n",
    "        info_1 = info.get(info_word_1) == info_val_1\n",
    "        \n",
    "        \n",
    "    info_2 = False\n",
    "    if (info_word_2 == \"cats\" or info_word_2 == \"trees\"):\n",
    "        \n",
    "        info_2 = info.get(info_word_2) < info_val_2\n",
    "        \n",
    "    elif (info_word_2 == \"pomeranians\" or info_word_2 == \"goldfish\"):\n",
    "        \n",
    "        info_2 = info.get(info_word_2) > info_val_2\n",
    "        \n",
    "    else:\n",
    "        \n",
    "        info_2 = info.get(info_word_2) == info_val_2\n",
    "        \n",
    "    info_3 = False\n",
    "    if (info_word_3 == \"cats\" or info_word_3 == \"trees\"):\n",
    "        \n",
    "        info_3 = info.get(info_word_3) < info_val_3\n",
    "        \n",
    "    elif (info_word_3 == \"pomeranians\" or info_word_3 == \"goldfish\"):\n",
    "        \n",
    "        info_3 = info.get(info_word_3) > info_val_3\n",
    "        \n",
    "    else:\n",
    "        \n",
    "        info_3 = info.get(info_word_3) == info_val_3\n",
    "    \n",
    "    if (info_1 and info_2 and info_3):\n",
    "        \n",
    "        aunt = int(words[1][:-1])\n",
    "\n",
    "print(\"Aunt number:\" , aunt)"
   ]
  }
 ],
 "metadata": {
  "kernelspec": {
   "display_name": "Python 3",
   "language": "python",
   "name": "python3"
  },
  "language_info": {
   "codemirror_mode": {
    "name": "ipython",
    "version": 3
   },
   "file_extension": ".py",
   "mimetype": "text/x-python",
   "name": "python",
   "nbconvert_exporter": "python",
   "pygments_lexer": "ipython3",
   "version": "3.8.8"
  }
 },
 "nbformat": 4,
 "nbformat_minor": 5
}
