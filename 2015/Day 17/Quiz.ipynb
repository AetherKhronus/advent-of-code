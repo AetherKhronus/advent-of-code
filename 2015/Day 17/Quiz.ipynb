{
 "cells": [
  {
   "cell_type": "markdown",
   "id": "40d558d3",
   "metadata": {},
   "source": [
    "# --- Day 17: No Such Thing as Too Much ---"
   ]
  },
  {
   "cell_type": "code",
   "execution_count": 1,
   "id": "bc4bd7ff",
   "metadata": {},
   "outputs": [],
   "source": [
    "from Quiz import *\n",
    "from collections import Counter"
   ]
  },
  {
   "cell_type": "markdown",
   "id": "23a24488",
   "metadata": {},
   "source": [
    "### --- Part One ---"
   ]
  },
  {
   "cell_type": "markdown",
   "id": "63bacb20",
   "metadata": {},
   "source": [
    "The elves bought too much eggnog again - `150` liters this time. To fit it all into your refrigerator, you'll need to move it into smaller containers. You take an inventory of the capacities of the available containers.\n",
    "\n",
    "For example, suppose you have containers of size `20`, `15`, `10`, `5`, and `5` liters. If you need to store `25` liters, there are four ways to do it:\n",
    "\n",
    "- `15` and `10`\n",
    "- `20` and `5` (the first `5`)\n",
    "- `20` and `5` (the second `5`)\n",
    "- `15`, `5`, and `5`\n",
    "\n",
    "Filling all containers entirely, how many different __combinations of containers__ can exactly fit all `150` liters of eggnog?"
   ]
  },
  {
   "cell_type": "markdown",
   "id": "d7d9f247",
   "metadata": {},
   "source": [
    "#### Test"
   ]
  },
  {
   "cell_type": "code",
   "execution_count": 2,
   "id": "4079e2f8",
   "metadata": {},
   "outputs": [
    {
     "name": "stdout",
     "output_type": "stream",
     "text": [
      "Combinations: 4\n"
     ]
    }
   ],
   "source": [
    "total = 25\n",
    "combinations = [(a , b , c , d , e) for a in range(2) \n",
    "                                    for b in range(2) \n",
    "                                    for c in range(2)\n",
    "                                    for d in range(2) \n",
    "                                    for e in range(2) if (a * (test_containers_1[0]) +\n",
    "                                                          b * (test_containers_1[1]) +\n",
    "                                                          c * (test_containers_1[2]) +\n",
    "                                                          d * (test_containers_1[3]) +\n",
    "                                                          e * (test_containers_1[4]) == total)]\n",
    "\n",
    "print(\"Combinations:\" , len(combinations))"
   ]
  },
  {
   "cell_type": "markdown",
   "id": "49d3e855",
   "metadata": {},
   "source": [
    "#### Answer"
   ]
  },
  {
   "cell_type": "code",
   "execution_count": 3,
   "id": "002ced50",
   "metadata": {},
   "outputs": [
    {
     "name": "stdout",
     "output_type": "stream",
     "text": [
      "Combinations: 1638\n"
     ]
    }
   ],
   "source": [
    "total = 150\n",
    "combinations = [(a , b , c , d , e , f , g , h , i , j , k , l , m , n , o , p , q , r , s , t) \n",
    "                for a in range(2) \n",
    "                for b in range(2) \n",
    "                for c in range(2)\n",
    "                for d in range(2) \n",
    "                for e in range(2)\n",
    "                for f in range(2)\n",
    "                for g in range(2)\n",
    "                for h in range(2)\n",
    "                for i in range(2)\n",
    "                for j in range(2)\n",
    "                for k in range(2)\n",
    "                for l in range(2)\n",
    "                for m in range(2)\n",
    "                for n in range(2)\n",
    "                for o in range(2)\n",
    "                for p in range(2)\n",
    "                for q in range(2)\n",
    "                for r in range(2)\n",
    "                for s in range(2)\n",
    "                for t in range(2)\n",
    "                if (a * (containers[0]) +\n",
    "                    b * (containers[1]) +\n",
    "                    c * (containers[2]) +\n",
    "                    d * (containers[3]) +\n",
    "                    e * (containers[4]) +\n",
    "                    f * (containers[5]) +\n",
    "                    g * (containers[6]) +\n",
    "                    h * (containers[7]) +\n",
    "                    i * (containers[8]) +\n",
    "                    j * (containers[9]) +\n",
    "                    k * (containers[10]) +\n",
    "                    l * (containers[11]) +\n",
    "                    m * (containers[12]) +\n",
    "                    n * (containers[13]) +\n",
    "                    o * (containers[14]) +\n",
    "                    p * (containers[15]) +\n",
    "                    q * (containers[16]) +\n",
    "                    r * (containers[17]) +\n",
    "                    s * (containers[18]) +\n",
    "                    t * (containers[19]) == total)]\n",
    "\n",
    "print(\"Combinations:\" , len(combinations))"
   ]
  },
  {
   "cell_type": "markdown",
   "id": "f9610680",
   "metadata": {},
   "source": [
    "-------------------------------------"
   ]
  },
  {
   "cell_type": "markdown",
   "id": "91f6b606",
   "metadata": {},
   "source": [
    "### --- Part Two ---"
   ]
  },
  {
   "cell_type": "markdown",
   "id": "5e3c6a5c",
   "metadata": {},
   "source": [
    "While playing with all the containers in the kitchen, another load of eggnog arrives! The shipping and receiving department is requesting as many containers as you can spare.\n",
    "\n",
    "Find the minimum number of containers that can exactly fit all `150` liters of eggnog.\n",
    "\n",
    "In the example above, the minimum number of containers was two. There were three ways to use that many containers, and so the answer there would be `3`.\n",
    "\n",
    "__How many different ways__ can you fill that number of containers and still hold exactly `150` litres?"
   ]
  },
  {
   "cell_type": "markdown",
   "id": "5495806d",
   "metadata": {},
   "source": [
    "#### Test"
   ]
  },
  {
   "cell_type": "code",
   "execution_count": 4,
   "id": "a7372920",
   "metadata": {},
   "outputs": [
    {
     "name": "stdout",
     "output_type": "stream",
     "text": [
      "Ways: 3\n"
     ]
    }
   ],
   "source": [
    "total = 25\n",
    "combinations = [(a , b , c , d , e) for a in range(2) \n",
    "                                    for b in range(2) \n",
    "                                    for c in range(2)\n",
    "                                    for d in range(2) \n",
    "                                    for e in range(2) if (a * (test_containers_1[0]) +\n",
    "                                                          b * (test_containers_1[1]) +\n",
    "                                                          c * (test_containers_1[2]) +\n",
    "                                                          d * (test_containers_1[3]) +\n",
    "                                                          e * (test_containers_1[4]) == total)]\n",
    "\n",
    "min_comb = [y for z in combinations for x , y in Counter(list(z)).items() if x == 0]\n",
    "max_empty = max(min_comb)\n",
    "ways = Counter(min_comb)[max_empty]\n",
    "\n",
    "print(\"Ways:\" , ways)"
   ]
  },
  {
   "cell_type": "markdown",
   "id": "d6cfa730",
   "metadata": {},
   "source": [
    "#### Answer"
   ]
  },
  {
   "cell_type": "code",
   "execution_count": 5,
   "id": "fcd78ded",
   "metadata": {},
   "outputs": [
    {
     "name": "stdout",
     "output_type": "stream",
     "text": [
      "Ways: 17\n"
     ]
    }
   ],
   "source": [
    "total = 150\n",
    "combinations = [(a , b , c , d , e , f , g , h , i , j , k , l , m , n , o , p , q , r , s , t) \n",
    "                for a in range(2) \n",
    "                for b in range(2) \n",
    "                for c in range(2)\n",
    "                for d in range(2) \n",
    "                for e in range(2)\n",
    "                for f in range(2)\n",
    "                for g in range(2)\n",
    "                for h in range(2)\n",
    "                for i in range(2)\n",
    "                for j in range(2)\n",
    "                for k in range(2)\n",
    "                for l in range(2)\n",
    "                for m in range(2)\n",
    "                for n in range(2)\n",
    "                for o in range(2)\n",
    "                for p in range(2)\n",
    "                for q in range(2)\n",
    "                for r in range(2)\n",
    "                for s in range(2)\n",
    "                for t in range(2)\n",
    "                if (a * (containers[0]) +\n",
    "                    b * (containers[1]) +\n",
    "                    c * (containers[2]) +\n",
    "                    d * (containers[3]) +\n",
    "                    e * (containers[4]) +\n",
    "                    f * (containers[5]) +\n",
    "                    g * (containers[6]) +\n",
    "                    h * (containers[7]) +\n",
    "                    i * (containers[8]) +\n",
    "                    j * (containers[9]) +\n",
    "                    k * (containers[10]) +\n",
    "                    l * (containers[11]) +\n",
    "                    m * (containers[12]) +\n",
    "                    n * (containers[13]) +\n",
    "                    o * (containers[14]) +\n",
    "                    p * (containers[15]) +\n",
    "                    q * (containers[16]) +\n",
    "                    r * (containers[17]) +\n",
    "                    s * (containers[18]) +\n",
    "                    t * (containers[19]) == total)]\n",
    "\n",
    "min_comb = [y for z in combinations for x , y in Counter(list(z)).items() if x == 0]\n",
    "max_empty = max(min_comb)\n",
    "ways = Counter(min_comb)[max_empty]\n",
    "\n",
    "print(\"Ways:\" , ways)"
   ]
  }
 ],
 "metadata": {
  "kernelspec": {
   "display_name": "Python 3",
   "language": "python",
   "name": "python3"
  },
  "language_info": {
   "codemirror_mode": {
    "name": "ipython",
    "version": 3
   },
   "file_extension": ".py",
   "mimetype": "text/x-python",
   "name": "python",
   "nbconvert_exporter": "python",
   "pygments_lexer": "ipython3",
   "version": "3.8.8"
  }
 },
 "nbformat": 4,
 "nbformat_minor": 5
}
