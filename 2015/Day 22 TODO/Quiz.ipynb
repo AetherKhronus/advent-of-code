{
 "cells": [
  {
   "cell_type": "markdown",
   "id": "40d558d3",
   "metadata": {},
   "source": [
    "# --- Day 22: Wizard Simulator 20XX ---"
   ]
  },
  {
   "cell_type": "code",
   "execution_count": 1,
   "id": "bc4bd7ff",
   "metadata": {},
   "outputs": [],
   "source": [
    "from Quiz import *"
   ]
  },
  {
   "cell_type": "markdown",
   "id": "23a24488",
   "metadata": {},
   "source": [
    "### --- Part One ---"
   ]
  },
  {
   "cell_type": "markdown",
   "id": "63bacb20",
   "metadata": {},
   "source": [
    "Little Henry Case decides that defeating bosses with swords and stuff https://adventofcode.com/2015/day/21 is boring. Now he's playing the game with a wizard. Of course, he gets stuck on another boss and needs your help again.\n",
    "\n",
    "In this version, combat still proceeds with the player and the boss taking alternating turns. The player still goes first. Now, however, you don't get any equipment; instead, you must choose one of your spells to cast. The first character at or below `0` hit points loses.\n",
    "\n",
    "Since you're a wizard, you don't get to wear armor, and you can't attack normally. However, since you do __magic damage__, your opponent's armor is ignored, and so the boss effectively has zero armor as well. As before, if armor (from a spell, in this case) would reduce damage below `1`, it becomes `1` instead - that is, the boss' attacks always deal at least `1` damage.\n",
    "\n",
    "On each of your turns, you must select one of your spells to cast. If you cannot afford to cast any spell, you lose. Spells cost __mana__; you start with __500__ mana, but have no maximum limit. You must have enough mana to cast a spell, and its cost is immediately deducted when you cast it. Your spells are Magic Missile, Drain, Shield, Poison, and Recharge.\n",
    "\n",
    "- __Magic Missile__ costs `53` mana. It instantly does `4` damage.\n",
    "- __Drain__ costs `73` mana. It instantly does `2` damage and heals you for `2` hit points.\n",
    "- __Shield__ costs `113` mana. It starts an __effect__ that lasts for `6` turns. While it is active, your armor is increased by `7`.\n",
    "- __Poison__ costs `173` mana. It starts an __effect__ that lasts for `6` turns. At the start of each turn while it is active, it deals the boss `3` damage.\n",
    "- __Recharge__ costs `229` mana. It starts an __effect__ that lasts for `5` turns. At the start of each turn while it is active, it gives you `101` new mana.\n",
    "\n",
    "__Effects__ all work the same way. Effects apply at the start of both the player's turns and the boss' turns. Effects are created with a timer (the number of turns they last); at the start of each turn, after they apply any effect they have, their timer is decreased by one. If this decreases the timer to zero, the effect ends. You cannot cast a spell that would start an effect which is already active. However, effects can be started on the same turn they end.\n",
    "\n",
    "For example, suppose the player has `10` hit points and `250` mana, and that the boss has `13` hit points and `8` damage:\n",
    "\n",
    "`-- Player turn --` <br>\n",
    "`- Player has 10 hit points, 0 armor, 250 mana` <br>\n",
    "`- Boss has 13 hit points` <br>\n",
    "`Player casts Poison.` <br>\n",
    "\n",
    "`-- Boss turn --` <br>\n",
    "`- Player has 10 hit points, 0 armor, 77 mana` <br>\n",
    "`- Boss has 13 hit points` <br>\n",
    "`Poison deals 3 damage; its timer is now 5.` <br>\n",
    "`Boss attacks for 8 damage.` <br>\n",
    "\n",
    "`-- Player turn --` <br>\n",
    "`- Player has 2 hit points, 0 armor, 77 mana` <br>\n",
    "`- Boss has 10 hit points` <br>\n",
    "`Poison deals 3 damage; its timer is now 4.` <br>\n",
    "`Player casts Magic Missile, dealing 4 damage.` <br>\n",
    "\n",
    "`-- Boss turn --` <br>\n",
    "`- Player has 2 hit points, 0 armor, 24 mana` <br>\n",
    "`- Boss has 3 hit points` <br>\n",
    "`Poison deals 3 damage. This kills the boss, and the player wins.` <br>\n",
    "\n",
    "Now, suppose the same initial conditions, except that the boss has `14` hit points instead:\n",
    "\n",
    "`-- Player turn --` <br>\n",
    "`- Player has 10 hit points, 0 armor, 250 mana` <br>\n",
    "`- Boss has 14 hit points` <br>\n",
    "`Player casts Recharge.` <br>\n",
    "\n",
    "`-- Boss turn --` <br>\n",
    "`- Player has 10 hit points, 0 armor, 21 mana` <br>\n",
    "`- Boss has 14 hit points` <br>\n",
    "`Recharge provides 101 mana; its timer is now 4.` <br>\n",
    "`Boss attacks for 8 damage!` <br>\n",
    "\n",
    "`-- Player turn --` <br>\n",
    "`- Player has 2 hit points, 0 armor, 122 mana` <br>\n",
    "`- Boss has 14 hit points` <br>\n",
    "`Recharge provides 101 mana; its timer is now 3.` <br>\n",
    "`Player casts Shield, increasing armor by 7.` <br>\n",
    "\n",
    "`-- Boss turn --` <br>\n",
    "`- Player has 2 hit points, 7 armor, 110 mana` <br>\n",
    "`- Boss has 14 hit points` <br>\n",
    "`Shield's timer is now 5.` <br>\n",
    "`Recharge provides 101 mana; its timer is now 2.` <br>\n",
    "`Boss attacks for 8 - 7 = 1 damage!` <br>\n",
    "\n",
    "`-- Player turn --` <br>\n",
    "`- Player has 1 hit point, 7 armor, 211 mana` <br>\n",
    "`- Boss has 14 hit points` <br>\n",
    "`Shield's timer is now 4.` <br>\n",
    "`Recharge provides 101 mana; its timer is now 1.` <br>\n",
    "`Player casts Drain, dealing 2 damage, and healing 2 hit points.` <br>\n",
    "\n",
    "`-- Boss turn --` <br>\n",
    "`- Player has 3 hit points, 7 armor, 239 mana` <br>\n",
    "`- Boss has 12 hit points` <br>\n",
    "`Shield's timer is now 3.` <br>\n",
    "`Recharge provides 101 mana; its timer is now 0.` <br>\n",
    "`Recharge wears off.` <br>\n",
    "`Boss attacks for 8 - 7 = 1 damage!` <br>\n",
    "\n",
    "`-- Player turn --` <br>\n",
    "`- Player has 2 hit points, 7 armor, 340 mana` <br>\n",
    "`- Boss has 12 hit points` <br>\n",
    "`Shield's timer is now 2.` <br>\n",
    "`Player casts Poison.` <br>\n",
    "\n",
    "`-- Boss turn --` <br>\n",
    "`- Player has 2 hit points, 7 armor, 167 mana` <br>\n",
    "`- Boss has 12 hit points` <br>\n",
    "`Shield's timer is now 1.` <br>\n",
    "`Poison deals 3 damage; its timer is now 5.` <br>\n",
    "`Boss attacks for 8 - 7 = 1 damage!` <br>\n",
    "\n",
    "`-- Player turn --` <br>\n",
    "`- Player has 1 hit point, 7 armor, 167 mana` <br>\n",
    "`- Boss has 9 hit points` <br>\n",
    "`Shield's timer is now 0.` <br>\n",
    "`Shield wears off, decreasing armor by 7.` <br>\n",
    "`Poison deals 3 damage; its timer is now 4.` <br>\n",
    "`Player casts Magic Missile, dealing 4 damage.` <br>\n",
    "\n",
    "`-- Boss turn --` <br>\n",
    "`- Player has 1 hit point, 0 armor, 114 mana` <br>\n",
    "`- Boss has 2 hit points` <br>\n",
    "`Poison deals 3 damage. This kills the boss, and the player wins.` <br>\n",
    "\n",
    "You start with __50 hit points__ and __500 mana points__. \n",
    "\n",
    "The boss's actual stats are in your puzzle input. What is the __least amount of mana__ you can spend and still win the fight? (Do not include mana recharge effects as \"spending\" negative mana.)"
   ]
  },
  {
   "cell_type": "code",
   "execution_count": 2,
   "id": "bd917da5",
   "metadata": {},
   "outputs": [],
   "source": [
    "def play(player_stats , boss_stats):\n",
    "\n",
    "    player = True\n",
    "    \n",
    "    while True:\n",
    "\n",
    "        if (player):\n",
    "\n",
    "            a_dmg = player_stats.get(\"dmg\")\n",
    "            d_def = boss_stats.get(\"def\")\n",
    "            dmg_delt = a_dmg - d_def\n",
    "\n",
    "            if(dmg_delt < 1):\n",
    "\n",
    "                dmg_delt = 1\n",
    "\n",
    "            boss_stats[\"hp\"] = boss_stats.get(\"hp\") - dmg_delt\n",
    "\n",
    "            #print(\"Player deals\" , a_dmg , \"-\" , d_def , \"=\" , dmg_delt , \"damage. Boss HP goes down to\" , boss_stats.get(\"hp\"))\n",
    "            player = False\n",
    "            \n",
    "            if(boss_stats.get(\"hp\") <= 0):\n",
    "                \n",
    "                return True\n",
    "\n",
    "        else:\n",
    "\n",
    "            a_dmg = boss_stats.get(\"dmg\")\n",
    "            d_def = player_stats.get(\"def\")\n",
    "            dmg_delt = a_dmg - d_def\n",
    "\n",
    "            if(dmg_delt < 1):\n",
    "\n",
    "                dmg_delt = 1\n",
    "\n",
    "            player_stats[\"hp\"] = player_stats.get(\"hp\") - dmg_delt\n",
    "\n",
    "            #print(\"Boss deals\" , a_dmg , \"-\" , d_def , \"=\" , dmg_delt , \"damage. Player HP goes down to\" , player_stats.get(\"hp\"))\n",
    "            player = True\n",
    "            \n",
    "            if(player_stats.get(\"hp\") <= 0):\n",
    "                \n",
    "                return False"
   ]
  },
  {
   "cell_type": "code",
   "execution_count": 7,
   "id": "259e5025",
   "metadata": {},
   "outputs": [],
   "source": [
    "weapons = {1:{\"c\":8 , \"d\":4 , \"a\":0} ,\n",
    "           2:{\"c\":10 , \"d\":5 , \"a\":0} ,\n",
    "           3:{\"c\":25 , \"d\":6 , \"a\":0} ,\n",
    "           4:{\"c\":40 , \"d\":7 , \"a\":0} ,\n",
    "           5:{\"c\":74 , \"d\":8 , \"a\":0} }\n",
    "\n",
    "armors = {0:{\"c\":0 , \"d\":0 , \"a\":0} ,\n",
    "         1:{\"c\":13 , \"d\":0 , \"a\":1} ,\n",
    "         2:{\"c\":31 , \"d\":0 , \"a\":2} ,\n",
    "         3:{\"c\":53 , \"d\":0 , \"a\":3} ,\n",
    "         4:{\"c\":75 , \"d\":0 , \"a\":4} ,\n",
    "         5:{\"c\":102 , \"d\":0 , \"a\":5} }\n",
    "\n",
    "rings = {0:{\"c\":0 , \"d\":0 , \"a\":0} ,\n",
    "         1:{\"c\":25 , \"d\":1 , \"a\":0} ,\n",
    "         2:{\"c\":50 , \"d\":2 , \"a\":0} ,\n",
    "         3:{\"c\":100 , \"d\":3 , \"a\":0} ,\n",
    "         4:{\"c\":20 , \"d\":0 , \"a\":1} ,\n",
    "         5:{\"c\":40 , \"d\":0 , \"a\":2} ,\n",
    "         6:{\"c\":80 , \"d\":0 , \"a\":3} }\n",
    "\n",
    "stats_cost = []\n",
    "\n",
    "for w in range(1 , 6):\n",
    "    \n",
    "    for a in range(6):\n",
    "        \n",
    "        for r_1 in range(7):\n",
    "            \n",
    "            for r_2 in range(7):\n",
    "                \n",
    "                if (((r_1 == r_2) and (r_1 == 0)) or (r_1 != r_2)):\n",
    "                    \n",
    "                    weapon = weapons.get(w)\n",
    "                    armor = armors.get(a)\n",
    "                    ring_1 = rings.get(r_1)\n",
    "                    ring_2 = rings.get(r_2)\n",
    "\n",
    "                    t_cost = weapon.get(\"c\") + armor.get(\"c\") + ring_1.get(\"c\") + ring_2.get(\"c\")\n",
    "                    t_dmg = weapon.get(\"d\") + armor.get(\"d\") + ring_1.get(\"d\") + ring_2.get(\"d\")\n",
    "                    t_def = weapon.get(\"a\") + armor.get(\"a\") + ring_1.get(\"a\") + ring_2.get(\"a\")\n",
    "\n",
    "                    result = (t_cost , t_dmg , t_def)\n",
    "                    stats_cost.append(result)"
   ]
  },
  {
   "cell_type": "markdown",
   "id": "d7d9f247",
   "metadata": {},
   "source": [
    "#### Test"
   ]
  },
  {
   "cell_type": "code",
   "execution_count": 8,
   "id": "4079e2f8",
   "metadata": {},
   "outputs": [
    {
     "name": "stdout",
     "output_type": "stream",
     "text": [
      "Player wins? True\n"
     ]
    }
   ],
   "source": [
    "player_stats = {\"hp\":8 , \"dmg\":5 , \"def\":5}\n",
    "\n",
    "boss_hp = int(test_boss[0][12:])\n",
    "boss_dmg = int(test_boss[1][8:])\n",
    "boss_def = int(test_boss[2][7:])\n",
    "\n",
    "boss_stats = {\"hp\":boss_hp , \"dmg\":boss_dmg , \"def\":boss_def}\n",
    "\n",
    "outcome = play(player_stats , boss_stats)\n",
    "print(\"Player wins?\" , outcome)"
   ]
  },
  {
   "cell_type": "markdown",
   "id": "49d3e855",
   "metadata": {},
   "source": [
    "#### Answer"
   ]
  },
  {
   "cell_type": "code",
   "execution_count": 9,
   "id": "002ced50",
   "metadata": {},
   "outputs": [
    {
     "name": "stdout",
     "output_type": "stream",
     "text": [
      "Player wins having spent only 111 gold.\n"
     ]
    }
   ],
   "source": [
    "boss_hp = int(boss[0][12:])\n",
    "boss_dmg = int(boss[1][8:])\n",
    "boss_def = int(boss[2][7:])\n",
    "costs = []\n",
    "\n",
    "for s in stats_cost:\n",
    "    \n",
    "    boss_stats = {\"hp\":boss_hp , \"dmg\":boss_dmg , \"def\":boss_def}\n",
    "    player_stats = {\"hp\":100 , \"dmg\":0 , \"def\":0}\n",
    "    player_stats[\"dmg\"] = s[1]\n",
    "    player_stats[\"def\"] = s[2]    \n",
    "\n",
    "    outcome = play(player_stats , boss_stats)\n",
    "    \n",
    "    if (outcome):\n",
    "        \n",
    "        costs.append(s[0])\n",
    "        \n",
    "print(\"Player wins having spent only\" , min(costs) , \"gold.\")"
   ]
  },
  {
   "cell_type": "markdown",
   "id": "f9610680",
   "metadata": {},
   "source": [
    "-------------------------------------"
   ]
  },
  {
   "cell_type": "markdown",
   "id": "91f6b606",
   "metadata": {},
   "source": [
    "### --- Part Two ---"
   ]
  },
  {
   "cell_type": "markdown",
   "id": "5e3c6a5c",
   "metadata": {},
   "source": [
    "Turns out the shopkeeper is working with the boss, and can persuade you to buy whatever items he wants. The other rules still apply, and he still only has one of each item.\n",
    "\n",
    "What is the __most__ amount of gold you can spend and still __lose__ the fight?"
   ]
  },
  {
   "cell_type": "markdown",
   "id": "5495806d",
   "metadata": {},
   "source": [
    "#### Test"
   ]
  },
  {
   "cell_type": "code",
   "execution_count": null,
   "id": "a7372920",
   "metadata": {},
   "outputs": [],
   "source": []
  },
  {
   "cell_type": "markdown",
   "id": "d6cfa730",
   "metadata": {},
   "source": [
    "#### Answer"
   ]
  },
  {
   "cell_type": "code",
   "execution_count": 10,
   "id": "fcd78ded",
   "metadata": {},
   "outputs": [
    {
     "name": "stdout",
     "output_type": "stream",
     "text": [
      "Player loses having spent 188 gold.\n"
     ]
    }
   ],
   "source": [
    "boss_hp = int(boss[0][12:])\n",
    "boss_dmg = int(boss[1][8:])\n",
    "boss_def = int(boss[2][7:])\n",
    "costs = []\n",
    "\n",
    "for s in stats_cost:\n",
    "    \n",
    "    boss_stats = {\"hp\":boss_hp , \"dmg\":boss_dmg , \"def\":boss_def}\n",
    "    player_stats = {\"hp\":100 , \"dmg\":0 , \"def\":0}\n",
    "    player_stats[\"dmg\"] = s[1]\n",
    "    player_stats[\"def\"] = s[2]\n",
    "\n",
    "    outcome = play(player_stats , boss_stats)\n",
    "    \n",
    "    if (not outcome):\n",
    "        \n",
    "        costs.append(s[0])\n",
    "\n",
    "print(\"Player loses having spent\" , max(costs) , \"gold.\")"
   ]
  }
 ],
 "metadata": {
  "kernelspec": {
   "display_name": "Python 3",
   "language": "python",
   "name": "python3"
  },
  "language_info": {
   "codemirror_mode": {
    "name": "ipython",
    "version": 3
   },
   "file_extension": ".py",
   "mimetype": "text/x-python",
   "name": "python",
   "nbconvert_exporter": "python",
   "pygments_lexer": "ipython3",
   "version": "3.8.8"
  }
 },
 "nbformat": 4,
 "nbformat_minor": 5
}
