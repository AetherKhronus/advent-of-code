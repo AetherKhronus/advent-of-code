{
 "cells": [
  {
   "cell_type": "markdown",
   "id": "40d558d3",
   "metadata": {},
   "source": [
    "# --- Day 7: Some Assembly Required ---"
   ]
  },
  {
   "cell_type": "code",
   "execution_count": 1,
   "id": "bc4bd7ff",
   "metadata": {},
   "outputs": [],
   "source": [
    "from Quiz import *"
   ]
  },
  {
   "cell_type": "markdown",
   "id": "23a24488",
   "metadata": {},
   "source": [
    "### --- Part One ---"
   ]
  },
  {
   "cell_type": "markdown",
   "id": "63bacb20",
   "metadata": {},
   "source": [
    "This year, Santa brought little Bobby Tables a set of wires and bitwise logic gates https://en.wikipedia.org/wiki/Bitwise_operation! Unfortunately, little Bobby is a little under the recommended age range, and he needs help assembling the circuit.\n",
    "\n",
    "Each wire has an identifier (some lowercase letters) and can carry a 16-bit https://en.wikipedia.org/wiki/16-bit_computing signal (a number from `0` to `65535`). A signal is provided to each wire by a gate, another wire, or some specific value. Each wire can only get a signal from one source, but can provide its signal to multiple destinations. A gate provides no signal until all of its inputs have a signal.\n",
    "\n",
    "The included instructions booklet describes how to connect the parts together: `x AND y -> z` means to connect wires `x` and `y` to an AND gate, and then connect its output to wire `z`.\n",
    "\n",
    "For example:\n",
    "\n",
    "- `123 -> x` means that the signal `123` is provided to wire `x`.\n",
    "- `x AND y -> z` means that the bitwise AND https://en.wikipedia.org/wiki/Bitwise_operation#AND of wire `x` and wire `y` is provided to wire `z`.\n",
    "- `p LSHIFT 2 -> q` means that the value from wire `p` is left-shifted https://en.wikipedia.org/wiki/Logical_shift by `2` and then provided to wire `q`.\n",
    "- `NOT e -> f` means that the bitwise complement https://en.wikipedia.org/wiki/Bitwise_operation#NOT of the value from wire `e` is provided to wire `f`.\n",
    "\n",
    "Other possible gates include `OR` (bitwise OR https://en.wikipedia.org/wiki/Bitwise_operation#OR) and `RSHIFT` (right-shift https://en.wikipedia.org/wiki/Logical_shift). If, for some reason, you'd like to __emulate__ the circuit instead, almost all programming languages (for example, C https://en.wikipedia.org/wiki/Bitwise_operations_in_C, JavaScript https://developer.mozilla.org/en-US/docs/Web/JavaScript/Reference/Operators, or Python https://wiki.python.org/moin/BitwiseOperators) provide operators for these gates.\n",
    "\n",
    "For example, here is a simple circuit:\n",
    "\n",
    "`123 -> x` <br>\n",
    "`456 -> y` <br>\n",
    "`x AND y -> d` <br>\n",
    "`x OR y -> e` <br>\n",
    "`x LSHIFT 2 -> f` <br>\n",
    "`y RSHIFT 2 -> g` <br>\n",
    "`NOT x -> h` <br>\n",
    "`NOT y -> i` <br>\n",
    "\n",
    "After it is run, these are the signals on the wires:\n",
    "\n",
    "`d: 72   ` <br>\n",
    "`e: 507  ` <br>\n",
    "`f: 492  ` <br>\n",
    "`g: 114  ` <br>\n",
    "`h: 65412` <br>\n",
    "`i: 65079` <br>\n",
    "`x: 123  ` <br>\n",
    "`y: 456  ` <br>\n",
    "\n",
    "In little Bobby's kit's instructions booklet (provided as your puzzle input), what signal is ultimately provided to __wire__ `a`?"
   ]
  },
  {
   "cell_type": "markdown",
   "id": "d7d9f247",
   "metadata": {},
   "source": [
    "#### Test"
   ]
  },
  {
   "cell_type": "code",
   "execution_count": 2,
   "id": "4079e2f8",
   "metadata": {},
   "outputs": [
    {
     "name": "stdout",
     "output_type": "stream",
     "text": [
      "x : 123\n",
      "y : 456\n",
      "d : 72\n",
      "e : 507\n",
      "f : 492\n",
      "g : 114\n",
      "h : 65412\n",
      "i : 65079\n"
     ]
    }
   ],
   "source": [
    "test_wires = {}\n",
    "\n",
    "for test_i in test_instructions_1:\n",
    "    \n",
    "    test_left = test_i.split(\" -> \")[0]\n",
    "    test_left = test_left.split(\" \")\n",
    "    test_right = test_i.split(\" -> \")[1]\n",
    "    \n",
    "    if (len(test_left) == 1):\n",
    "        \n",
    "        test_wires[test_right] = int(test_left[0])\n",
    "        \n",
    "    elif (len(test_left) == 2):\n",
    "        \n",
    "        test_comp = ~ (test_wires.get(test_left[1]))\n",
    "        \n",
    "        if (test_comp < 0):\n",
    "            \n",
    "            test_wires[test_right] = max_value + test_comp + 1\n",
    "            \n",
    "        else:\n",
    "            \n",
    "            test_wires[test_right] = ~ (test_wires.get(test_left[1]))\n",
    "        \n",
    "    else:\n",
    "        \n",
    "        if (test_left[1] == \"AND\"):\n",
    "            \n",
    "            test_wires[test_right] = (test_wires.get(test_left[0])) & (test_wires.get(test_left[2]))\n",
    "            \n",
    "        elif (test_left[1] == \"OR\"):\n",
    "            \n",
    "            test_wires[test_right] = (test_wires.get(test_left[0])) | (test_wires.get(test_left[2]))\n",
    "            \n",
    "        elif (test_left[1] == \"LSHIFT\"):\n",
    "            \n",
    "            test_wires[test_right] = (test_wires.get(test_left[0])) << int(test_left[2])\n",
    "            \n",
    "        else:\n",
    "            \n",
    "            test_wires[test_right] = (test_wires.get(test_left[0])) >> int(test_left[2])\n",
    "\n",
    "for test_k , test_v in test_wires.items():\n",
    "    \n",
    "    print(test_k , \":\" , test_v)"
   ]
  },
  {
   "cell_type": "markdown",
   "id": "49d3e855",
   "metadata": {},
   "source": [
    "#### Answer"
   ]
  },
  {
   "cell_type": "code",
   "execution_count": 6,
   "id": "002ced50",
   "metadata": {
    "scrolled": false
   },
   "outputs": [
    {
     "name": "stdout",
     "output_type": "stream",
     "text": [
      "a : 0\n"
     ]
    }
   ],
   "source": [
    "wires = {}\n",
    "\n",
    "for i in instructions:\n",
    "    \n",
    "    left = i.split(\" -> \")[0]\n",
    "    left = left.split(\" \")\n",
    "    right = i.split(\" -> \")[1]\n",
    "    \n",
    "    if (len(left) == 1):\n",
    "        \n",
    "        try:\n",
    "            \n",
    "            wires[right] = int(left[0])\n",
    "            \n",
    "        except:\n",
    "            \n",
    "            if (wires.get(left[0]) == None):\n",
    "            \n",
    "                wires[left[0]] = 0\n",
    "            \n",
    "            wires[right] = wires.get(left[0])\n",
    "        \n",
    "    elif (len(left) == 2):\n",
    "        \n",
    "        if (wires.get(left[1]) == None):\n",
    "            \n",
    "            wires[left[1]] = 0\n",
    "        \n",
    "        comp = ~ (wires.get(left[1]))\n",
    "        \n",
    "        if (comp < 0):\n",
    "            \n",
    "            wires[right] = max_value + comp + 1\n",
    "            \n",
    "        else:\n",
    "            \n",
    "            wires[right] = ~ (wires.get(left[1]))\n",
    "        \n",
    "    else:\n",
    "        \n",
    "        if (left[1] == \"AND\"):\n",
    "            \n",
    "            try:\n",
    "                \n",
    "                num = int(left[0])\n",
    "                \n",
    "                if (wires.get(left[2]) == None):\n",
    "            \n",
    "                    wires[left[2]] = 0\n",
    "\n",
    "                wires[right] = num & (wires.get(left[2]))\n",
    "\n",
    "            except:\n",
    "                    \n",
    "                if (wires.get(left[0]) == None):\n",
    "\n",
    "                    wires[left[0]] = 0\n",
    "\n",
    "                if (wires.get(left[2]) == None):\n",
    "\n",
    "                    wires[left[2]] = 0\n",
    "\n",
    "                wires[right] = (wires.get(left[0])) & (wires.get(left[2]))\n",
    "            \n",
    "        elif (left[1] == \"OR\"):\n",
    "            \n",
    "            if (wires.get(left[0]) == None):\n",
    "            \n",
    "                wires[left[0]] = 0\n",
    "            \n",
    "            if (wires.get(left[2]) == None):\n",
    "            \n",
    "                wires[left[2]] = 0\n",
    "            \n",
    "            wires[right] = (wires.get(left[0])) | (wires.get(left[2]))\n",
    "            \n",
    "        elif (left[1] == \"LSHIFT\"):\n",
    "            \n",
    "            if (wires.get(left[0]) == None):\n",
    "            \n",
    "                wires[left[0]] = 0\n",
    "            \n",
    "            wires[right] = (wires.get(left[0])) << int(left[2])\n",
    "            \n",
    "        else:\n",
    "            \n",
    "            if (wires.get(left[0]) == None):\n",
    "            \n",
    "                wires[left[0]] = 0\n",
    "            \n",
    "            wires[right] = (wires.get(left[0])) >> int(left[2])\n",
    "\n",
    "print(\"a :\" , wires.get('a')) #0"
   ]
  },
  {
   "cell_type": "markdown",
   "id": "f9610680",
   "metadata": {},
   "source": [
    "-------------------------------------"
   ]
  },
  {
   "cell_type": "markdown",
   "id": "91f6b606",
   "metadata": {},
   "source": [
    "### --- Part Two ---"
   ]
  },
  {
   "cell_type": "markdown",
   "id": "5e3c6a5c",
   "metadata": {},
   "source": [
    "Now, given the same instructions, find the __position__ of the first character that causes him to enter the basement (floor `-1`). The first character in the instructions has position `1`, the second character has position `2`, and so on.\n",
    "\n",
    "For example:\n",
    "\n",
    "- `)` causes him to enter the basement at character position `1`. <br>\n",
    "- `()())` causes him to enter the basement at character position `5`. <br>\n",
    "\n",
    "What is the __position__ of the character that causes Santa to first enter the basement?"
   ]
  },
  {
   "cell_type": "markdown",
   "id": "5495806d",
   "metadata": {},
   "source": [
    "#### Test"
   ]
  },
  {
   "cell_type": "code",
   "execution_count": null,
   "id": "a7372920",
   "metadata": {},
   "outputs": [],
   "source": [
    "  "
   ]
  },
  {
   "cell_type": "markdown",
   "id": "d6cfa730",
   "metadata": {},
   "source": [
    "#### Answer"
   ]
  },
  {
   "cell_type": "code",
   "execution_count": null,
   "id": "fcd78ded",
   "metadata": {},
   "outputs": [],
   "source": []
  }
 ],
 "metadata": {
  "kernelspec": {
   "display_name": "Python 3",
   "language": "python",
   "name": "python3"
  },
  "language_info": {
   "codemirror_mode": {
    "name": "ipython",
    "version": 3
   },
   "file_extension": ".py",
   "mimetype": "text/x-python",
   "name": "python",
   "nbconvert_exporter": "python",
   "pygments_lexer": "ipython3",
   "version": "3.8.8"
  }
 },
 "nbformat": 4,
 "nbformat_minor": 5
}
